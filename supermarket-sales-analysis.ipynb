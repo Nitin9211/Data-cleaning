{
 "cells": [
  {
   "cell_type": "code",
   "execution_count": 1,
   "id": "9686cbdf",
   "metadata": {
    "_cell_guid": "b1076dfc-b9ad-4769-8c92-a6c4dae69d19",
    "_uuid": "8f2839f25d086af736a60e9eeb907d3b93b6e0e5",
    "execution": {
     "iopub.execute_input": "2023-01-16T20:35:53.824884Z",
     "iopub.status.busy": "2023-01-16T20:35:53.824126Z",
     "iopub.status.idle": "2023-01-16T20:35:53.847352Z",
     "shell.execute_reply": "2023-01-16T20:35:53.846519Z"
    },
    "papermill": {
     "duration": 0.054368,
     "end_time": "2023-01-16T20:35:53.850836",
     "exception": false,
     "start_time": "2023-01-16T20:35:53.796468",
     "status": "completed"
    },
    "tags": []
   },
   "outputs": [
    {
     "name": "stdout",
     "output_type": "stream",
     "text": [
      "/kaggle/input/supermarket-sales/supermarket_sales - Sheet1.csv\n"
     ]
    }
   ],
   "source": [
    "# This Python 3 environment comes with many helpful analytics libraries installed\n",
    "# It is defined by the kaggle/python Docker image: https://github.com/kaggle/docker-python\n",
    "# For example, here's several helpful packages to load\n",
    "\n",
    "import numpy as np # linear algebra\n",
    "import pandas as pd # data processing, CSV file I/O (e.g. pd.read_csv)\n",
    "\n",
    "# Input data files are available in the read-only \"../input/\" directory\n",
    "# For example, running this (by clicking run or pressing Shift+Enter) will list all files under the input directory\n",
    "\n",
    "import os\n",
    "for dirname, _, filenames in os.walk('/kaggle/input'):\n",
    "    for filename in filenames:\n",
    "        print(os.path.join(dirname, filename))\n",
    "\n",
    "# You can write up to 20GB to the current directory (/kaggle/working/) that gets preserved as output when you create a version using \"Save & Run All\" \n",
    "# You can also write temporary files to /kaggle/temp/, but they won't be saved outside of the current session"
   ]
  },
  {
   "cell_type": "markdown",
   "id": "22dfe84e",
   "metadata": {
    "papermill": {
     "duration": 0.023127,
     "end_time": "2023-01-16T20:35:53.899828",
     "exception": false,
     "start_time": "2023-01-16T20:35:53.876701",
     "status": "completed"
    },
    "tags": []
   },
   "source": [
    "### About Dataset\n",
    "The growth of supermarkets in most populated cities are increasing and market competitions are also high. The dataset is one of the historical sales of supermarket company which has recorded in 3 different branches for 3 months data. Predictive data analytics methods are easy to apply with this dataset.\n",
    "\n",
    "Attribute information\n",
    "\n",
    "Invoice id: Computer generated sales slip invoice identification number\n",
    "\n",
    "Branch: Branch of supercenter (3 branches are available identified by A, B and C).\n",
    "\n",
    "City: Location of supercenters\n",
    "\n",
    "Customer type: Type of customers, recorded by Members for customers using member card and Normal for without member card.\n",
    "\n",
    "Gender: Gender type of customer\n",
    "\n",
    "Product line: General item categorization groups - Electronic accessories, Fashion accessories, Food and beverages, Health and beauty, Home and lifestyle, Sports and travel\n",
    "\n",
    "Unit price: Price of each product in $\n",
    "\n",
    "Quantity: Number of products purchased by customer\n",
    "\n",
    "Tax: 5% tax fee for customer buying\n",
    "\n",
    "Total: Total price including tax\n",
    "\n",
    "Date: Date of purchase (Record available from January 2019 to March 2019)\n",
    "\n",
    "Time: Purchase time (10am to 9pm)\n",
    "\n",
    "Payment: Payment used by customer for purchase (3 methods are available – Cash, Credit card and Ewallet)\n",
    "\n",
    "COGS: Cost of goods sold\n",
    "\n",
    "Gross margin percentage: Gross margin percentage\n",
    "\n",
    "Gross income: Gross income\n",
    "\n",
    "Rating: Customer stratification rating on their overall shopping experience (On a scale of 1 to 10)"
   ]
  },
  {
   "cell_type": "markdown",
   "id": "08b8b882",
   "metadata": {
    "papermill": {
     "duration": 0.023183,
     "end_time": "2023-01-16T20:35:53.946474",
     "exception": false,
     "start_time": "2023-01-16T20:35:53.923291",
     "status": "completed"
    },
    "tags": []
   },
   "source": [
    "### Importing Necessary Libraries**¶\n"
   ]
  },
  {
   "cell_type": "code",
   "execution_count": 2,
   "id": "6b1998f0",
   "metadata": {
    "execution": {
     "iopub.execute_input": "2023-01-16T20:35:53.995460Z",
     "iopub.status.busy": "2023-01-16T20:35:53.994736Z",
     "iopub.status.idle": "2023-01-16T20:35:54.949335Z",
     "shell.execute_reply": "2023-01-16T20:35:54.948222Z"
    },
    "papermill": {
     "duration": 0.982249,
     "end_time": "2023-01-16T20:35:54.952079",
     "exception": false,
     "start_time": "2023-01-16T20:35:53.969830",
     "status": "completed"
    },
    "tags": []
   },
   "outputs": [],
   "source": [
    "import pandas as pd\n",
    "import numpy as np\n",
    "import matplotlib.pyplot as plt\n",
    "import seaborn as sns\n"
   ]
  },
  {
   "cell_type": "markdown",
   "id": "b29deef0",
   "metadata": {
    "papermill": {
     "duration": 0.023267,
     "end_time": "2023-01-16T20:35:54.999000",
     "exception": false,
     "start_time": "2023-01-16T20:35:54.975733",
     "status": "completed"
    },
    "tags": []
   },
   "source": [
    "## Loading Dataset"
   ]
  },
  {
   "cell_type": "code",
   "execution_count": 3,
   "id": "798c9062",
   "metadata": {
    "execution": {
     "iopub.execute_input": "2023-01-16T20:35:55.047946Z",
     "iopub.status.busy": "2023-01-16T20:35:55.047500Z",
     "iopub.status.idle": "2023-01-16T20:35:55.106037Z",
     "shell.execute_reply": "2023-01-16T20:35:55.104865Z"
    },
    "papermill": {
     "duration": 0.085863,
     "end_time": "2023-01-16T20:35:55.108554",
     "exception": false,
     "start_time": "2023-01-16T20:35:55.022691",
     "status": "completed"
    },
    "tags": []
   },
   "outputs": [
    {
     "data": {
      "text/html": [
       "<div>\n",
       "<style scoped>\n",
       "    .dataframe tbody tr th:only-of-type {\n",
       "        vertical-align: middle;\n",
       "    }\n",
       "\n",
       "    .dataframe tbody tr th {\n",
       "        vertical-align: top;\n",
       "    }\n",
       "\n",
       "    .dataframe thead th {\n",
       "        text-align: right;\n",
       "    }\n",
       "</style>\n",
       "<table border=\"1\" class=\"dataframe\">\n",
       "  <thead>\n",
       "    <tr style=\"text-align: right;\">\n",
       "      <th></th>\n",
       "      <th>Invoice ID</th>\n",
       "      <th>Branch</th>\n",
       "      <th>City</th>\n",
       "      <th>Customer type</th>\n",
       "      <th>Gender</th>\n",
       "      <th>Product line</th>\n",
       "      <th>Unit price</th>\n",
       "      <th>Quantity</th>\n",
       "      <th>Tax 5%</th>\n",
       "      <th>Total</th>\n",
       "      <th>Date</th>\n",
       "      <th>Time</th>\n",
       "      <th>Payment</th>\n",
       "      <th>cogs</th>\n",
       "      <th>gross margin percentage</th>\n",
       "      <th>gross income</th>\n",
       "      <th>Rating</th>\n",
       "    </tr>\n",
       "  </thead>\n",
       "  <tbody>\n",
       "    <tr>\n",
       "      <th>0</th>\n",
       "      <td>750-67-8428</td>\n",
       "      <td>A</td>\n",
       "      <td>Yangon</td>\n",
       "      <td>Member</td>\n",
       "      <td>Female</td>\n",
       "      <td>Health and beauty</td>\n",
       "      <td>74.69</td>\n",
       "      <td>7</td>\n",
       "      <td>26.1415</td>\n",
       "      <td>548.9715</td>\n",
       "      <td>1/5/2019</td>\n",
       "      <td>13:08</td>\n",
       "      <td>Ewallet</td>\n",
       "      <td>522.83</td>\n",
       "      <td>4.761905</td>\n",
       "      <td>26.1415</td>\n",
       "      <td>9.1</td>\n",
       "    </tr>\n",
       "    <tr>\n",
       "      <th>1</th>\n",
       "      <td>226-31-3081</td>\n",
       "      <td>C</td>\n",
       "      <td>Naypyitaw</td>\n",
       "      <td>Normal</td>\n",
       "      <td>Female</td>\n",
       "      <td>Electronic accessories</td>\n",
       "      <td>15.28</td>\n",
       "      <td>5</td>\n",
       "      <td>3.8200</td>\n",
       "      <td>80.2200</td>\n",
       "      <td>3/8/2019</td>\n",
       "      <td>10:29</td>\n",
       "      <td>Cash</td>\n",
       "      <td>76.40</td>\n",
       "      <td>4.761905</td>\n",
       "      <td>3.8200</td>\n",
       "      <td>9.6</td>\n",
       "    </tr>\n",
       "    <tr>\n",
       "      <th>2</th>\n",
       "      <td>631-41-3108</td>\n",
       "      <td>A</td>\n",
       "      <td>Yangon</td>\n",
       "      <td>Normal</td>\n",
       "      <td>Male</td>\n",
       "      <td>Home and lifestyle</td>\n",
       "      <td>46.33</td>\n",
       "      <td>7</td>\n",
       "      <td>16.2155</td>\n",
       "      <td>340.5255</td>\n",
       "      <td>3/3/2019</td>\n",
       "      <td>13:23</td>\n",
       "      <td>Credit card</td>\n",
       "      <td>324.31</td>\n",
       "      <td>4.761905</td>\n",
       "      <td>16.2155</td>\n",
       "      <td>7.4</td>\n",
       "    </tr>\n",
       "    <tr>\n",
       "      <th>3</th>\n",
       "      <td>123-19-1176</td>\n",
       "      <td>A</td>\n",
       "      <td>Yangon</td>\n",
       "      <td>Member</td>\n",
       "      <td>Male</td>\n",
       "      <td>Health and beauty</td>\n",
       "      <td>58.22</td>\n",
       "      <td>8</td>\n",
       "      <td>23.2880</td>\n",
       "      <td>489.0480</td>\n",
       "      <td>1/27/2019</td>\n",
       "      <td>20:33</td>\n",
       "      <td>Ewallet</td>\n",
       "      <td>465.76</td>\n",
       "      <td>4.761905</td>\n",
       "      <td>23.2880</td>\n",
       "      <td>8.4</td>\n",
       "    </tr>\n",
       "    <tr>\n",
       "      <th>4</th>\n",
       "      <td>373-73-7910</td>\n",
       "      <td>A</td>\n",
       "      <td>Yangon</td>\n",
       "      <td>Normal</td>\n",
       "      <td>Male</td>\n",
       "      <td>Sports and travel</td>\n",
       "      <td>86.31</td>\n",
       "      <td>7</td>\n",
       "      <td>30.2085</td>\n",
       "      <td>634.3785</td>\n",
       "      <td>2/8/2019</td>\n",
       "      <td>10:37</td>\n",
       "      <td>Ewallet</td>\n",
       "      <td>604.17</td>\n",
       "      <td>4.761905</td>\n",
       "      <td>30.2085</td>\n",
       "      <td>5.3</td>\n",
       "    </tr>\n",
       "    <tr>\n",
       "      <th>...</th>\n",
       "      <td>...</td>\n",
       "      <td>...</td>\n",
       "      <td>...</td>\n",
       "      <td>...</td>\n",
       "      <td>...</td>\n",
       "      <td>...</td>\n",
       "      <td>...</td>\n",
       "      <td>...</td>\n",
       "      <td>...</td>\n",
       "      <td>...</td>\n",
       "      <td>...</td>\n",
       "      <td>...</td>\n",
       "      <td>...</td>\n",
       "      <td>...</td>\n",
       "      <td>...</td>\n",
       "      <td>...</td>\n",
       "      <td>...</td>\n",
       "    </tr>\n",
       "    <tr>\n",
       "      <th>995</th>\n",
       "      <td>233-67-5758</td>\n",
       "      <td>C</td>\n",
       "      <td>Naypyitaw</td>\n",
       "      <td>Normal</td>\n",
       "      <td>Male</td>\n",
       "      <td>Health and beauty</td>\n",
       "      <td>40.35</td>\n",
       "      <td>1</td>\n",
       "      <td>2.0175</td>\n",
       "      <td>42.3675</td>\n",
       "      <td>1/29/2019</td>\n",
       "      <td>13:46</td>\n",
       "      <td>Ewallet</td>\n",
       "      <td>40.35</td>\n",
       "      <td>4.761905</td>\n",
       "      <td>2.0175</td>\n",
       "      <td>6.2</td>\n",
       "    </tr>\n",
       "    <tr>\n",
       "      <th>996</th>\n",
       "      <td>303-96-2227</td>\n",
       "      <td>B</td>\n",
       "      <td>Mandalay</td>\n",
       "      <td>Normal</td>\n",
       "      <td>Female</td>\n",
       "      <td>Home and lifestyle</td>\n",
       "      <td>97.38</td>\n",
       "      <td>10</td>\n",
       "      <td>48.6900</td>\n",
       "      <td>1022.4900</td>\n",
       "      <td>3/2/2019</td>\n",
       "      <td>17:16</td>\n",
       "      <td>Ewallet</td>\n",
       "      <td>973.80</td>\n",
       "      <td>4.761905</td>\n",
       "      <td>48.6900</td>\n",
       "      <td>4.4</td>\n",
       "    </tr>\n",
       "    <tr>\n",
       "      <th>997</th>\n",
       "      <td>727-02-1313</td>\n",
       "      <td>A</td>\n",
       "      <td>Yangon</td>\n",
       "      <td>Member</td>\n",
       "      <td>Male</td>\n",
       "      <td>Food and beverages</td>\n",
       "      <td>31.84</td>\n",
       "      <td>1</td>\n",
       "      <td>1.5920</td>\n",
       "      <td>33.4320</td>\n",
       "      <td>2/9/2019</td>\n",
       "      <td>13:22</td>\n",
       "      <td>Cash</td>\n",
       "      <td>31.84</td>\n",
       "      <td>4.761905</td>\n",
       "      <td>1.5920</td>\n",
       "      <td>7.7</td>\n",
       "    </tr>\n",
       "    <tr>\n",
       "      <th>998</th>\n",
       "      <td>347-56-2442</td>\n",
       "      <td>A</td>\n",
       "      <td>Yangon</td>\n",
       "      <td>Normal</td>\n",
       "      <td>Male</td>\n",
       "      <td>Home and lifestyle</td>\n",
       "      <td>65.82</td>\n",
       "      <td>1</td>\n",
       "      <td>3.2910</td>\n",
       "      <td>69.1110</td>\n",
       "      <td>2/22/2019</td>\n",
       "      <td>15:33</td>\n",
       "      <td>Cash</td>\n",
       "      <td>65.82</td>\n",
       "      <td>4.761905</td>\n",
       "      <td>3.2910</td>\n",
       "      <td>4.1</td>\n",
       "    </tr>\n",
       "    <tr>\n",
       "      <th>999</th>\n",
       "      <td>849-09-3807</td>\n",
       "      <td>A</td>\n",
       "      <td>Yangon</td>\n",
       "      <td>Member</td>\n",
       "      <td>Female</td>\n",
       "      <td>Fashion accessories</td>\n",
       "      <td>88.34</td>\n",
       "      <td>7</td>\n",
       "      <td>30.9190</td>\n",
       "      <td>649.2990</td>\n",
       "      <td>2/18/2019</td>\n",
       "      <td>13:28</td>\n",
       "      <td>Cash</td>\n",
       "      <td>618.38</td>\n",
       "      <td>4.761905</td>\n",
       "      <td>30.9190</td>\n",
       "      <td>6.6</td>\n",
       "    </tr>\n",
       "  </tbody>\n",
       "</table>\n",
       "<p>1000 rows × 17 columns</p>\n",
       "</div>"
      ],
      "text/plain": [
       "      Invoice ID Branch       City Customer type  Gender  \\\n",
       "0    750-67-8428      A     Yangon        Member  Female   \n",
       "1    226-31-3081      C  Naypyitaw        Normal  Female   \n",
       "2    631-41-3108      A     Yangon        Normal    Male   \n",
       "3    123-19-1176      A     Yangon        Member    Male   \n",
       "4    373-73-7910      A     Yangon        Normal    Male   \n",
       "..           ...    ...        ...           ...     ...   \n",
       "995  233-67-5758      C  Naypyitaw        Normal    Male   \n",
       "996  303-96-2227      B   Mandalay        Normal  Female   \n",
       "997  727-02-1313      A     Yangon        Member    Male   \n",
       "998  347-56-2442      A     Yangon        Normal    Male   \n",
       "999  849-09-3807      A     Yangon        Member  Female   \n",
       "\n",
       "               Product line  Unit price  Quantity   Tax 5%      Total  \\\n",
       "0         Health and beauty       74.69         7  26.1415   548.9715   \n",
       "1    Electronic accessories       15.28         5   3.8200    80.2200   \n",
       "2        Home and lifestyle       46.33         7  16.2155   340.5255   \n",
       "3         Health and beauty       58.22         8  23.2880   489.0480   \n",
       "4         Sports and travel       86.31         7  30.2085   634.3785   \n",
       "..                      ...         ...       ...      ...        ...   \n",
       "995       Health and beauty       40.35         1   2.0175    42.3675   \n",
       "996      Home and lifestyle       97.38        10  48.6900  1022.4900   \n",
       "997      Food and beverages       31.84         1   1.5920    33.4320   \n",
       "998      Home and lifestyle       65.82         1   3.2910    69.1110   \n",
       "999     Fashion accessories       88.34         7  30.9190   649.2990   \n",
       "\n",
       "          Date   Time      Payment    cogs  gross margin percentage  \\\n",
       "0     1/5/2019  13:08      Ewallet  522.83                 4.761905   \n",
       "1     3/8/2019  10:29         Cash   76.40                 4.761905   \n",
       "2     3/3/2019  13:23  Credit card  324.31                 4.761905   \n",
       "3    1/27/2019  20:33      Ewallet  465.76                 4.761905   \n",
       "4     2/8/2019  10:37      Ewallet  604.17                 4.761905   \n",
       "..         ...    ...          ...     ...                      ...   \n",
       "995  1/29/2019  13:46      Ewallet   40.35                 4.761905   \n",
       "996   3/2/2019  17:16      Ewallet  973.80                 4.761905   \n",
       "997   2/9/2019  13:22         Cash   31.84                 4.761905   \n",
       "998  2/22/2019  15:33         Cash   65.82                 4.761905   \n",
       "999  2/18/2019  13:28         Cash  618.38                 4.761905   \n",
       "\n",
       "     gross income  Rating  \n",
       "0         26.1415     9.1  \n",
       "1          3.8200     9.6  \n",
       "2         16.2155     7.4  \n",
       "3         23.2880     8.4  \n",
       "4         30.2085     5.3  \n",
       "..            ...     ...  \n",
       "995        2.0175     6.2  \n",
       "996       48.6900     4.4  \n",
       "997        1.5920     7.7  \n",
       "998        3.2910     4.1  \n",
       "999       30.9190     6.6  \n",
       "\n",
       "[1000 rows x 17 columns]"
      ]
     },
     "execution_count": 3,
     "metadata": {},
     "output_type": "execute_result"
    }
   ],
   "source": [
    "df=pd.read_csv(\"/kaggle/input/supermarket-sales/supermarket_sales - Sheet1.csv\")\n",
    "df"
   ]
  },
  {
   "cell_type": "markdown",
   "id": "e28ee593",
   "metadata": {
    "papermill": {
     "duration": 0.023743,
     "end_time": "2023-01-16T20:35:55.157058",
     "exception": false,
     "start_time": "2023-01-16T20:35:55.133315",
     "status": "completed"
    },
    "tags": []
   },
   "source": [
    "## Workflow\n",
    "Step 1 - Understanding data\n",
    "- Understanding data \n",
    "- Basic info\n",
    "- columns types\n",
    "- Stats summary\n",
    "\n",
    "Step 2 - Cleaning and Transforming data \n",
    "- checking missing values\n",
    "- Using feature engeneering - Changing Dtypes if required\n",
    "                            - Adding new columns\n",
    "                            - Deleting unecessary columns\\\n",
    "                            \n",
    "Step 3 Checking correlation \n",
    "\n",
    "Step 4 Necessary Insights\n"
   ]
  },
  {
   "cell_type": "markdown",
   "id": "9c764ff2",
   "metadata": {
    "papermill": {
     "duration": 0.023613,
     "end_time": "2023-01-16T20:35:55.204575",
     "exception": false,
     "start_time": "2023-01-16T20:35:55.180962",
     "status": "completed"
    },
    "tags": []
   },
   "source": [
    "### Step 1 - Understanding data"
   ]
  },
  {
   "cell_type": "code",
   "execution_count": 4,
   "id": "208c0b85",
   "metadata": {
    "execution": {
     "iopub.execute_input": "2023-01-16T20:35:55.254722Z",
     "iopub.status.busy": "2023-01-16T20:35:55.254088Z",
     "iopub.status.idle": "2023-01-16T20:35:55.261071Z",
     "shell.execute_reply": "2023-01-16T20:35:55.260035Z"
    },
    "papermill": {
     "duration": 0.034499,
     "end_time": "2023-01-16T20:35:55.263190",
     "exception": false,
     "start_time": "2023-01-16T20:35:55.228691",
     "status": "completed"
    },
    "tags": []
   },
   "outputs": [
    {
     "data": {
      "text/plain": [
       "(1000, 17)"
      ]
     },
     "execution_count": 4,
     "metadata": {},
     "output_type": "execute_result"
    }
   ],
   "source": [
    "df.shape ## there are 1000 rows  17 columns"
   ]
  },
  {
   "cell_type": "code",
   "execution_count": 5,
   "id": "a94a9a4e",
   "metadata": {
    "execution": {
     "iopub.execute_input": "2023-01-16T20:35:55.313213Z",
     "iopub.status.busy": "2023-01-16T20:35:55.312732Z",
     "iopub.status.idle": "2023-01-16T20:35:55.320059Z",
     "shell.execute_reply": "2023-01-16T20:35:55.318781Z"
    },
    "papermill": {
     "duration": 0.035327,
     "end_time": "2023-01-16T20:35:55.322405",
     "exception": false,
     "start_time": "2023-01-16T20:35:55.287078",
     "status": "completed"
    },
    "tags": []
   },
   "outputs": [
    {
     "data": {
      "text/plain": [
       "Index(['Invoice ID', 'Branch', 'City', 'Customer type', 'Gender',\n",
       "       'Product line', 'Unit price', 'Quantity', 'Tax 5%', 'Total', 'Date',\n",
       "       'Time', 'Payment', 'cogs', 'gross margin percentage', 'gross income',\n",
       "       'Rating'],\n",
       "      dtype='object')"
      ]
     },
     "execution_count": 5,
     "metadata": {},
     "output_type": "execute_result"
    }
   ],
   "source": [
    "df.columns"
   ]
  },
  {
   "cell_type": "code",
   "execution_count": 6,
   "id": "966be43a",
   "metadata": {
    "execution": {
     "iopub.execute_input": "2023-01-16T20:35:55.373073Z",
     "iopub.status.busy": "2023-01-16T20:35:55.372640Z",
     "iopub.status.idle": "2023-01-16T20:35:55.396713Z",
     "shell.execute_reply": "2023-01-16T20:35:55.395535Z"
    },
    "papermill": {
     "duration": 0.052949,
     "end_time": "2023-01-16T20:35:55.399642",
     "exception": false,
     "start_time": "2023-01-16T20:35:55.346693",
     "status": "completed"
    },
    "tags": []
   },
   "outputs": [
    {
     "name": "stdout",
     "output_type": "stream",
     "text": [
      "<class 'pandas.core.frame.DataFrame'>\n",
      "RangeIndex: 1000 entries, 0 to 999\n",
      "Data columns (total 17 columns):\n",
      " #   Column                   Non-Null Count  Dtype  \n",
      "---  ------                   --------------  -----  \n",
      " 0   Invoice ID               1000 non-null   object \n",
      " 1   Branch                   1000 non-null   object \n",
      " 2   City                     1000 non-null   object \n",
      " 3   Customer type            1000 non-null   object \n",
      " 4   Gender                   1000 non-null   object \n",
      " 5   Product line             1000 non-null   object \n",
      " 6   Unit price               1000 non-null   float64\n",
      " 7   Quantity                 1000 non-null   int64  \n",
      " 8   Tax 5%                   1000 non-null   float64\n",
      " 9   Total                    1000 non-null   float64\n",
      " 10  Date                     1000 non-null   object \n",
      " 11  Time                     1000 non-null   object \n",
      " 12  Payment                  1000 non-null   object \n",
      " 13  cogs                     1000 non-null   float64\n",
      " 14  gross margin percentage  1000 non-null   float64\n",
      " 15  gross income             1000 non-null   float64\n",
      " 16  Rating                   1000 non-null   float64\n",
      "dtypes: float64(7), int64(1), object(9)\n",
      "memory usage: 132.9+ KB\n"
     ]
    }
   ],
   "source": [
    "df.info()"
   ]
  },
  {
   "cell_type": "markdown",
   "id": "90b6f1d3",
   "metadata": {
    "papermill": {
     "duration": 0.024036,
     "end_time": "2023-01-16T20:35:55.448190",
     "exception": false,
     "start_time": "2023-01-16T20:35:55.424154",
     "status": "completed"
    },
    "tags": []
   },
   "source": [
    "#### We can see date and time is in object so we have to change it in datetime64 to get more insight of the data "
   ]
  },
  {
   "cell_type": "code",
   "execution_count": 7,
   "id": "7ec0ab77",
   "metadata": {
    "execution": {
     "iopub.execute_input": "2023-01-16T20:35:55.498207Z",
     "iopub.status.busy": "2023-01-16T20:35:55.497765Z",
     "iopub.status.idle": "2023-01-16T20:35:55.508399Z",
     "shell.execute_reply": "2023-01-16T20:35:55.507172Z"
    },
    "papermill": {
     "duration": 0.038464,
     "end_time": "2023-01-16T20:35:55.510725",
     "exception": false,
     "start_time": "2023-01-16T20:35:55.472261",
     "status": "completed"
    },
    "tags": []
   },
   "outputs": [
    {
     "data": {
      "text/plain": [
       "Invoice ID                 0\n",
       "Branch                     0\n",
       "City                       0\n",
       "Customer type              0\n",
       "Gender                     0\n",
       "Product line               0\n",
       "Unit price                 0\n",
       "Quantity                   0\n",
       "Tax 5%                     0\n",
       "Total                      0\n",
       "Date                       0\n",
       "Time                       0\n",
       "Payment                    0\n",
       "cogs                       0\n",
       "gross margin percentage    0\n",
       "gross income               0\n",
       "Rating                     0\n",
       "dtype: int64"
      ]
     },
     "execution_count": 7,
     "metadata": {},
     "output_type": "execute_result"
    }
   ],
   "source": [
    "### Checking null values\n",
    "df.isnull().sum()"
   ]
  },
  {
   "cell_type": "markdown",
   "id": "ab4b9938",
   "metadata": {
    "papermill": {
     "duration": 0.024151,
     "end_time": "2023-01-16T20:35:55.559134",
     "exception": false,
     "start_time": "2023-01-16T20:35:55.534983",
     "status": "completed"
    },
    "tags": []
   },
   "source": [
    "### There is no null values "
   ]
  },
  {
   "cell_type": "code",
   "execution_count": 8,
   "id": "529f60f2",
   "metadata": {
    "execution": {
     "iopub.execute_input": "2023-01-16T20:35:55.610056Z",
     "iopub.status.busy": "2023-01-16T20:35:55.609649Z",
     "iopub.status.idle": "2023-01-16T20:35:55.621737Z",
     "shell.execute_reply": "2023-01-16T20:35:55.620876Z"
    },
    "papermill": {
     "duration": 0.040762,
     "end_time": "2023-01-16T20:35:55.623983",
     "exception": false,
     "start_time": "2023-01-16T20:35:55.583221",
     "status": "completed"
    },
    "tags": []
   },
   "outputs": [
    {
     "data": {
      "text/plain": [
       "0"
      ]
     },
     "execution_count": 8,
     "metadata": {},
     "output_type": "execute_result"
    }
   ],
   "source": [
    "## Checking duplicates \n",
    "df.duplicated().sum()"
   ]
  },
  {
   "cell_type": "markdown",
   "id": "c5c65d68",
   "metadata": {
    "papermill": {
     "duration": 0.026532,
     "end_time": "2023-01-16T20:35:55.677775",
     "exception": false,
     "start_time": "2023-01-16T20:35:55.651243",
     "status": "completed"
    },
    "tags": []
   },
   "source": [
    "### There is no duplicates "
   ]
  },
  {
   "cell_type": "code",
   "execution_count": 9,
   "id": "4320a3ed",
   "metadata": {
    "execution": {
     "iopub.execute_input": "2023-01-16T20:35:55.745972Z",
     "iopub.status.busy": "2023-01-16T20:35:55.745293Z",
     "iopub.status.idle": "2023-01-16T20:35:55.782476Z",
     "shell.execute_reply": "2023-01-16T20:35:55.781289Z"
    },
    "papermill": {
     "duration": 0.073164,
     "end_time": "2023-01-16T20:35:55.784876",
     "exception": false,
     "start_time": "2023-01-16T20:35:55.711712",
     "status": "completed"
    },
    "tags": []
   },
   "outputs": [
    {
     "data": {
      "text/html": [
       "<div>\n",
       "<style scoped>\n",
       "    .dataframe tbody tr th:only-of-type {\n",
       "        vertical-align: middle;\n",
       "    }\n",
       "\n",
       "    .dataframe tbody tr th {\n",
       "        vertical-align: top;\n",
       "    }\n",
       "\n",
       "    .dataframe thead th {\n",
       "        text-align: right;\n",
       "    }\n",
       "</style>\n",
       "<table border=\"1\" class=\"dataframe\">\n",
       "  <thead>\n",
       "    <tr style=\"text-align: right;\">\n",
       "      <th></th>\n",
       "      <th>count</th>\n",
       "      <th>mean</th>\n",
       "      <th>std</th>\n",
       "      <th>min</th>\n",
       "      <th>25%</th>\n",
       "      <th>50%</th>\n",
       "      <th>75%</th>\n",
       "      <th>max</th>\n",
       "    </tr>\n",
       "  </thead>\n",
       "  <tbody>\n",
       "    <tr>\n",
       "      <th>Unit price</th>\n",
       "      <td>1000.0</td>\n",
       "      <td>55.672130</td>\n",
       "      <td>26.494628</td>\n",
       "      <td>10.080000</td>\n",
       "      <td>32.875000</td>\n",
       "      <td>55.230000</td>\n",
       "      <td>77.935000</td>\n",
       "      <td>99.960000</td>\n",
       "    </tr>\n",
       "    <tr>\n",
       "      <th>Quantity</th>\n",
       "      <td>1000.0</td>\n",
       "      <td>5.510000</td>\n",
       "      <td>2.923431</td>\n",
       "      <td>1.000000</td>\n",
       "      <td>3.000000</td>\n",
       "      <td>5.000000</td>\n",
       "      <td>8.000000</td>\n",
       "      <td>10.000000</td>\n",
       "    </tr>\n",
       "    <tr>\n",
       "      <th>Tax 5%</th>\n",
       "      <td>1000.0</td>\n",
       "      <td>15.379369</td>\n",
       "      <td>11.708825</td>\n",
       "      <td>0.508500</td>\n",
       "      <td>5.924875</td>\n",
       "      <td>12.088000</td>\n",
       "      <td>22.445250</td>\n",
       "      <td>49.650000</td>\n",
       "    </tr>\n",
       "    <tr>\n",
       "      <th>Total</th>\n",
       "      <td>1000.0</td>\n",
       "      <td>322.966749</td>\n",
       "      <td>245.885335</td>\n",
       "      <td>10.678500</td>\n",
       "      <td>124.422375</td>\n",
       "      <td>253.848000</td>\n",
       "      <td>471.350250</td>\n",
       "      <td>1042.650000</td>\n",
       "    </tr>\n",
       "    <tr>\n",
       "      <th>cogs</th>\n",
       "      <td>1000.0</td>\n",
       "      <td>307.587380</td>\n",
       "      <td>234.176510</td>\n",
       "      <td>10.170000</td>\n",
       "      <td>118.497500</td>\n",
       "      <td>241.760000</td>\n",
       "      <td>448.905000</td>\n",
       "      <td>993.000000</td>\n",
       "    </tr>\n",
       "    <tr>\n",
       "      <th>gross margin percentage</th>\n",
       "      <td>1000.0</td>\n",
       "      <td>4.761905</td>\n",
       "      <td>0.000000</td>\n",
       "      <td>4.761905</td>\n",
       "      <td>4.761905</td>\n",
       "      <td>4.761905</td>\n",
       "      <td>4.761905</td>\n",
       "      <td>4.761905</td>\n",
       "    </tr>\n",
       "    <tr>\n",
       "      <th>gross income</th>\n",
       "      <td>1000.0</td>\n",
       "      <td>15.379369</td>\n",
       "      <td>11.708825</td>\n",
       "      <td>0.508500</td>\n",
       "      <td>5.924875</td>\n",
       "      <td>12.088000</td>\n",
       "      <td>22.445250</td>\n",
       "      <td>49.650000</td>\n",
       "    </tr>\n",
       "    <tr>\n",
       "      <th>Rating</th>\n",
       "      <td>1000.0</td>\n",
       "      <td>6.972700</td>\n",
       "      <td>1.718580</td>\n",
       "      <td>4.000000</td>\n",
       "      <td>5.500000</td>\n",
       "      <td>7.000000</td>\n",
       "      <td>8.500000</td>\n",
       "      <td>10.000000</td>\n",
       "    </tr>\n",
       "  </tbody>\n",
       "</table>\n",
       "</div>"
      ],
      "text/plain": [
       "                          count        mean         std        min  \\\n",
       "Unit price               1000.0   55.672130   26.494628  10.080000   \n",
       "Quantity                 1000.0    5.510000    2.923431   1.000000   \n",
       "Tax 5%                   1000.0   15.379369   11.708825   0.508500   \n",
       "Total                    1000.0  322.966749  245.885335  10.678500   \n",
       "cogs                     1000.0  307.587380  234.176510  10.170000   \n",
       "gross margin percentage  1000.0    4.761905    0.000000   4.761905   \n",
       "gross income             1000.0   15.379369   11.708825   0.508500   \n",
       "Rating                   1000.0    6.972700    1.718580   4.000000   \n",
       "\n",
       "                                25%         50%         75%          max  \n",
       "Unit price                32.875000   55.230000   77.935000    99.960000  \n",
       "Quantity                   3.000000    5.000000    8.000000    10.000000  \n",
       "Tax 5%                     5.924875   12.088000   22.445250    49.650000  \n",
       "Total                    124.422375  253.848000  471.350250  1042.650000  \n",
       "cogs                     118.497500  241.760000  448.905000   993.000000  \n",
       "gross margin percentage    4.761905    4.761905    4.761905     4.761905  \n",
       "gross income               5.924875   12.088000   22.445250    49.650000  \n",
       "Rating                     5.500000    7.000000    8.500000    10.000000  "
      ]
     },
     "execution_count": 9,
     "metadata": {},
     "output_type": "execute_result"
    }
   ],
   "source": [
    "df.describe().T ## for checking outliers in the data \n"
   ]
  },
  {
   "cell_type": "markdown",
   "id": "7733179c",
   "metadata": {
    "papermill": {
     "duration": 0.025507,
     "end_time": "2023-01-16T20:35:55.835005",
     "exception": false,
     "start_time": "2023-01-16T20:35:55.809498",
     "status": "completed"
    },
    "tags": []
   },
   "source": [
    "### Step 2 - Cleaning and Transforming data \n"
   ]
  },
  {
   "cell_type": "code",
   "execution_count": 10,
   "id": "16102f71",
   "metadata": {
    "execution": {
     "iopub.execute_input": "2023-01-16T20:35:55.886092Z",
     "iopub.status.busy": "2023-01-16T20:35:55.885666Z",
     "iopub.status.idle": "2023-01-16T20:35:55.902186Z",
     "shell.execute_reply": "2023-01-16T20:35:55.901237Z"
    },
    "papermill": {
     "duration": 0.045057,
     "end_time": "2023-01-16T20:35:55.904595",
     "exception": false,
     "start_time": "2023-01-16T20:35:55.859538",
     "status": "completed"
    },
    "tags": []
   },
   "outputs": [],
   "source": [
    "from datetime import datetime as dt \n",
    "df[\"Date\"]=pd.to_datetime(df[\"Date\"])"
   ]
  },
  {
   "cell_type": "code",
   "execution_count": 11,
   "id": "b79c63a2",
   "metadata": {
    "execution": {
     "iopub.execute_input": "2023-01-16T20:35:55.955656Z",
     "iopub.status.busy": "2023-01-16T20:35:55.955011Z",
     "iopub.status.idle": "2023-01-16T20:35:56.003417Z",
     "shell.execute_reply": "2023-01-16T20:35:56.002382Z"
    },
    "papermill": {
     "duration": 0.077018,
     "end_time": "2023-01-16T20:35:56.006108",
     "exception": false,
     "start_time": "2023-01-16T20:35:55.929090",
     "status": "completed"
    },
    "tags": []
   },
   "outputs": [],
   "source": [
    "df[\"Time\"]=pd.to_datetime(df[\"Time\"])"
   ]
  },
  {
   "cell_type": "code",
   "execution_count": 12,
   "id": "252713a3",
   "metadata": {
    "execution": {
     "iopub.execute_input": "2023-01-16T20:35:56.058392Z",
     "iopub.status.busy": "2023-01-16T20:35:56.057699Z",
     "iopub.status.idle": "2023-01-16T20:35:56.065739Z",
     "shell.execute_reply": "2023-01-16T20:35:56.064781Z"
    },
    "papermill": {
     "duration": 0.036331,
     "end_time": "2023-01-16T20:35:56.067906",
     "exception": false,
     "start_time": "2023-01-16T20:35:56.031575",
     "status": "completed"
    },
    "tags": []
   },
   "outputs": [
    {
     "data": {
      "text/plain": [
       "Invoice ID                         object\n",
       "Branch                             object\n",
       "City                               object\n",
       "Customer type                      object\n",
       "Gender                             object\n",
       "Product line                       object\n",
       "Unit price                        float64\n",
       "Quantity                            int64\n",
       "Tax 5%                            float64\n",
       "Total                             float64\n",
       "Date                       datetime64[ns]\n",
       "Time                       datetime64[ns]\n",
       "Payment                            object\n",
       "cogs                              float64\n",
       "gross margin percentage           float64\n",
       "gross income                      float64\n",
       "Rating                            float64\n",
       "dtype: object"
      ]
     },
     "execution_count": 12,
     "metadata": {},
     "output_type": "execute_result"
    }
   ],
   "source": [
    "df.dtypes"
   ]
  },
  {
   "cell_type": "markdown",
   "id": "24d752d1",
   "metadata": {
    "papermill": {
     "duration": 0.029897,
     "end_time": "2023-01-16T20:35:56.123518",
     "exception": false,
     "start_time": "2023-01-16T20:35:56.093621",
     "status": "completed"
    },
    "tags": []
   },
   "source": [
    "## Changing Dtypes of Date and Time and checking it "
   ]
  },
  {
   "cell_type": "code",
   "execution_count": 13,
   "id": "4788dc3c",
   "metadata": {
    "execution": {
     "iopub.execute_input": "2023-01-16T20:35:56.181476Z",
     "iopub.status.busy": "2023-01-16T20:35:56.180794Z",
     "iopub.status.idle": "2023-01-16T20:35:56.222974Z",
     "shell.execute_reply": "2023-01-16T20:35:56.221872Z"
    },
    "papermill": {
     "duration": 0.071203,
     "end_time": "2023-01-16T20:35:56.225419",
     "exception": false,
     "start_time": "2023-01-16T20:35:56.154216",
     "status": "completed"
    },
    "tags": []
   },
   "outputs": [
    {
     "data": {
      "text/html": [
       "<div>\n",
       "<style scoped>\n",
       "    .dataframe tbody tr th:only-of-type {\n",
       "        vertical-align: middle;\n",
       "    }\n",
       "\n",
       "    .dataframe tbody tr th {\n",
       "        vertical-align: top;\n",
       "    }\n",
       "\n",
       "    .dataframe thead th {\n",
       "        text-align: right;\n",
       "    }\n",
       "</style>\n",
       "<table border=\"1\" class=\"dataframe\">\n",
       "  <thead>\n",
       "    <tr style=\"text-align: right;\">\n",
       "      <th></th>\n",
       "      <th>Invoice ID</th>\n",
       "      <th>Branch</th>\n",
       "      <th>City</th>\n",
       "      <th>Customer type</th>\n",
       "      <th>Gender</th>\n",
       "      <th>Product line</th>\n",
       "      <th>Unit price</th>\n",
       "      <th>Quantity</th>\n",
       "      <th>Tax 5%</th>\n",
       "      <th>Total</th>\n",
       "      <th>Date</th>\n",
       "      <th>Time</th>\n",
       "      <th>Payment</th>\n",
       "      <th>cogs</th>\n",
       "      <th>gross margin percentage</th>\n",
       "      <th>gross income</th>\n",
       "      <th>Rating</th>\n",
       "      <th>month</th>\n",
       "      <th>day</th>\n",
       "      <th>weekday</th>\n",
       "    </tr>\n",
       "  </thead>\n",
       "  <tbody>\n",
       "    <tr>\n",
       "      <th>0</th>\n",
       "      <td>750-67-8428</td>\n",
       "      <td>A</td>\n",
       "      <td>Yangon</td>\n",
       "      <td>Member</td>\n",
       "      <td>Female</td>\n",
       "      <td>Health and beauty</td>\n",
       "      <td>74.69</td>\n",
       "      <td>7</td>\n",
       "      <td>26.1415</td>\n",
       "      <td>548.9715</td>\n",
       "      <td>2019-01-05</td>\n",
       "      <td>2023-01-16 13:08:00</td>\n",
       "      <td>Ewallet</td>\n",
       "      <td>522.83</td>\n",
       "      <td>4.761905</td>\n",
       "      <td>26.1415</td>\n",
       "      <td>9.1</td>\n",
       "      <td>January</td>\n",
       "      <td>Saturday</td>\n",
       "      <td>5</td>\n",
       "    </tr>\n",
       "    <tr>\n",
       "      <th>1</th>\n",
       "      <td>226-31-3081</td>\n",
       "      <td>C</td>\n",
       "      <td>Naypyitaw</td>\n",
       "      <td>Normal</td>\n",
       "      <td>Female</td>\n",
       "      <td>Electronic accessories</td>\n",
       "      <td>15.28</td>\n",
       "      <td>5</td>\n",
       "      <td>3.8200</td>\n",
       "      <td>80.2200</td>\n",
       "      <td>2019-03-08</td>\n",
       "      <td>2023-01-16 10:29:00</td>\n",
       "      <td>Cash</td>\n",
       "      <td>76.40</td>\n",
       "      <td>4.761905</td>\n",
       "      <td>3.8200</td>\n",
       "      <td>9.6</td>\n",
       "      <td>March</td>\n",
       "      <td>Friday</td>\n",
       "      <td>4</td>\n",
       "    </tr>\n",
       "    <tr>\n",
       "      <th>2</th>\n",
       "      <td>631-41-3108</td>\n",
       "      <td>A</td>\n",
       "      <td>Yangon</td>\n",
       "      <td>Normal</td>\n",
       "      <td>Male</td>\n",
       "      <td>Home and lifestyle</td>\n",
       "      <td>46.33</td>\n",
       "      <td>7</td>\n",
       "      <td>16.2155</td>\n",
       "      <td>340.5255</td>\n",
       "      <td>2019-03-03</td>\n",
       "      <td>2023-01-16 13:23:00</td>\n",
       "      <td>Credit card</td>\n",
       "      <td>324.31</td>\n",
       "      <td>4.761905</td>\n",
       "      <td>16.2155</td>\n",
       "      <td>7.4</td>\n",
       "      <td>March</td>\n",
       "      <td>Sunday</td>\n",
       "      <td>6</td>\n",
       "    </tr>\n",
       "    <tr>\n",
       "      <th>3</th>\n",
       "      <td>123-19-1176</td>\n",
       "      <td>A</td>\n",
       "      <td>Yangon</td>\n",
       "      <td>Member</td>\n",
       "      <td>Male</td>\n",
       "      <td>Health and beauty</td>\n",
       "      <td>58.22</td>\n",
       "      <td>8</td>\n",
       "      <td>23.2880</td>\n",
       "      <td>489.0480</td>\n",
       "      <td>2019-01-27</td>\n",
       "      <td>2023-01-16 20:33:00</td>\n",
       "      <td>Ewallet</td>\n",
       "      <td>465.76</td>\n",
       "      <td>4.761905</td>\n",
       "      <td>23.2880</td>\n",
       "      <td>8.4</td>\n",
       "      <td>January</td>\n",
       "      <td>Sunday</td>\n",
       "      <td>6</td>\n",
       "    </tr>\n",
       "    <tr>\n",
       "      <th>4</th>\n",
       "      <td>373-73-7910</td>\n",
       "      <td>A</td>\n",
       "      <td>Yangon</td>\n",
       "      <td>Normal</td>\n",
       "      <td>Male</td>\n",
       "      <td>Sports and travel</td>\n",
       "      <td>86.31</td>\n",
       "      <td>7</td>\n",
       "      <td>30.2085</td>\n",
       "      <td>634.3785</td>\n",
       "      <td>2019-02-08</td>\n",
       "      <td>2023-01-16 10:37:00</td>\n",
       "      <td>Ewallet</td>\n",
       "      <td>604.17</td>\n",
       "      <td>4.761905</td>\n",
       "      <td>30.2085</td>\n",
       "      <td>5.3</td>\n",
       "      <td>February</td>\n",
       "      <td>Friday</td>\n",
       "      <td>4</td>\n",
       "    </tr>\n",
       "    <tr>\n",
       "      <th>...</th>\n",
       "      <td>...</td>\n",
       "      <td>...</td>\n",
       "      <td>...</td>\n",
       "      <td>...</td>\n",
       "      <td>...</td>\n",
       "      <td>...</td>\n",
       "      <td>...</td>\n",
       "      <td>...</td>\n",
       "      <td>...</td>\n",
       "      <td>...</td>\n",
       "      <td>...</td>\n",
       "      <td>...</td>\n",
       "      <td>...</td>\n",
       "      <td>...</td>\n",
       "      <td>...</td>\n",
       "      <td>...</td>\n",
       "      <td>...</td>\n",
       "      <td>...</td>\n",
       "      <td>...</td>\n",
       "      <td>...</td>\n",
       "    </tr>\n",
       "    <tr>\n",
       "      <th>995</th>\n",
       "      <td>233-67-5758</td>\n",
       "      <td>C</td>\n",
       "      <td>Naypyitaw</td>\n",
       "      <td>Normal</td>\n",
       "      <td>Male</td>\n",
       "      <td>Health and beauty</td>\n",
       "      <td>40.35</td>\n",
       "      <td>1</td>\n",
       "      <td>2.0175</td>\n",
       "      <td>42.3675</td>\n",
       "      <td>2019-01-29</td>\n",
       "      <td>2023-01-16 13:46:00</td>\n",
       "      <td>Ewallet</td>\n",
       "      <td>40.35</td>\n",
       "      <td>4.761905</td>\n",
       "      <td>2.0175</td>\n",
       "      <td>6.2</td>\n",
       "      <td>January</td>\n",
       "      <td>Tuesday</td>\n",
       "      <td>1</td>\n",
       "    </tr>\n",
       "    <tr>\n",
       "      <th>996</th>\n",
       "      <td>303-96-2227</td>\n",
       "      <td>B</td>\n",
       "      <td>Mandalay</td>\n",
       "      <td>Normal</td>\n",
       "      <td>Female</td>\n",
       "      <td>Home and lifestyle</td>\n",
       "      <td>97.38</td>\n",
       "      <td>10</td>\n",
       "      <td>48.6900</td>\n",
       "      <td>1022.4900</td>\n",
       "      <td>2019-03-02</td>\n",
       "      <td>2023-01-16 17:16:00</td>\n",
       "      <td>Ewallet</td>\n",
       "      <td>973.80</td>\n",
       "      <td>4.761905</td>\n",
       "      <td>48.6900</td>\n",
       "      <td>4.4</td>\n",
       "      <td>March</td>\n",
       "      <td>Saturday</td>\n",
       "      <td>5</td>\n",
       "    </tr>\n",
       "    <tr>\n",
       "      <th>997</th>\n",
       "      <td>727-02-1313</td>\n",
       "      <td>A</td>\n",
       "      <td>Yangon</td>\n",
       "      <td>Member</td>\n",
       "      <td>Male</td>\n",
       "      <td>Food and beverages</td>\n",
       "      <td>31.84</td>\n",
       "      <td>1</td>\n",
       "      <td>1.5920</td>\n",
       "      <td>33.4320</td>\n",
       "      <td>2019-02-09</td>\n",
       "      <td>2023-01-16 13:22:00</td>\n",
       "      <td>Cash</td>\n",
       "      <td>31.84</td>\n",
       "      <td>4.761905</td>\n",
       "      <td>1.5920</td>\n",
       "      <td>7.7</td>\n",
       "      <td>February</td>\n",
       "      <td>Saturday</td>\n",
       "      <td>5</td>\n",
       "    </tr>\n",
       "    <tr>\n",
       "      <th>998</th>\n",
       "      <td>347-56-2442</td>\n",
       "      <td>A</td>\n",
       "      <td>Yangon</td>\n",
       "      <td>Normal</td>\n",
       "      <td>Male</td>\n",
       "      <td>Home and lifestyle</td>\n",
       "      <td>65.82</td>\n",
       "      <td>1</td>\n",
       "      <td>3.2910</td>\n",
       "      <td>69.1110</td>\n",
       "      <td>2019-02-22</td>\n",
       "      <td>2023-01-16 15:33:00</td>\n",
       "      <td>Cash</td>\n",
       "      <td>65.82</td>\n",
       "      <td>4.761905</td>\n",
       "      <td>3.2910</td>\n",
       "      <td>4.1</td>\n",
       "      <td>February</td>\n",
       "      <td>Friday</td>\n",
       "      <td>4</td>\n",
       "    </tr>\n",
       "    <tr>\n",
       "      <th>999</th>\n",
       "      <td>849-09-3807</td>\n",
       "      <td>A</td>\n",
       "      <td>Yangon</td>\n",
       "      <td>Member</td>\n",
       "      <td>Female</td>\n",
       "      <td>Fashion accessories</td>\n",
       "      <td>88.34</td>\n",
       "      <td>7</td>\n",
       "      <td>30.9190</td>\n",
       "      <td>649.2990</td>\n",
       "      <td>2019-02-18</td>\n",
       "      <td>2023-01-16 13:28:00</td>\n",
       "      <td>Cash</td>\n",
       "      <td>618.38</td>\n",
       "      <td>4.761905</td>\n",
       "      <td>30.9190</td>\n",
       "      <td>6.6</td>\n",
       "      <td>February</td>\n",
       "      <td>Monday</td>\n",
       "      <td>0</td>\n",
       "    </tr>\n",
       "  </tbody>\n",
       "</table>\n",
       "<p>1000 rows × 20 columns</p>\n",
       "</div>"
      ],
      "text/plain": [
       "      Invoice ID Branch       City Customer type  Gender  \\\n",
       "0    750-67-8428      A     Yangon        Member  Female   \n",
       "1    226-31-3081      C  Naypyitaw        Normal  Female   \n",
       "2    631-41-3108      A     Yangon        Normal    Male   \n",
       "3    123-19-1176      A     Yangon        Member    Male   \n",
       "4    373-73-7910      A     Yangon        Normal    Male   \n",
       "..           ...    ...        ...           ...     ...   \n",
       "995  233-67-5758      C  Naypyitaw        Normal    Male   \n",
       "996  303-96-2227      B   Mandalay        Normal  Female   \n",
       "997  727-02-1313      A     Yangon        Member    Male   \n",
       "998  347-56-2442      A     Yangon        Normal    Male   \n",
       "999  849-09-3807      A     Yangon        Member  Female   \n",
       "\n",
       "               Product line  Unit price  Quantity   Tax 5%      Total  \\\n",
       "0         Health and beauty       74.69         7  26.1415   548.9715   \n",
       "1    Electronic accessories       15.28         5   3.8200    80.2200   \n",
       "2        Home and lifestyle       46.33         7  16.2155   340.5255   \n",
       "3         Health and beauty       58.22         8  23.2880   489.0480   \n",
       "4         Sports and travel       86.31         7  30.2085   634.3785   \n",
       "..                      ...         ...       ...      ...        ...   \n",
       "995       Health and beauty       40.35         1   2.0175    42.3675   \n",
       "996      Home and lifestyle       97.38        10  48.6900  1022.4900   \n",
       "997      Food and beverages       31.84         1   1.5920    33.4320   \n",
       "998      Home and lifestyle       65.82         1   3.2910    69.1110   \n",
       "999     Fashion accessories       88.34         7  30.9190   649.2990   \n",
       "\n",
       "          Date                Time      Payment    cogs  \\\n",
       "0   2019-01-05 2023-01-16 13:08:00      Ewallet  522.83   \n",
       "1   2019-03-08 2023-01-16 10:29:00         Cash   76.40   \n",
       "2   2019-03-03 2023-01-16 13:23:00  Credit card  324.31   \n",
       "3   2019-01-27 2023-01-16 20:33:00      Ewallet  465.76   \n",
       "4   2019-02-08 2023-01-16 10:37:00      Ewallet  604.17   \n",
       "..         ...                 ...          ...     ...   \n",
       "995 2019-01-29 2023-01-16 13:46:00      Ewallet   40.35   \n",
       "996 2019-03-02 2023-01-16 17:16:00      Ewallet  973.80   \n",
       "997 2019-02-09 2023-01-16 13:22:00         Cash   31.84   \n",
       "998 2019-02-22 2023-01-16 15:33:00         Cash   65.82   \n",
       "999 2019-02-18 2023-01-16 13:28:00         Cash  618.38   \n",
       "\n",
       "     gross margin percentage  gross income  Rating     month       day  \\\n",
       "0                   4.761905       26.1415     9.1   January  Saturday   \n",
       "1                   4.761905        3.8200     9.6     March    Friday   \n",
       "2                   4.761905       16.2155     7.4     March    Sunday   \n",
       "3                   4.761905       23.2880     8.4   January    Sunday   \n",
       "4                   4.761905       30.2085     5.3  February    Friday   \n",
       "..                       ...           ...     ...       ...       ...   \n",
       "995                 4.761905        2.0175     6.2   January   Tuesday   \n",
       "996                 4.761905       48.6900     4.4     March  Saturday   \n",
       "997                 4.761905        1.5920     7.7  February  Saturday   \n",
       "998                 4.761905        3.2910     4.1  February    Friday   \n",
       "999                 4.761905       30.9190     6.6  February    Monday   \n",
       "\n",
       "     weekday  \n",
       "0          5  \n",
       "1          4  \n",
       "2          6  \n",
       "3          6  \n",
       "4          4  \n",
       "..       ...  \n",
       "995        1  \n",
       "996        5  \n",
       "997        5  \n",
       "998        4  \n",
       "999        0  \n",
       "\n",
       "[1000 rows x 20 columns]"
      ]
     },
     "execution_count": 13,
     "metadata": {},
     "output_type": "execute_result"
    }
   ],
   "source": [
    "## Adding necesaary columns \n",
    "df['month'] = df['Date'].dt.month_name()\n",
    "df[\"day\"]=df[\"Date\"].dt.day_name()\n",
    "df[\"weekday\"]=df.Date.dt.weekday\n",
    "df\n",
    "\n",
    "\n"
   ]
  },
  {
   "cell_type": "markdown",
   "id": "6fe62865",
   "metadata": {
    "papermill": {
     "duration": 0.025525,
     "end_time": "2023-01-16T20:35:56.277309",
     "exception": false,
     "start_time": "2023-01-16T20:35:56.251784",
     "status": "completed"
    },
    "tags": []
   },
   "source": [
    "### We can check month, day and weekday has added"
   ]
  },
  {
   "cell_type": "code",
   "execution_count": 14,
   "id": "bc821b6a",
   "metadata": {
    "execution": {
     "iopub.execute_input": "2023-01-16T20:35:56.329874Z",
     "iopub.status.busy": "2023-01-16T20:35:56.329432Z",
     "iopub.status.idle": "2023-01-16T20:35:56.337255Z",
     "shell.execute_reply": "2023-01-16T20:35:56.336396Z"
    },
    "papermill": {
     "duration": 0.036873,
     "end_time": "2023-01-16T20:35:56.339405",
     "exception": false,
     "start_time": "2023-01-16T20:35:56.302532",
     "status": "completed"
    },
    "tags": []
   },
   "outputs": [],
   "source": [
    "## Deleting invoice id as well as branch as it is similar to city \n",
    "df.drop(columns=[\"Invoice ID\",\"Branch\"],inplace=True)\n",
    "\n"
   ]
  },
  {
   "cell_type": "code",
   "execution_count": 15,
   "id": "1183b405",
   "metadata": {
    "execution": {
     "iopub.execute_input": "2023-01-16T20:35:56.392729Z",
     "iopub.status.busy": "2023-01-16T20:35:56.391876Z",
     "iopub.status.idle": "2023-01-16T20:35:56.425176Z",
     "shell.execute_reply": "2023-01-16T20:35:56.424014Z"
    },
    "papermill": {
     "duration": 0.062383,
     "end_time": "2023-01-16T20:35:56.427438",
     "exception": false,
     "start_time": "2023-01-16T20:35:56.365055",
     "status": "completed"
    },
    "tags": []
   },
   "outputs": [
    {
     "data": {
      "text/html": [
       "<div>\n",
       "<style scoped>\n",
       "    .dataframe tbody tr th:only-of-type {\n",
       "        vertical-align: middle;\n",
       "    }\n",
       "\n",
       "    .dataframe tbody tr th {\n",
       "        vertical-align: top;\n",
       "    }\n",
       "\n",
       "    .dataframe thead th {\n",
       "        text-align: right;\n",
       "    }\n",
       "</style>\n",
       "<table border=\"1\" class=\"dataframe\">\n",
       "  <thead>\n",
       "    <tr style=\"text-align: right;\">\n",
       "      <th></th>\n",
       "      <th>City</th>\n",
       "      <th>Customer type</th>\n",
       "      <th>Gender</th>\n",
       "      <th>Product line</th>\n",
       "      <th>Unit price</th>\n",
       "      <th>Quantity</th>\n",
       "      <th>Tax 5%</th>\n",
       "      <th>Total</th>\n",
       "      <th>Date</th>\n",
       "      <th>Time</th>\n",
       "      <th>Payment</th>\n",
       "      <th>cogs</th>\n",
       "      <th>gross margin percentage</th>\n",
       "      <th>gross income</th>\n",
       "      <th>Rating</th>\n",
       "      <th>month</th>\n",
       "      <th>day</th>\n",
       "      <th>weekday</th>\n",
       "    </tr>\n",
       "  </thead>\n",
       "  <tbody>\n",
       "    <tr>\n",
       "      <th>0</th>\n",
       "      <td>Yangon</td>\n",
       "      <td>Member</td>\n",
       "      <td>Female</td>\n",
       "      <td>Health and beauty</td>\n",
       "      <td>74.69</td>\n",
       "      <td>7</td>\n",
       "      <td>26.1415</td>\n",
       "      <td>548.9715</td>\n",
       "      <td>2019-01-05</td>\n",
       "      <td>2023-01-16 13:08:00</td>\n",
       "      <td>Ewallet</td>\n",
       "      <td>522.83</td>\n",
       "      <td>4.761905</td>\n",
       "      <td>26.1415</td>\n",
       "      <td>9.1</td>\n",
       "      <td>January</td>\n",
       "      <td>Saturday</td>\n",
       "      <td>5</td>\n",
       "    </tr>\n",
       "    <tr>\n",
       "      <th>1</th>\n",
       "      <td>Naypyitaw</td>\n",
       "      <td>Normal</td>\n",
       "      <td>Female</td>\n",
       "      <td>Electronic accessories</td>\n",
       "      <td>15.28</td>\n",
       "      <td>5</td>\n",
       "      <td>3.8200</td>\n",
       "      <td>80.2200</td>\n",
       "      <td>2019-03-08</td>\n",
       "      <td>2023-01-16 10:29:00</td>\n",
       "      <td>Cash</td>\n",
       "      <td>76.40</td>\n",
       "      <td>4.761905</td>\n",
       "      <td>3.8200</td>\n",
       "      <td>9.6</td>\n",
       "      <td>March</td>\n",
       "      <td>Friday</td>\n",
       "      <td>4</td>\n",
       "    </tr>\n",
       "    <tr>\n",
       "      <th>2</th>\n",
       "      <td>Yangon</td>\n",
       "      <td>Normal</td>\n",
       "      <td>Male</td>\n",
       "      <td>Home and lifestyle</td>\n",
       "      <td>46.33</td>\n",
       "      <td>7</td>\n",
       "      <td>16.2155</td>\n",
       "      <td>340.5255</td>\n",
       "      <td>2019-03-03</td>\n",
       "      <td>2023-01-16 13:23:00</td>\n",
       "      <td>Credit card</td>\n",
       "      <td>324.31</td>\n",
       "      <td>4.761905</td>\n",
       "      <td>16.2155</td>\n",
       "      <td>7.4</td>\n",
       "      <td>March</td>\n",
       "      <td>Sunday</td>\n",
       "      <td>6</td>\n",
       "    </tr>\n",
       "    <tr>\n",
       "      <th>3</th>\n",
       "      <td>Yangon</td>\n",
       "      <td>Member</td>\n",
       "      <td>Male</td>\n",
       "      <td>Health and beauty</td>\n",
       "      <td>58.22</td>\n",
       "      <td>8</td>\n",
       "      <td>23.2880</td>\n",
       "      <td>489.0480</td>\n",
       "      <td>2019-01-27</td>\n",
       "      <td>2023-01-16 20:33:00</td>\n",
       "      <td>Ewallet</td>\n",
       "      <td>465.76</td>\n",
       "      <td>4.761905</td>\n",
       "      <td>23.2880</td>\n",
       "      <td>8.4</td>\n",
       "      <td>January</td>\n",
       "      <td>Sunday</td>\n",
       "      <td>6</td>\n",
       "    </tr>\n",
       "    <tr>\n",
       "      <th>4</th>\n",
       "      <td>Yangon</td>\n",
       "      <td>Normal</td>\n",
       "      <td>Male</td>\n",
       "      <td>Sports and travel</td>\n",
       "      <td>86.31</td>\n",
       "      <td>7</td>\n",
       "      <td>30.2085</td>\n",
       "      <td>634.3785</td>\n",
       "      <td>2019-02-08</td>\n",
       "      <td>2023-01-16 10:37:00</td>\n",
       "      <td>Ewallet</td>\n",
       "      <td>604.17</td>\n",
       "      <td>4.761905</td>\n",
       "      <td>30.2085</td>\n",
       "      <td>5.3</td>\n",
       "      <td>February</td>\n",
       "      <td>Friday</td>\n",
       "      <td>4</td>\n",
       "    </tr>\n",
       "    <tr>\n",
       "      <th>...</th>\n",
       "      <td>...</td>\n",
       "      <td>...</td>\n",
       "      <td>...</td>\n",
       "      <td>...</td>\n",
       "      <td>...</td>\n",
       "      <td>...</td>\n",
       "      <td>...</td>\n",
       "      <td>...</td>\n",
       "      <td>...</td>\n",
       "      <td>...</td>\n",
       "      <td>...</td>\n",
       "      <td>...</td>\n",
       "      <td>...</td>\n",
       "      <td>...</td>\n",
       "      <td>...</td>\n",
       "      <td>...</td>\n",
       "      <td>...</td>\n",
       "      <td>...</td>\n",
       "    </tr>\n",
       "    <tr>\n",
       "      <th>995</th>\n",
       "      <td>Naypyitaw</td>\n",
       "      <td>Normal</td>\n",
       "      <td>Male</td>\n",
       "      <td>Health and beauty</td>\n",
       "      <td>40.35</td>\n",
       "      <td>1</td>\n",
       "      <td>2.0175</td>\n",
       "      <td>42.3675</td>\n",
       "      <td>2019-01-29</td>\n",
       "      <td>2023-01-16 13:46:00</td>\n",
       "      <td>Ewallet</td>\n",
       "      <td>40.35</td>\n",
       "      <td>4.761905</td>\n",
       "      <td>2.0175</td>\n",
       "      <td>6.2</td>\n",
       "      <td>January</td>\n",
       "      <td>Tuesday</td>\n",
       "      <td>1</td>\n",
       "    </tr>\n",
       "    <tr>\n",
       "      <th>996</th>\n",
       "      <td>Mandalay</td>\n",
       "      <td>Normal</td>\n",
       "      <td>Female</td>\n",
       "      <td>Home and lifestyle</td>\n",
       "      <td>97.38</td>\n",
       "      <td>10</td>\n",
       "      <td>48.6900</td>\n",
       "      <td>1022.4900</td>\n",
       "      <td>2019-03-02</td>\n",
       "      <td>2023-01-16 17:16:00</td>\n",
       "      <td>Ewallet</td>\n",
       "      <td>973.80</td>\n",
       "      <td>4.761905</td>\n",
       "      <td>48.6900</td>\n",
       "      <td>4.4</td>\n",
       "      <td>March</td>\n",
       "      <td>Saturday</td>\n",
       "      <td>5</td>\n",
       "    </tr>\n",
       "    <tr>\n",
       "      <th>997</th>\n",
       "      <td>Yangon</td>\n",
       "      <td>Member</td>\n",
       "      <td>Male</td>\n",
       "      <td>Food and beverages</td>\n",
       "      <td>31.84</td>\n",
       "      <td>1</td>\n",
       "      <td>1.5920</td>\n",
       "      <td>33.4320</td>\n",
       "      <td>2019-02-09</td>\n",
       "      <td>2023-01-16 13:22:00</td>\n",
       "      <td>Cash</td>\n",
       "      <td>31.84</td>\n",
       "      <td>4.761905</td>\n",
       "      <td>1.5920</td>\n",
       "      <td>7.7</td>\n",
       "      <td>February</td>\n",
       "      <td>Saturday</td>\n",
       "      <td>5</td>\n",
       "    </tr>\n",
       "    <tr>\n",
       "      <th>998</th>\n",
       "      <td>Yangon</td>\n",
       "      <td>Normal</td>\n",
       "      <td>Male</td>\n",
       "      <td>Home and lifestyle</td>\n",
       "      <td>65.82</td>\n",
       "      <td>1</td>\n",
       "      <td>3.2910</td>\n",
       "      <td>69.1110</td>\n",
       "      <td>2019-02-22</td>\n",
       "      <td>2023-01-16 15:33:00</td>\n",
       "      <td>Cash</td>\n",
       "      <td>65.82</td>\n",
       "      <td>4.761905</td>\n",
       "      <td>3.2910</td>\n",
       "      <td>4.1</td>\n",
       "      <td>February</td>\n",
       "      <td>Friday</td>\n",
       "      <td>4</td>\n",
       "    </tr>\n",
       "    <tr>\n",
       "      <th>999</th>\n",
       "      <td>Yangon</td>\n",
       "      <td>Member</td>\n",
       "      <td>Female</td>\n",
       "      <td>Fashion accessories</td>\n",
       "      <td>88.34</td>\n",
       "      <td>7</td>\n",
       "      <td>30.9190</td>\n",
       "      <td>649.2990</td>\n",
       "      <td>2019-02-18</td>\n",
       "      <td>2023-01-16 13:28:00</td>\n",
       "      <td>Cash</td>\n",
       "      <td>618.38</td>\n",
       "      <td>4.761905</td>\n",
       "      <td>30.9190</td>\n",
       "      <td>6.6</td>\n",
       "      <td>February</td>\n",
       "      <td>Monday</td>\n",
       "      <td>0</td>\n",
       "    </tr>\n",
       "  </tbody>\n",
       "</table>\n",
       "<p>1000 rows × 18 columns</p>\n",
       "</div>"
      ],
      "text/plain": [
       "          City Customer type  Gender            Product line  Unit price  \\\n",
       "0       Yangon        Member  Female       Health and beauty       74.69   \n",
       "1    Naypyitaw        Normal  Female  Electronic accessories       15.28   \n",
       "2       Yangon        Normal    Male      Home and lifestyle       46.33   \n",
       "3       Yangon        Member    Male       Health and beauty       58.22   \n",
       "4       Yangon        Normal    Male       Sports and travel       86.31   \n",
       "..         ...           ...     ...                     ...         ...   \n",
       "995  Naypyitaw        Normal    Male       Health and beauty       40.35   \n",
       "996   Mandalay        Normal  Female      Home and lifestyle       97.38   \n",
       "997     Yangon        Member    Male      Food and beverages       31.84   \n",
       "998     Yangon        Normal    Male      Home and lifestyle       65.82   \n",
       "999     Yangon        Member  Female     Fashion accessories       88.34   \n",
       "\n",
       "     Quantity   Tax 5%      Total       Date                Time      Payment  \\\n",
       "0           7  26.1415   548.9715 2019-01-05 2023-01-16 13:08:00      Ewallet   \n",
       "1           5   3.8200    80.2200 2019-03-08 2023-01-16 10:29:00         Cash   \n",
       "2           7  16.2155   340.5255 2019-03-03 2023-01-16 13:23:00  Credit card   \n",
       "3           8  23.2880   489.0480 2019-01-27 2023-01-16 20:33:00      Ewallet   \n",
       "4           7  30.2085   634.3785 2019-02-08 2023-01-16 10:37:00      Ewallet   \n",
       "..        ...      ...        ...        ...                 ...          ...   \n",
       "995         1   2.0175    42.3675 2019-01-29 2023-01-16 13:46:00      Ewallet   \n",
       "996        10  48.6900  1022.4900 2019-03-02 2023-01-16 17:16:00      Ewallet   \n",
       "997         1   1.5920    33.4320 2019-02-09 2023-01-16 13:22:00         Cash   \n",
       "998         1   3.2910    69.1110 2019-02-22 2023-01-16 15:33:00         Cash   \n",
       "999         7  30.9190   649.2990 2019-02-18 2023-01-16 13:28:00         Cash   \n",
       "\n",
       "       cogs  gross margin percentage  gross income  Rating     month  \\\n",
       "0    522.83                 4.761905       26.1415     9.1   January   \n",
       "1     76.40                 4.761905        3.8200     9.6     March   \n",
       "2    324.31                 4.761905       16.2155     7.4     March   \n",
       "3    465.76                 4.761905       23.2880     8.4   January   \n",
       "4    604.17                 4.761905       30.2085     5.3  February   \n",
       "..      ...                      ...           ...     ...       ...   \n",
       "995   40.35                 4.761905        2.0175     6.2   January   \n",
       "996  973.80                 4.761905       48.6900     4.4     March   \n",
       "997   31.84                 4.761905        1.5920     7.7  February   \n",
       "998   65.82                 4.761905        3.2910     4.1  February   \n",
       "999  618.38                 4.761905       30.9190     6.6  February   \n",
       "\n",
       "          day  weekday  \n",
       "0    Saturday        5  \n",
       "1      Friday        4  \n",
       "2      Sunday        6  \n",
       "3      Sunday        6  \n",
       "4      Friday        4  \n",
       "..        ...      ...  \n",
       "995   Tuesday        1  \n",
       "996  Saturday        5  \n",
       "997  Saturday        5  \n",
       "998    Friday        4  \n",
       "999    Monday        0  \n",
       "\n",
       "[1000 rows x 18 columns]"
      ]
     },
     "execution_count": 15,
     "metadata": {},
     "output_type": "execute_result"
    }
   ],
   "source": [
    "df"
   ]
  },
  {
   "cell_type": "markdown",
   "id": "c4925ba6",
   "metadata": {
    "papermill": {
     "duration": 0.026419,
     "end_time": "2023-01-16T20:35:56.480005",
     "exception": false,
     "start_time": "2023-01-16T20:35:56.453586",
     "status": "completed"
    },
    "tags": []
   },
   "source": [
    "### Hence we have drop Invoice ID and Branch columns "
   ]
  },
  {
   "cell_type": "code",
   "execution_count": 16,
   "id": "1448d6c8",
   "metadata": {
    "execution": {
     "iopub.execute_input": "2023-01-16T20:35:56.533865Z",
     "iopub.status.busy": "2023-01-16T20:35:56.533424Z",
     "iopub.status.idle": "2023-01-16T20:35:56.993878Z",
     "shell.execute_reply": "2023-01-16T20:35:56.993067Z"
    },
    "papermill": {
     "duration": 0.490204,
     "end_time": "2023-01-16T20:35:56.995953",
     "exception": false,
     "start_time": "2023-01-16T20:35:56.505749",
     "status": "completed"
    },
    "tags": []
   },
   "outputs": [
    {
     "data": {
      "image/png": "[encoded data removed]",
      "text/plain": [
       "<Figure size 720x720 with 4 Axes>"
      ]
     },
     "metadata": {
      "needs_background": "light"
     },
     "output_type": "display_data"
    }
   ],
   "source": [
    "## Checking outliers using Boxplot\n",
    "l=[\"Tax 5%\",\"Total\",\"cogs\",\"gross income\"]\n",
    "pos=1\n",
    "plt.figure(figsize=(10,10))\n",
    "for i in l:\n",
    "    \n",
    "    plt.subplot(2,2,pos)\n",
    "    plt.boxplot(df[i])\n",
    "    plt.xlabel(i)\n",
    "    plt.title(\"outliers\")\n",
    "    pos=pos+1"
   ]
  },
  {
   "cell_type": "markdown",
   "id": "641da465",
   "metadata": {
    "papermill": {
     "duration": 0.026026,
     "end_time": "2023-01-16T20:35:57.049119",
     "exception": false,
     "start_time": "2023-01-16T20:35:57.023093",
     "status": "completed"
    },
    "tags": []
   },
   "source": [
    "### There is a strong relation between these columns as we can see in correlation"
   ]
  },
  {
   "cell_type": "markdown",
   "id": "4836fdc7",
   "metadata": {
    "papermill": {
     "duration": 0.026026,
     "end_time": "2023-01-16T20:35:57.101889",
     "exception": false,
     "start_time": "2023-01-16T20:35:57.075863",
     "status": "completed"
    },
    "tags": []
   },
   "source": [
    "## Step 3 - Checking correlation"
   ]
  },
  {
   "cell_type": "code",
   "execution_count": 17,
   "id": "3ccaab6a",
   "metadata": {
    "execution": {
     "iopub.execute_input": "2023-01-16T20:35:57.157046Z",
     "iopub.status.busy": "2023-01-16T20:35:57.156208Z",
     "iopub.status.idle": "2023-01-16T20:35:57.174823Z",
     "shell.execute_reply": "2023-01-16T20:35:57.174051Z"
    },
    "papermill": {
     "duration": 0.048581,
     "end_time": "2023-01-16T20:35:57.176914",
     "exception": false,
     "start_time": "2023-01-16T20:35:57.128333",
     "status": "completed"
    },
    "tags": []
   },
   "outputs": [
    {
     "data": {
      "text/html": [
       "<div>\n",
       "<style scoped>\n",
       "    .dataframe tbody tr th:only-of-type {\n",
       "        vertical-align: middle;\n",
       "    }\n",
       "\n",
       "    .dataframe tbody tr th {\n",
       "        vertical-align: top;\n",
       "    }\n",
       "\n",
       "    .dataframe thead th {\n",
       "        text-align: right;\n",
       "    }\n",
       "</style>\n",
       "<table border=\"1\" class=\"dataframe\">\n",
       "  <thead>\n",
       "    <tr style=\"text-align: right;\">\n",
       "      <th></th>\n",
       "      <th>Unit price</th>\n",
       "      <th>Quantity</th>\n",
       "      <th>Tax 5%</th>\n",
       "      <th>Total</th>\n",
       "      <th>cogs</th>\n",
       "      <th>gross margin percentage</th>\n",
       "      <th>gross income</th>\n",
       "      <th>Rating</th>\n",
       "      <th>weekday</th>\n",
       "    </tr>\n",
       "  </thead>\n",
       "  <tbody>\n",
       "    <tr>\n",
       "      <th>Unit price</th>\n",
       "      <td>1.000000</td>\n",
       "      <td>0.010778</td>\n",
       "      <td>0.633962</td>\n",
       "      <td>0.633962</td>\n",
       "      <td>0.633962</td>\n",
       "      <td>NaN</td>\n",
       "      <td>0.633962</td>\n",
       "      <td>-0.008778</td>\n",
       "      <td>-0.007040</td>\n",
       "    </tr>\n",
       "    <tr>\n",
       "      <th>Quantity</th>\n",
       "      <td>0.010778</td>\n",
       "      <td>1.000000</td>\n",
       "      <td>0.705510</td>\n",
       "      <td>0.705510</td>\n",
       "      <td>0.705510</td>\n",
       "      <td>NaN</td>\n",
       "      <td>0.705510</td>\n",
       "      <td>-0.015815</td>\n",
       "      <td>0.054770</td>\n",
       "    </tr>\n",
       "    <tr>\n",
       "      <th>Tax 5%</th>\n",
       "      <td>0.633962</td>\n",
       "      <td>0.705510</td>\n",
       "      <td>1.000000</td>\n",
       "      <td>1.000000</td>\n",
       "      <td>1.000000</td>\n",
       "      <td>NaN</td>\n",
       "      <td>1.000000</td>\n",
       "      <td>-0.036442</td>\n",
       "      <td>0.038809</td>\n",
       "    </tr>\n",
       "    <tr>\n",
       "      <th>Total</th>\n",
       "      <td>0.633962</td>\n",
       "      <td>0.705510</td>\n",
       "      <td>1.000000</td>\n",
       "      <td>1.000000</td>\n",
       "      <td>1.000000</td>\n",
       "      <td>NaN</td>\n",
       "      <td>1.000000</td>\n",
       "      <td>-0.036442</td>\n",
       "      <td>0.038809</td>\n",
       "    </tr>\n",
       "    <tr>\n",
       "      <th>cogs</th>\n",
       "      <td>0.633962</td>\n",
       "      <td>0.705510</td>\n",
       "      <td>1.000000</td>\n",
       "      <td>1.000000</td>\n",
       "      <td>1.000000</td>\n",
       "      <td>NaN</td>\n",
       "      <td>1.000000</td>\n",
       "      <td>-0.036442</td>\n",
       "      <td>0.038809</td>\n",
       "    </tr>\n",
       "    <tr>\n",
       "      <th>gross margin percentage</th>\n",
       "      <td>NaN</td>\n",
       "      <td>NaN</td>\n",
       "      <td>NaN</td>\n",
       "      <td>NaN</td>\n",
       "      <td>NaN</td>\n",
       "      <td>NaN</td>\n",
       "      <td>NaN</td>\n",
       "      <td>NaN</td>\n",
       "      <td>NaN</td>\n",
       "    </tr>\n",
       "    <tr>\n",
       "      <th>gross income</th>\n",
       "      <td>0.633962</td>\n",
       "      <td>0.705510</td>\n",
       "      <td>1.000000</td>\n",
       "      <td>1.000000</td>\n",
       "      <td>1.000000</td>\n",
       "      <td>NaN</td>\n",
       "      <td>1.000000</td>\n",
       "      <td>-0.036442</td>\n",
       "      <td>0.038809</td>\n",
       "    </tr>\n",
       "    <tr>\n",
       "      <th>Rating</th>\n",
       "      <td>-0.008778</td>\n",
       "      <td>-0.015815</td>\n",
       "      <td>-0.036442</td>\n",
       "      <td>-0.036442</td>\n",
       "      <td>-0.036442</td>\n",
       "      <td>NaN</td>\n",
       "      <td>-0.036442</td>\n",
       "      <td>1.000000</td>\n",
       "      <td>-0.013879</td>\n",
       "    </tr>\n",
       "    <tr>\n",
       "      <th>weekday</th>\n",
       "      <td>-0.007040</td>\n",
       "      <td>0.054770</td>\n",
       "      <td>0.038809</td>\n",
       "      <td>0.038809</td>\n",
       "      <td>0.038809</td>\n",
       "      <td>NaN</td>\n",
       "      <td>0.038809</td>\n",
       "      <td>-0.013879</td>\n",
       "      <td>1.000000</td>\n",
       "    </tr>\n",
       "  </tbody>\n",
       "</table>\n",
       "</div>"
      ],
      "text/plain": [
       "                         Unit price  Quantity    Tax 5%     Total      cogs  \\\n",
       "Unit price                 1.000000  0.010778  0.633962  0.633962  0.633962   \n",
       "Quantity                   0.010778  1.000000  0.705510  0.705510  0.705510   \n",
       "Tax 5%                     0.633962  0.705510  1.000000  1.000000  1.000000   \n",
       "Total                      0.633962  0.705510  1.000000  1.000000  1.000000   \n",
       "cogs                       0.633962  0.705510  1.000000  1.000000  1.000000   \n",
       "gross margin percentage         NaN       NaN       NaN       NaN       NaN   \n",
       "gross income               0.633962  0.705510  1.000000  1.000000  1.000000   \n",
       "Rating                    -0.008778 -0.015815 -0.036442 -0.036442 -0.036442   \n",
       "weekday                   -0.007040  0.054770  0.038809  0.038809  0.038809   \n",
       "\n",
       "                         gross margin percentage  gross income    Rating  \\\n",
       "Unit price                                   NaN      0.633962 -0.008778   \n",
       "Quantity                                     NaN      0.705510 -0.015815   \n",
       "Tax 5%                                       NaN      1.000000 -0.036442   \n",
       "Total                                        NaN      1.000000 -0.036442   \n",
       "cogs                                         NaN      1.000000 -0.036442   \n",
       "gross margin percentage                      NaN           NaN       NaN   \n",
       "gross income                                 NaN      1.000000 -0.036442   \n",
       "Rating                                       NaN     -0.036442  1.000000   \n",
       "weekday                                      NaN      0.038809 -0.013879   \n",
       "\n",
       "                          weekday  \n",
       "Unit price              -0.007040  \n",
       "Quantity                 0.054770  \n",
       "Tax 5%                   0.038809  \n",
       "Total                    0.038809  \n",
       "cogs                     0.038809  \n",
       "gross margin percentage       NaN  \n",
       "gross income             0.038809  \n",
       "Rating                  -0.013879  \n",
       "weekday                  1.000000  "
      ]
     },
     "execution_count": 17,
     "metadata": {},
     "output_type": "execute_result"
    }
   ],
   "source": [
    "df.corr()"
   ]
  },
  {
   "cell_type": "code",
   "execution_count": 18,
   "id": "04bbb9e5",
   "metadata": {
    "execution": {
     "iopub.execute_input": "2023-01-16T20:35:57.232134Z",
     "iopub.status.busy": "2023-01-16T20:35:57.231701Z",
     "iopub.status.idle": "2023-01-16T20:35:57.841951Z",
     "shell.execute_reply": "2023-01-16T20:35:57.840875Z"
    },
    "papermill": {
     "duration": 0.640715,
     "end_time": "2023-01-16T20:35:57.844289",
     "exception": false,
     "start_time": "2023-01-16T20:35:57.203574",
     "status": "completed"
    },
    "tags": []
   },
   "outputs": [
    {
     "data": {
      "text/plain": [
       "<AxesSubplot:>"
      ]
     },
     "execution_count": 18,
     "metadata": {},
     "output_type": "execute_result"
    },
    {
     "data": {
      "image/png": "[encoded data removed]",
      "text/plain": [
       "<Figure size 432x288 with 2 Axes>"
      ]
     },
     "metadata": {
      "needs_background": "light"
     },
     "output_type": "display_data"
    }
   ],
   "source": [
    "sns.heatmap(df.corr(),annot=True)"
   ]
  },
  {
   "cell_type": "markdown",
   "id": "0c446b41",
   "metadata": {
    "papermill": {
     "duration": 0.027305,
     "end_time": "2023-01-16T20:35:57.900081",
     "exception": false,
     "start_time": "2023-01-16T20:35:57.872776",
     "status": "completed"
    },
    "tags": []
   },
   "source": [
    "### We can see there is strong relation between Tax 5%, Total, cogs and gross income"
   ]
  },
  {
   "cell_type": "code",
   "execution_count": 19,
   "id": "817b2b9a",
   "metadata": {
    "execution": {
     "iopub.execute_input": "2023-01-16T20:35:57.958499Z",
     "iopub.status.busy": "2023-01-16T20:35:57.958064Z",
     "iopub.status.idle": "2023-01-16T20:35:58.018928Z",
     "shell.execute_reply": "2023-01-16T20:35:58.017465Z"
    },
    "papermill": {
     "duration": 0.095828,
     "end_time": "2023-01-16T20:35:58.024141",
     "exception": false,
     "start_time": "2023-01-16T20:35:57.928313",
     "status": "completed"
    },
    "tags": []
   },
   "outputs": [
    {
     "name": "stdout",
     "output_type": "stream",
     "text": [
      "City ---- ['Yangon' 'Naypyitaw' 'Mandalay']\n",
      "Customer type ---- ['Member' 'Normal']\n",
      "Gender ---- ['Female' 'Male']\n",
      "Product line ---- ['Health and beauty' 'Electronic accessories' 'Home and lifestyle'\n",
      " 'Sports and travel' 'Food and beverages' 'Fashion accessories']\n",
      "Unit price ---- [74.69 15.28 46.33 58.22 86.31 85.39 68.84 73.56 36.26 54.84 14.48 25.51\n",
      " 46.95 43.19 71.38 93.72 68.93 72.61 54.67 40.3  86.04 87.98 33.2  34.56\n",
      " 88.63 52.59 33.52 87.67 88.36 24.89 94.13 78.07 83.78 96.58 99.42 68.12\n",
      " 62.62 60.88 54.92 30.12 86.72 56.11 69.12 98.7  15.37 93.96 56.69 20.01\n",
      " 18.93 82.63 91.4  44.59 17.87 15.43 16.16 85.98 44.34 89.6  72.35 30.61\n",
      " 24.74 55.73 55.07 15.81 75.74 15.87 33.47 97.61 78.77 18.33 89.48 62.12\n",
      " 48.52 75.91 74.67 41.65 49.04 78.31 20.38 99.19 96.68 19.25 80.36 48.91\n",
      " 83.06 76.52 49.38 42.47 76.99 47.38 44.86 21.98 64.36 89.75 97.16 87.87\n",
      " 12.45 52.75 82.7  48.71 78.55 23.07 58.26 30.35 88.67 27.38 62.13 33.98\n",
      " 81.97 16.49 98.21 72.84 58.07 80.79 27.02 21.94 51.36 10.96 53.44 99.56\n",
      " 57.12 99.96 63.91 56.47 93.69 32.25 31.73 68.54 90.28 39.62 92.13 34.84\n",
      " 87.45 81.3  90.22 26.31 34.42 51.91 72.5  89.8  90.5  68.6  30.41 77.95\n",
      " 46.26 30.14 66.14 71.86 32.46 91.54 83.24 16.48 80.97 92.29 72.17 50.28\n",
      " 97.22 93.39 43.18 63.69 45.79 76.4  39.9  42.57 95.58 98.98 51.28 69.52\n",
      " 70.01 80.05 20.85 52.89 19.79 33.84 22.17 22.51 73.88 86.8  64.26 38.47\n",
      " 15.5  34.31 12.34 18.08 94.49 46.47 74.07 69.81 77.04 73.52 87.8  25.55\n",
      " 32.71 74.29 43.7  25.29 41.5  71.39 19.15 57.49 61.41 25.9  17.77 23.03\n",
      " 66.65 28.53 30.37 99.73 26.23 93.26 92.36 46.42 29.61 18.28 24.77 94.64\n",
      " 94.87 57.34 45.35 62.08 11.81 12.54 43.25 87.16 69.37 37.06 90.7  63.42\n",
      " 81.37 10.59 84.09 73.82 51.94 93.14 17.41 44.22 13.22 89.69 24.94 59.77\n",
      " 93.2  62.65 93.87 47.59 81.4  17.94 77.72 73.06 46.55 35.19 14.39 23.75\n",
      " 58.9  32.62 66.35 25.91 65.94 75.06 16.45 38.3  22.24 54.45 98.4  35.47\n",
      " 74.6  70.74 35.54 67.43 21.12 21.54 12.03 99.71 47.97 21.82 95.42 70.99\n",
      " 44.02 69.96 37.   15.34 99.83 47.67 66.68 74.86 48.51 94.88 27.85 62.48\n",
      " 36.36 18.11 51.92 28.84 78.38 60.01 88.61 99.82 39.01 48.61 51.19 14.96\n",
      " 72.2  40.23 88.79 26.48 81.91 79.93 69.33 14.23 15.55 78.13 99.37 21.08\n",
      " 74.79 29.67 44.07 22.93 39.42 15.26 61.77 21.52 97.74 99.78 94.26 51.13\n",
      " 22.02 32.9  77.02 23.48 14.7  28.45 57.95 47.65 42.82 48.09 55.97 76.9\n",
      " 97.03 44.65 77.93 71.95 89.25 26.02 13.5  99.3  51.69 54.73 27.   30.24\n",
      " 89.14 37.55 95.44 27.5  74.97 80.96 94.47 99.79 73.22 41.24 81.68 51.32\n",
      " 14.36 21.5  26.26 60.96 70.11 42.08 67.09 96.7  35.38 95.49 96.98 23.65\n",
      " 82.33 26.61 99.69 74.89 40.94 75.82 46.77 32.32 54.07 18.22 80.48 37.95\n",
      " 76.82 52.26 79.74 77.5  54.27 13.59 41.06 19.24 39.43 46.22 13.98 39.75\n",
      " 97.79 67.26 13.79 68.71 56.53 23.82 34.21 21.87 20.97 25.84 50.93 96.11\n",
      " 45.38 81.51 57.22 25.22 38.6  84.05 97.21 25.42 16.28 40.61 53.17 20.87\n",
      " 67.27 90.65 69.08 43.27 23.46 95.54 47.44 99.24 82.93 33.99 17.04 40.86\n",
      " 17.44 88.43 89.21 12.78 19.1  27.66 45.74 27.07 39.12 74.71 22.01 63.61\n",
      " 25.   20.77 29.56 77.4  79.39 46.57 35.89 40.52 73.05 73.95 22.62 51.34\n",
      " 54.55 37.15 37.02 21.58 98.84 83.77 40.05 43.13 72.57 64.44 65.18 33.26\n",
      " 84.07 34.37 65.97 32.8  37.14 60.38 36.98 49.49 41.09 22.96 77.68 34.7\n",
      " 19.66 25.32 12.12 99.89 75.92 63.22 90.24 98.13 51.52 73.97 31.9  69.4\n",
      " 93.31 88.45 24.18 48.5  61.29 15.95 90.74 42.91 54.28 99.55 58.39 51.47\n",
      " 54.86 39.39 34.73 71.92 45.71 83.17 37.44 62.87 81.71 91.41 39.21 59.86\n",
      " 54.36 98.09 25.43 86.68 22.95 16.31 28.32 16.67 73.96 97.94 87.48 30.68\n",
      " 75.88 20.18 18.77 71.2  38.81 29.42 60.95 51.54 66.06 57.27 54.31 58.24\n",
      " 22.21 19.32 37.48 72.04 98.52 41.66 72.42 89.2  42.42 74.51 99.25 81.21\n",
      " 49.33 65.74 79.86 73.98 82.04 26.67 10.13 72.39 85.91 81.31 60.3  31.77\n",
      " 64.27 69.51 27.22 92.98 63.06 51.71 52.34 43.06 59.61 14.62 46.53 24.24\n",
      " 45.58 75.2  96.8  14.82 52.2  46.66 36.85 70.32 83.08 64.99 77.56 54.51\n",
      " 51.89 31.75 53.65 49.79 57.89 28.96 98.97 93.22 80.93 67.45 38.72 72.6\n",
      " 87.91 98.53 43.46 71.68 91.61 94.59 83.25 91.35 78.88 60.87 82.58 53.3\n",
      " 12.09 64.19 99.7  79.91 66.47 28.95 46.2  17.63 52.42 98.79 88.55 55.67\n",
      " 72.52 12.05 19.36 70.21 33.63 15.49 75.66 55.81 72.78 37.32 60.18 15.69\n",
      " 88.15 27.93 55.45 42.97 17.14 58.75 87.1  98.8  48.63 57.74 17.97 47.71\n",
      " 40.62 56.04 93.4  73.41 33.64 45.48 64.08 73.47 58.95 39.48 34.81 49.32\n",
      " 21.48 23.08 49.1  64.83 63.56 72.88 67.1  70.19 55.04 73.38 52.6  87.37\n",
      " 27.04 62.19 69.58 97.5  60.41 19.77 80.47 88.39 71.77 43.   68.98 15.62\n",
      " 25.7  80.62 75.53 77.63 13.85 35.68 71.46 11.94 17.48 25.56 90.63 44.12\n",
      " 36.77 23.34 28.5  55.57 69.74 97.26 52.18 22.32 56.   19.7  53.72 81.95\n",
      " 81.2  58.76 91.56 55.61 84.83 71.63 37.69 31.67 38.42 65.23 10.53 12.29\n",
      " 81.23 27.28 17.42 73.28 84.87 97.29 35.74 96.52 18.85 55.39 77.2  72.13\n",
      " 63.88 10.69 55.5  95.46 76.06 13.69 95.64 11.43 85.87 67.99 65.65 28.86\n",
      " 65.31 93.38 25.25 21.8  94.76 30.62 44.01 10.16 74.58 71.89 10.99 60.47\n",
      " 58.91 46.41 68.55 97.37 92.6  46.61 27.18 24.49 92.78 86.69 23.01 30.2\n",
      " 67.39 48.96 75.59 77.47 93.18 50.23 17.75 62.18 10.75 40.26 64.97 95.15\n",
      " 48.62 53.21 45.44 33.88 96.16 47.16 47.68 10.17 60.08 72.11 41.28 64.95\n",
      " 74.22 10.56 62.57 11.85 91.3  40.73 52.38 38.54 44.63 55.87 29.22 39.47\n",
      " 14.87 21.32 93.78 73.26 22.38 99.1  74.1  98.48 53.19 52.79 95.95 36.51\n",
      " 28.31 57.59 47.63 86.27 12.76 11.28 51.07 79.59 33.81 90.53 62.82 24.31\n",
      " 64.59 24.82 56.5  21.43 89.06 23.29 65.26 52.35 90.02 12.1  33.21 10.18\n",
      " 31.99 83.34 87.9  12.19 76.92 83.66 57.91 92.49 28.38 50.45 99.16 60.74\n",
      " 47.27 85.6  35.04 44.84 45.97 27.73 11.53 58.32 84.61 82.88 79.54 49.01\n",
      " 29.15 56.13 93.12 99.6  35.49 42.85 94.67 68.97 35.79 16.37 12.73 83.14\n",
      " 35.22 13.78 88.31 88.25 25.31 99.92 83.35 74.44 63.15 85.72 78.89 92.09\n",
      " 57.29 66.52 45.68 50.79 10.08 93.88 84.25 53.78 35.81 26.43 39.91 21.9\n",
      " 62.85 21.04 65.91 50.49 46.02 15.8  98.66 91.98 20.89 96.82 33.33 38.27\n",
      " 33.3  81.01 34.49 84.63 36.91 87.08 80.08 86.13 49.92 74.66 26.6  25.45\n",
      " 67.77 59.59 58.15 97.48 96.37 63.71 14.76 62.   82.34 75.37 56.56 76.6\n",
      " 58.03 17.49 40.35 97.38 31.84 65.82 88.34]\n",
      "Quantity ---- [ 7  5  8  6 10  2  3  4  1  9]\n",
      "Tax 5% ---- [26.1415  3.82   16.2155 23.288  30.2085 29.8865 20.652  36.78    3.626\n",
      "  8.226   2.896   5.102  11.7375 21.595  35.69   28.116  24.1255 21.783\n",
      "  8.2005  4.03   21.51   13.197   3.32    8.64   13.2945 21.036   1.676\n",
      "  8.767  22.09   11.2005 23.5325 35.1315 33.512   9.658  19.884   3.406\n",
      " 15.655  27.396  21.968  12.048   4.336   5.611  20.736  39.48    1.537\n",
      " 18.792  25.5105  9.0045  5.679  41.315  31.99   11.1475  3.574   0.7715\n",
      "  1.616  34.392   4.434  35.84   36.175   9.183   3.711  16.719  24.7815\n",
      "  7.905  15.148   7.935   3.347  29.283  39.385   0.9165 44.74   31.06\n",
      "  7.278  22.773  33.6015 20.825  22.068  39.155   5.095  29.757  14.502\n",
      "  7.7    16.072  12.2275 29.071  19.13   17.283   2.1235 23.097   9.476\n",
      " 22.43    7.693  28.962   4.4875  4.858  43.935   3.735   7.9125 24.81\n",
      "  2.4355 35.3475 10.3815 17.478  10.6225 44.335   8.214  18.639  15.291\n",
      " 40.985   1.649  14.7315 25.494  26.1315 36.3555  4.053   5.485   2.568\n",
      "  5.48    5.344  39.824  19.992  44.982  25.564  22.588  32.7915  8.0625\n",
      " 14.2785 27.416  40.626  13.867  27.639   6.968  26.235  24.39   13.533\n",
      "  6.5775 10.326  25.955  29.     44.9    45.25   34.3     1.5205 23.385\n",
      " 13.878  15.07   13.228  28.744  12.984  18.308  12.096  37.458   4.944\n",
      " 32.388  23.0725  3.6085 12.57   43.749  28.017  17.272   3.1845 16.0265\n",
      "  7.64   19.95   17.028  47.79   49.49   15.384  24.332  17.5025 20.0125\n",
      "  8.34   15.867   7.916  15.228   8.868   7.8785 22.164  13.02   22.491\n",
      " 15.388   7.75   13.724   4.319   2.712  37.796   9.294   3.7035 13.962\n",
      " 11.556   7.352  39.51    5.11    8.1775  3.7145  4.37    1.2645  8.3\n",
      " 17.8475  5.745  11.498  21.4935 12.95    4.4425 10.3635 29.9925 14.265\n",
      "  4.5555 44.8785 11.8035 41.967  23.09    6.963   0.914   6.1925 14.196\n",
      " 37.948   8.601  13.605  21.728   2.9525  0.627   4.325   8.716  31.2165\n",
      "  7.412  27.21   25.368   8.137   1.5885 37.8405 14.764  25.97    9.314\n",
      "  4.3525 11.055   3.305   4.4845 11.223   5.977   9.32   12.53   37.548\n",
      " 19.036  12.21    4.485  15.544  25.571  20.9475 17.595   1.439   4.75\n",
      " 23.56    6.524   3.3175  7.773   6.45   13.188  33.777   3.29    7.66\n",
      " 11.12    2.7225 34.44    7.094  37.3    14.148  17.77   16.8575  2.112\n",
      "  9.693   1.203  29.913  16.7895 10.91   19.084  35.495  22.01   27.984\n",
      "  1.85    0.767  29.949   9.534  16.67    3.743  10.6875 16.9785 33.208\n",
      " 20.15    9.7475  3.124   3.636   9.055  12.98    5.768  23.514  12.002\n",
      "  4.4305  9.982   1.9505  2.4305 10.238   5.984  25.27   14.0805 35.516\n",
      "  3.972   8.191  23.979   6.933   3.5575  6.9975 39.065   9.937   3.162\n",
      " 18.6975 10.3845  8.814  10.3185  1.971   4.578  15.4425  6.456  19.548\n",
      " 24.945  18.852  10.226   7.272   9.909   4.935  19.255   2.348   3.675\n",
      "  7.1125 34.38   17.385   7.1475 19.269   7.2135 19.5895 26.915  24.2575\n",
      "  6.6975 35.0685  3.5975 35.7     9.107   6.75   49.65   18.0915 19.1555\n",
      " 12.15    1.512  17.828  18.775  47.72    4.125   3.7485 32.384  37.788\n",
      "  9.979  21.966   8.248  16.336  23.094   7.18    9.675   9.191   6.096\n",
      " 21.033  12.624  16.7725 24.175  15.921  33.4215 19.396   4.73   16.466\n",
      "  2.661  24.9225 14.978  10.235   3.791  14.031  16.16   24.3315  6.377\n",
      " 12.072  18.975   3.841  26.13    3.987  19.375  13.5675  6.1155 12.318\n",
      "  8.658  11.829   9.244   0.699   9.9375 34.2265 13.452   3.4475 13.742\n",
      " 11.306   5.955  17.105   2.187   5.2425  3.876  20.372   4.8055  9.076\n",
      "  4.0755  5.722   8.827   5.79   12.6075 48.605  10.168   0.814  18.2745\n",
      " 18.6095  3.1305 16.8175 45.325   6.908   4.327   7.038  33.439   2.372\n",
      " 44.658  16.586  10.197   3.408  16.344   4.36   35.372  40.1445  0.639\n",
      "  6.685   0.9575 13.83    6.861   1.3535  1.956  22.413   6.603  15.9025\n",
      "  1.25    4.154   7.39   34.83   39.695  23.285   1.7945 10.13   36.525\n",
      " 14.79    1.131  12.835  27.275  13.0025 11.106   1.079   4.942  25.131\n",
      "  8.01   21.565  29.028  16.11    9.777   8.315  16.814  17.185   1.93\n",
      " 26.388  16.4     9.285  30.19   18.49    9.898  20.545   7.43    1.148\n",
      " 34.956   3.47    9.83   10.128   6.06    9.989  30.368   6.322  27.072\n",
      "  4.9065 20.608   3.6985  1.595   6.94    9.331   4.4225  9.672   7.275\n",
      " 25.215  15.3225  4.785  31.759  10.7275 18.998  34.8425 20.4365  2.5735\n",
      " 13.715   9.8475  3.473  17.98    6.8565 24.951  11.232   6.287  24.513\n",
      " 22.8525  7.842   5.986  27.18   44.1405  7.629  34.672  11.475   7.3395\n",
      "  7.08    5.8345  3.698   4.897  14.61   26.244   4.602   3.794   4.036\n",
      "  5.631   3.56    7.762  14.71   27.4275 12.885  19.818   8.5905 24.4395\n",
      " 26.208   6.663   6.762   5.622   7.204  49.26   12.498  10.863   9.711\n",
      " 44.6    16.968  22.353   9.925  40.605  24.665  29.583  27.951  25.893\n",
      " 20.51   13.335   3.5455  7.239  21.4775 28.4585 12.06    6.354  12.854\n",
      "  6.951   4.083  15.536   9.298   3.616   9.459  10.342   7.851  10.765\n",
      " 29.805   3.655  13.959   8.484   2.279  11.28   14.52    2.223   7.83\n",
      " 20.997   9.2125  7.032   3.2495 38.78   16.353  18.1615  6.35   18.7775\n",
      "  9.958   1.5305  5.789   1.448  44.5365 13.983   4.0465 33.725  17.424\n",
      " 21.78   21.9775 29.559  13.038  10.752   4.5805 33.1065 41.625   4.5675\n",
      "  7.888   6.087  41.29    7.995   0.6045 32.095  11.7465  8.377  14.955\n",
      " 11.9865 33.235  10.1325  2.31    4.4075  7.863  14.8185 35.42    5.567\n",
      " 29.008   3.0125  8.712  21.063   1.6815  1.549  12.37   18.915  16.743\n",
      " 36.39   16.794  12.036   2.3535  4.9845 13.2225  6.9825  2.7725  6.4455\n",
      "  5.999  17.625  43.55    9.88    9.726   8.661   3.594  14.313   4.062\n",
      " 28.02    9.34   11.0115 13.456  22.74   22.428  14.694  29.475  14.55\n",
      "  1.974   1.7405 14.796   2.148   6.924   4.91    6.483  31.78    7.288\n",
      " 10.065  31.5855 19.264  24.315  25.683  23.67   21.8425  5.408  12.438\n",
      " 31.311  48.75   24.164   4.848   9.885  36.2115 39.7755 25.1195  8.6\n",
      "  3.449   6.248   3.855  24.186  15.106  34.9335  6.2325  8.92   25.011\n",
      "  1.791   6.807   5.244   8.946  40.7835  6.618  12.8695  4.668  11.4\n",
      "  8.3355 34.87   19.452  18.263   4.464   8.4     0.985  26.558   2.686\n",
      " 40.975  28.42   29.38   36.624  42.282  19.4635  4.2415  7.163   3.769\n",
      " 12.668   1.921  32.615   2.6325  5.5305 28.4305  6.82    8.71   18.32\n",
      " 12.7305 38.916  14.296  28.956   9.425  11.078  38.6    36.065  25.552\n",
      "  2.6725 11.1    38.184  11.409   4.107  19.128   3.429  19.108  30.0545\n",
      " 23.7965  2.621   6.565   7.215  22.8585  4.669   6.3125 39.5415  8.72\n",
      " 18.952   1.531  17.604   2.54   26.103  28.756   2.7475  9.0705 20.6185\n",
      "  2.3205 13.71   48.685  32.41    4.661   2.718   3.0435 12.245   4.639\n",
      " 21.6725  6.903  12.08   23.5865 22.032  34.0155 15.494   9.318  10.046\n",
      "  0.8875 31.09    4.3    20.13   16.2425  4.7575 19.448  21.284  15.904\n",
      " 13.552  19.232  11.79   10.578   4.768   0.5085 10.3065 21.028   4.402\n",
      " 32.4495  6.192  32.475  37.11    4.224  12.514   4.74    4.565  14.2555\n",
      "  2.619   9.635  13.389  27.935   8.766   7.791   3.015   3.947   1.487\n",
      "  1.066  14.067   3.663   1.119  32.796  29.73    3.705   9.848  18.6165\n",
      " 26.395  23.9875 16.4295  8.448   5.662  17.277  21.4335  4.3135  1.276\n",
      "  5.076  17.8745 11.9385  5.0715 36.212   6.282   3.6465 12.918   8.687\n",
      "  2.825  10.715  26.718   4.658  26.104   2.6175  1.9875 36.008   4.84\n",
      " 16.605   4.072  15.995   8.334  15.953   4.395  36.735   4.876  38.46\n",
      " 20.915  23.164  23.1225  7.095  15.135  39.664  21.259  14.181  29.96\n",
      " 15.768  20.178   9.194   6.9325  4.0355  5.832  15.676  42.305  20.72\n",
      "  7.954  24.505   4.3725 11.226  37.248  20.536  14.94   10.647   2.1425\n",
      " 18.934  10.3455  3.939  16.1055  4.911   1.273  29.099  10.566   2.756\n",
      "  4.4155 17.829  39.7125  2.531  29.976   8.335  37.22   18.945  12.858\n",
      " 27.6115 22.37   13.8135 17.187  13.304  44.919  22.84   12.6975  3.528\n",
      " 32.858   8.425   2.689   8.9525 10.572   5.9865  3.285   4.208  19.773\n",
      " 14.8995 22.7205 13.806   7.9    44.397   4.599   2.089   0.775  14.523\n",
      "  3.333   3.827  14.985  12.1515  2.37    8.6225 42.315  12.9185 30.478\n",
      " 12.012   8.613   4.992  14.932   7.98    1.2725  3.3885 11.918  11.63\n",
      " 43.866  34.986  33.7295 15.9275  1.476  24.8    41.17   30.148  14.14\n",
      " 38.3     5.803   8.745   3.0475  2.0175 48.69    1.592   3.291  30.919 ]\n",
      "Total ---- [ 548.9715   80.22    340.5255  489.048   634.3785  627.6165  433.692\n",
      "  772.38     76.146   172.746    60.816   107.142   246.4875  453.495\n",
      "  749.49    590.436   506.6355  457.443   172.2105   84.63    451.71\n",
      "  277.137    69.72    181.44    279.1845  441.756    35.196   184.107\n",
      "  463.89    235.2105  494.1825  737.7615  703.752   202.818   417.564\n",
      "   71.526   328.755   575.316   461.328   253.008    91.056   117.831\n",
      "  435.456   829.08     32.277   394.632   535.7205  189.0945  119.259\n",
      "  867.615   671.79    234.0975   75.054    16.2015   33.936   722.232\n",
      "   93.114   752.64    759.675   192.843    77.931   351.099   520.4115\n",
      "  166.005   318.108   166.635    70.287   614.943   827.085    19.2465\n",
      "  939.54    652.26    152.838   478.233   705.6315  437.325   463.428\n",
      "  822.255   106.995   624.897   304.542   161.7     337.512   256.7775\n",
      "  610.491   401.73    362.943    44.5935  485.037   198.996   471.03\n",
      "  161.553   608.202    94.2375  102.018   922.635    78.435   166.1625\n",
      "  521.01     51.1455  742.2975  218.0115  367.038   223.0725  931.035\n",
      "  172.494   391.419   321.111   860.685    34.629   309.3615  535.374\n",
      "  548.7615  763.4655   85.113   115.185    53.928   115.08    112.224\n",
      "  836.304   419.832   944.622   536.844   474.348   688.6215  169.3125\n",
      "  299.8485  575.736   853.146   291.207   580.419   146.328   550.935\n",
      "  512.19    284.193   138.1275  216.846   545.055   609.      942.9\n",
      "  950.25    720.3      31.9305  491.085   291.438   316.47    277.788\n",
      "  603.624   272.664   384.468   254.016   786.618   103.824   680.148\n",
      "  484.5225   75.7785  263.97    918.729   588.357   362.712    66.8745\n",
      "  336.5565  160.44    418.95    357.588  1003.59   1039.29    323.064\n",
      "  510.972   367.5525  420.2625  175.14    333.207   166.236   319.788\n",
      "  186.228   165.4485  465.444   273.42    472.311   323.148   162.75\n",
      "  288.204    90.699    56.952   793.716   195.174    77.7735  293.202\n",
      "  242.676   154.392   829.71    107.31    171.7275   78.0045   91.77\n",
      "   26.5545  174.3     374.7975  120.645   241.458   451.3635  271.95\n",
      "   93.2925  217.6335  629.8425  299.565    95.6655  942.4485  247.8735\n",
      "  881.307   484.89    146.223    19.194   130.0425  298.116   796.908\n",
      "  180.621   285.705   456.288    62.0025   13.167    90.825   183.036\n",
      "  655.5465  155.652   571.41    532.728   170.877    33.3585  794.6505\n",
      "  310.044   545.37    195.594    91.4025  232.155    69.405    94.1745\n",
      "  235.683   125.517   195.72    263.13    788.508   399.756   256.41\n",
      "   94.185   326.424   536.991   439.8975  369.495    30.219    99.75\n",
      "  494.76    137.004    69.6675  163.233   135.45    276.948   709.317\n",
      "   69.09    160.86    233.52     57.1725  723.24    148.974   783.3\n",
      "  297.108   373.17    354.0075   44.352   203.553    25.263   628.173\n",
      "  352.5795  229.11    400.764   745.395   462.21    587.664    38.85\n",
      "   16.107   628.929   200.214   350.07     78.603   224.4375  356.5485\n",
      "  697.368   423.15    204.6975   65.604    76.356   190.155   272.58\n",
      "  121.128   493.794   252.042    93.0405  209.622    40.9605   51.0405\n",
      "  214.998   125.664   530.67    295.6905  745.836    83.412   172.011\n",
      "  503.559   145.593    74.7075  146.9475  820.365   208.677    66.402\n",
      "  392.6475  218.0745  185.094   216.6885   41.391    96.138   324.2925\n",
      "  135.576   410.508   523.845   395.892   214.746   152.712   208.089\n",
      "  103.635   404.355    49.308    77.175   149.3625  721.98    365.085\n",
      "  150.0975  404.649   151.4835  411.3795  565.215   509.4075  140.6475\n",
      "  736.4385   75.5475  749.7     191.247   141.75   1042.65    379.9215\n",
      "  402.2655  255.15     31.752   374.388   394.275  1002.12     86.625\n",
      "   78.7185  680.064   793.548   209.559   461.286   173.208   343.056\n",
      "  484.974   150.78    203.175   193.011   128.016   441.693   265.104\n",
      "  352.2225  507.675   334.341   701.8515  407.316    99.33    345.786\n",
      "   55.881   523.3725  314.538   214.935    79.611   294.651   339.36\n",
      "  510.9615  133.917   253.512   398.475    80.661   548.73     83.727\n",
      "  406.875   284.9175  128.4255  258.678   181.818   248.409   194.124\n",
      "   14.679   208.6875  718.7565  282.492    72.3975  288.582   237.426\n",
      "  125.055   359.205    45.927   110.0925   81.396   427.812   100.9155\n",
      "  190.596    85.5855  120.162   185.367   121.59    264.7575 1020.705\n",
      "  213.528    17.094   383.7645  390.7995   65.7405  353.1675  951.825\n",
      "  145.068    90.867   147.798   702.219    49.812   937.818   348.306\n",
      "  214.137    71.568   343.224    91.56    742.812   843.0345   13.419\n",
      "  140.385    20.1075  290.43    144.081    28.4235   41.076   470.673\n",
      "  138.663   333.9525   26.25     87.234   155.19    731.43    833.595\n",
      "  488.985    37.6845  212.73    767.025   310.59     23.751   269.535\n",
      "  572.775   273.0525  233.226    22.659   103.782   527.751   168.21\n",
      "  452.865   609.588   338.31    205.317   174.615   353.094   360.885\n",
      "   40.53    554.148   344.4     194.985   633.99    388.29    207.858\n",
      "  431.445   156.03     24.108   734.076    72.87    206.43    212.688\n",
      "  127.26    209.769   637.728   132.762   568.512   103.0365  432.768\n",
      "   77.6685   33.495   145.74    195.951    92.8725  203.112   152.775\n",
      "  529.515   321.7725  100.485   666.939   225.2775  398.958   731.6925\n",
      "  429.1665   54.0435  288.015   206.7975   72.933   377.58    143.9865\n",
      "  523.971   235.872   132.027   514.773   479.9025  164.682   125.706\n",
      "  570.78    926.9505  160.209   728.112   240.975   154.1295  148.68\n",
      "  122.5245   77.658   102.837   306.81    551.124    96.642    79.674\n",
      "   84.756   118.251    74.76    163.002   308.91    575.9775  270.585\n",
      "  416.178   180.4005  513.2295  550.368   139.923   142.002   118.062\n",
      "  151.284  1034.46    262.458   228.123   203.931   936.6     356.328\n",
      "  469.413   208.425   852.705   517.965   621.243   586.971   543.753\n",
      "  430.71    280.035    74.4555  152.019   451.0275  597.6285  253.26\n",
      "  133.434   269.934   145.971    85.743   326.256   195.258    75.936\n",
      "  198.639   217.182   164.871   226.065   625.905    76.755   293.139\n",
      "  178.164    47.859   236.88    304.92     46.683   164.43    440.937\n",
      "  193.4625  147.672    68.2395  814.38    343.413   381.3915  133.35\n",
      "  394.3275  209.118    32.1405  121.569    30.408   935.2665  293.643\n",
      "   84.9765  708.225   365.904   457.38    461.5275  620.739   273.798\n",
      "  225.792    96.1905  695.2365  874.125    95.9175  165.648   127.827\n",
      "  867.09    167.895    12.6945  673.995   246.6765  175.917   314.055\n",
      "  251.7165  697.935   212.7825   48.51     92.5575  165.123   311.1885\n",
      "  743.82    116.907   609.168    63.2625  182.952   442.323    35.3115\n",
      "   32.529   259.77    397.215   351.603   764.19    352.674   252.756\n",
      "   49.4235  104.6745  277.6725  146.6325   58.2225  135.3555  125.979\n",
      "  370.125   914.55    207.48    204.246   181.881    75.474   300.573\n",
      "   85.302   588.42    196.14    231.2415  282.576   477.54    470.988\n",
      "  308.574   618.975   305.55     41.454    36.5505  310.716    45.108\n",
      "  145.404   103.11    136.143   667.38    153.048   211.365   663.2955\n",
      "  404.544   510.615   539.343   497.07    458.6925  113.568   261.198\n",
      "  657.531  1023.75    507.444   101.808   207.585   760.4415  835.2855\n",
      "  527.5095  180.6      72.429   131.208    80.955   507.906   317.226\n",
      "  733.6035  130.8825  187.32    525.231    37.611   142.947   110.124\n",
      "  187.866   856.4535  138.978   270.2595   98.028   239.4     175.0455\n",
      "  732.27    408.492   383.523    93.744   176.4      20.685   557.718\n",
      "   56.406   860.475   596.82    616.98    769.104   887.922   408.7335\n",
      "   89.0715  150.423    79.149   266.028    40.341   684.915    55.2825\n",
      "  116.1405  597.0405  143.22    182.91    384.72    267.3405  817.236\n",
      "  300.216   608.076   197.925   232.638   810.6     757.365   536.592\n",
      "   56.1225  233.1     801.864   239.589    86.247   401.688    72.009\n",
      "  401.268   631.1445  499.7265   55.041   137.865   151.515   480.0285\n",
      "   98.049   132.5625  830.3715  183.12    397.992    32.151   369.684\n",
      "   53.34    548.163   603.876    57.6975  190.4805  432.9885   48.7305\n",
      "  287.91   1022.385   680.61     97.881    57.078    63.9135  257.145\n",
      "   97.419   455.1225  144.963   253.68    495.3165  462.672   714.3255\n",
      "  325.374   195.678   210.966    18.6375  652.89     90.3     422.73\n",
      "  341.0925   99.9075  408.408   446.964   333.984   284.592   403.872\n",
      "  247.59    222.138   100.128    10.6785  216.4365  441.588    92.442\n",
      "  681.4395  130.032   681.975   779.31     88.704   262.794    99.54\n",
      "   95.865   299.3655   54.999   202.335   281.169   586.635   184.086\n",
      "  163.611    63.315    82.887    31.227    22.386   295.407    76.923\n",
      "   23.499   688.716   624.33     77.805   206.808   390.9465  554.295\n",
      "  503.7375  345.0195  177.408   118.902   362.817   450.1035   90.5835\n",
      "   26.796   106.596   375.3645  250.7085  106.5015  760.452   131.922\n",
      "   76.5765  271.278   182.427    59.325   225.015   561.078    97.818\n",
      "  548.184    54.9675   41.7375  756.168   101.64    348.705    85.512\n",
      "  335.895   175.014   335.013    92.295   771.435   102.396   807.66\n",
      "  439.215   486.444   485.5725  148.995   317.835   832.944   446.439\n",
      "  297.801   629.16    331.128   423.738   193.074   145.5825   84.7455\n",
      "  122.472   329.196   888.405   435.12    167.034   514.605    91.8225\n",
      "  235.746   782.208   431.256   313.74    223.587    44.9925  397.614\n",
      "  217.2555   82.719   338.2155  103.131    26.733   611.079   221.886\n",
      "   57.876    92.7255  374.409   833.9625   53.151   629.496   175.035\n",
      "  781.62    397.845   270.018   579.8415  469.77    290.0835  360.927\n",
      "  279.384   943.299   479.64    266.6475   74.088   690.018   176.925\n",
      "   56.469   188.0025  222.012   125.7165   68.985    88.368   415.233\n",
      "  312.8895  477.1305  289.926   165.9     932.337    96.579    43.869\n",
      "   16.275   304.983    69.993    80.367   314.685   255.1815   49.77\n",
      "  181.0725  888.615   271.2885  640.038   252.252   180.873   104.832\n",
      "  313.572   167.58     26.7225   71.1585  250.278   244.23    921.186\n",
      "  734.706   708.3195  334.4775   30.996   520.8     864.57    633.108\n",
      "  296.94    804.3     121.863   183.645    63.9975   42.3675 1022.49\n",
      "   33.432    69.111   649.299 ]\n",
      "Date ---- ['2019-01-05T00:00:00.000000000' '2019-03-08T00:00:00.000000000'\n",
      " '2019-03-03T00:00:00.000000000' '2019-01-27T00:00:00.000000000'\n",
      " '2019-02-08T00:00:00.000000000' '2019-03-25T00:00:00.000000000'\n",
      " '2019-02-25T00:00:00.000000000' '2019-02-24T00:00:00.000000000'\n",
      " '2019-01-10T00:00:00.000000000' '2019-02-20T00:00:00.000000000'\n",
      " '2019-02-06T00:00:00.000000000' '2019-03-09T00:00:00.000000000'\n",
      " '2019-02-12T00:00:00.000000000' '2019-02-07T00:00:00.000000000'\n",
      " '2019-03-29T00:00:00.000000000' '2019-01-15T00:00:00.000000000'\n",
      " '2019-03-11T00:00:00.000000000' '2019-01-01T00:00:00.000000000'\n",
      " '2019-01-21T00:00:00.000000000' '2019-03-05T00:00:00.000000000'\n",
      " '2019-03-15T00:00:00.000000000' '2019-02-17T00:00:00.000000000'\n",
      " '2019-03-02T00:00:00.000000000' '2019-03-22T00:00:00.000000000'\n",
      " '2019-03-10T00:00:00.000000000' '2019-01-25T00:00:00.000000000'\n",
      " '2019-01-28T00:00:00.000000000' '2019-01-07T00:00:00.000000000'\n",
      " '2019-03-23T00:00:00.000000000' '2019-01-17T00:00:00.000000000'\n",
      " '2019-02-02T00:00:00.000000000' '2019-03-04T00:00:00.000000000'\n",
      " '2019-03-16T00:00:00.000000000' '2019-02-27T00:00:00.000000000'\n",
      " '2019-02-10T00:00:00.000000000' '2019-03-19T00:00:00.000000000'\n",
      " '2019-02-03T00:00:00.000000000' '2019-03-07T00:00:00.000000000'\n",
      " '2019-02-28T00:00:00.000000000' '2019-03-27T00:00:00.000000000'\n",
      " '2019-01-20T00:00:00.000000000' '2019-03-12T00:00:00.000000000'\n",
      " '2019-02-15T00:00:00.000000000' '2019-03-06T00:00:00.000000000'\n",
      " '2019-02-14T00:00:00.000000000' '2019-03-13T00:00:00.000000000'\n",
      " '2019-01-24T00:00:00.000000000' '2019-01-06T00:00:00.000000000'\n",
      " '2019-02-11T00:00:00.000000000' '2019-01-22T00:00:00.000000000'\n",
      " '2019-01-13T00:00:00.000000000' '2019-01-09T00:00:00.000000000'\n",
      " '2019-01-12T00:00:00.000000000' '2019-01-26T00:00:00.000000000'\n",
      " '2019-01-23T00:00:00.000000000' '2019-02-23T00:00:00.000000000'\n",
      " '2019-01-02T00:00:00.000000000' '2019-02-09T00:00:00.000000000'\n",
      " '2019-03-26T00:00:00.000000000' '2019-03-01T00:00:00.000000000'\n",
      " '2019-02-01T00:00:00.000000000' '2019-03-28T00:00:00.000000000'\n",
      " '2019-03-24T00:00:00.000000000' '2019-02-05T00:00:00.000000000'\n",
      " '2019-01-19T00:00:00.000000000' '2019-01-16T00:00:00.000000000'\n",
      " '2019-01-08T00:00:00.000000000' '2019-02-18T00:00:00.000000000'\n",
      " '2019-01-18T00:00:00.000000000' '2019-02-16T00:00:00.000000000'\n",
      " '2019-02-22T00:00:00.000000000' '2019-01-29T00:00:00.000000000'\n",
      " '2019-01-04T00:00:00.000000000' '2019-03-30T00:00:00.000000000'\n",
      " '2019-01-30T00:00:00.000000000' '2019-01-03T00:00:00.000000000'\n",
      " '2019-03-21T00:00:00.000000000' '2019-02-13T00:00:00.000000000'\n",
      " '2019-01-14T00:00:00.000000000' '2019-03-18T00:00:00.000000000'\n",
      " '2019-03-20T00:00:00.000000000' '2019-02-21T00:00:00.000000000'\n",
      " '2019-01-31T00:00:00.000000000' '2019-01-11T00:00:00.000000000'\n",
      " '2019-02-26T00:00:00.000000000' '2019-03-17T00:00:00.000000000'\n",
      " '2019-03-14T00:00:00.000000000' '2019-02-04T00:00:00.000000000'\n",
      " '2019-02-19T00:00:00.000000000']\n",
      "Time ---- ['2023-01-16T13:08:00.000000000' '2023-01-16T10:29:00.000000000'\n",
      " '2023-01-16T13:23:00.000000000' '2023-01-16T20:33:00.000000000'\n",
      " '2023-01-16T10:37:00.000000000' '2023-01-16T18:30:00.000000000'\n",
      " '2023-01-16T14:36:00.000000000' '2023-01-16T11:38:00.000000000'\n",
      " '2023-01-16T17:15:00.000000000' '2023-01-16T13:27:00.000000000'\n",
      " '2023-01-16T18:07:00.000000000' '2023-01-16T17:03:00.000000000'\n",
      " '2023-01-16T10:25:00.000000000' '2023-01-16T16:48:00.000000000'\n",
      " '2023-01-16T19:21:00.000000000' '2023-01-16T16:19:00.000000000'\n",
      " '2023-01-16T11:03:00.000000000' '2023-01-16T10:39:00.000000000'\n",
      " '2023-01-16T18:00:00.000000000' '2023-01-16T15:30:00.000000000'\n",
      " '2023-01-16T11:24:00.000000000' '2023-01-16T10:40:00.000000000'\n",
      " '2023-01-16T12:20:00.000000000' '2023-01-16T11:15:00.000000000'\n",
      " '2023-01-16T17:36:00.000000000' '2023-01-16T19:20:00.000000000'\n",
      " '2023-01-16T15:31:00.000000000' '2023-01-16T12:17:00.000000000'\n",
      " '2023-01-16T19:48:00.000000000' '2023-01-16T15:36:00.000000000'\n",
      " '2023-01-16T19:39:00.000000000' '2023-01-16T12:43:00.000000000'\n",
      " '2023-01-16T14:49:00.000000000' '2023-01-16T10:12:00.000000000'\n",
      " '2023-01-16T10:42:00.000000000' '2023-01-16T12:28:00.000000000'\n",
      " '2023-01-16T19:15:00.000000000' '2023-01-16T17:17:00.000000000'\n",
      " '2023-01-16T13:24:00.000000000' '2023-01-16T13:01:00.000000000'\n",
      " '2023-01-16T18:45:00.000000000' '2023-01-16T10:11:00.000000000'\n",
      " '2023-01-16T13:03:00.000000000' '2023-01-16T20:39:00.000000000'\n",
      " '2023-01-16T19:47:00.000000000' '2023-01-16T17:24:00.000000000'\n",
      " '2023-01-16T15:47:00.000000000' '2023-01-16T12:45:00.000000000'\n",
      " '2023-01-16T17:08:00.000000000' '2023-01-16T10:19:00.000000000'\n",
      " '2023-01-16T15:10:00.000000000' '2023-01-16T14:42:00.000000000'\n",
      " '2023-01-16T15:46:00.000000000' '2023-01-16T11:49:00.000000000'\n",
      " '2023-01-16T19:01:00.000000000' '2023-01-16T11:26:00.000000000'\n",
      " '2023-01-16T11:28:00.000000000' '2023-01-16T15:55:00.000000000'\n",
      " '2023-01-16T20:36:00.000000000' '2023-01-16T17:47:00.000000000'\n",
      " '2023-01-16T10:55:00.000000000' '2023-01-16T13:40:00.000000000'\n",
      " '2023-01-16T12:27:00.000000000' '2023-01-16T14:35:00.000000000'\n",
      " '2023-01-16T16:40:00.000000000' '2023-01-16T15:43:00.000000000'\n",
      " '2023-01-16T15:01:00.000000000' '2023-01-16T10:04:00.000000000'\n",
      " '2023-01-16T18:50:00.000000000' '2023-01-16T12:46:00.000000000'\n",
      " '2023-01-16T18:17:00.000000000' '2023-01-16T18:21:00.000000000'\n",
      " '2023-01-16T17:04:00.000000000' '2023-01-16T14:20:00.000000000'\n",
      " '2023-01-16T15:48:00.000000000' '2023-01-16T16:24:00.000000000'\n",
      " '2023-01-16T18:56:00.000000000' '2023-01-16T19:56:00.000000000'\n",
      " '2023-01-16T18:37:00.000000000' '2023-01-16T10:17:00.000000000'\n",
      " '2023-01-16T14:31:00.000000000' '2023-01-16T10:23:00.000000000'\n",
      " '2023-01-16T20:35:00.000000000' '2023-01-16T16:57:00.000000000'\n",
      " '2023-01-16T17:55:00.000000000' '2023-01-16T19:54:00.000000000'\n",
      " '2023-01-16T16:42:00.000000000' '2023-01-16T12:09:00.000000000'\n",
      " '2023-01-16T20:05:00.000000000' '2023-01-16T20:38:00.000000000'\n",
      " '2023-01-16T13:11:00.000000000' '2023-01-16T10:16:00.000000000'\n",
      " '2023-01-16T18:14:00.000000000' '2023-01-16T13:22:00.000000000'\n",
      " '2023-01-16T11:27:00.000000000' '2023-01-16T16:44:00.000000000'\n",
      " '2023-01-16T18:19:00.000000000' '2023-01-16T14:50:00.000000000'\n",
      " '2023-01-16T20:54:00.000000000' '2023-01-16T20:19:00.000000000'\n",
      " '2023-01-16T10:43:00.000000000' '2023-01-16T14:30:00.000000000'\n",
      " '2023-01-16T11:32:00.000000000' '2023-01-16T10:41:00.000000000'\n",
      " '2023-01-16T12:44:00.000000000' '2023-01-16T20:07:00.000000000'\n",
      " '2023-01-16T20:31:00.000000000' '2023-01-16T12:29:00.000000000'\n",
      " '2023-01-16T15:26:00.000000000' '2023-01-16T20:48:00.000000000'\n",
      " '2023-01-16T12:02:00.000000000' '2023-01-16T17:26:00.000000000'\n",
      " '2023-01-16T19:52:00.000000000' '2023-01-16T14:57:00.000000000'\n",
      " '2023-01-16T18:44:00.000000000' '2023-01-16T13:26:00.000000000'\n",
      " '2023-01-16T16:17:00.000000000' '2023-01-16T15:57:00.000000000'\n",
      " '2023-01-16T13:18:00.000000000' '2023-01-16T20:34:00.000000000'\n",
      " '2023-01-16T18:36:00.000000000' '2023-01-16T14:40:00.000000000'\n",
      " '2023-01-16T16:43:00.000000000' '2023-01-16T20:59:00.000000000'\n",
      " '2023-01-16T15:39:00.000000000' '2023-01-16T12:21:00.000000000'\n",
      " '2023-01-16T19:25:00.000000000' '2023-01-16T13:00:00.000000000'\n",
      " '2023-01-16T13:48:00.000000000' '2023-01-16T19:57:00.000000000'\n",
      " '2023-01-16T10:36:00.000000000' '2023-01-16T16:37:00.000000000'\n",
      " '2023-01-16T17:11:00.000000000' '2023-01-16T15:07:00.000000000'\n",
      " '2023-01-16T16:07:00.000000000' '2023-01-16T11:56:00.000000000'\n",
      " '2023-01-16T18:23:00.000000000' '2023-01-16T13:05:00.000000000'\n",
      " '2023-01-16T19:40:00.000000000' '2023-01-16T13:58:00.000000000'\n",
      " '2023-01-16T14:43:00.000000000' '2023-01-16T19:18:00.000000000'\n",
      " '2023-01-16T16:21:00.000000000' '2023-01-16T19:44:00.000000000'\n",
      " '2023-01-16T19:42:00.000000000' '2023-01-16T15:24:00.000000000'\n",
      " '2023-01-16T14:12:00.000000000' '2023-01-16T13:32:00.000000000'\n",
      " '2023-01-16T16:20:00.000000000' '2023-01-16T16:31:00.000000000'\n",
      " '2023-01-16T11:36:00.000000000' '2023-01-16T19:17:00.000000000'\n",
      " '2023-01-16T17:34:00.000000000' '2023-01-16T12:04:00.000000000'\n",
      " '2023-01-16T17:01:00.000000000' '2023-01-16T10:50:00.000000000'\n",
      " '2023-01-16T19:16:00.000000000' '2023-01-16T16:47:00.000000000'\n",
      " '2023-01-16T10:00:00.000000000' '2023-01-16T11:51:00.000000000'\n",
      " '2023-01-16T15:00:00.000000000' '2023-01-16T11:19:00.000000000'\n",
      " '2023-01-16T19:46:00.000000000' '2023-01-16T19:00:00.000000000'\n",
      " '2023-01-16T10:53:00.000000000' '2023-01-16T12:50:00.000000000'\n",
      " '2023-01-16T20:50:00.000000000' '2023-01-16T13:41:00.000000000'\n",
      " '2023-01-16T19:08:00.000000000' '2023-01-16T20:23:00.000000000'\n",
      " '2023-01-16T11:30:00.000000000' '2023-01-16T19:30:00.000000000'\n",
      " '2023-01-16T18:03:00.000000000' '2023-01-16T10:13:00.000000000'\n",
      " '2023-01-16T19:58:00.000000000' '2023-01-16T10:01:00.000000000'\n",
      " '2023-01-16T11:57:00.000000000' '2023-01-16T10:02:00.000000000'\n",
      " '2023-01-16T14:51:00.000000000' '2023-01-16T12:42:00.000000000'\n",
      " '2023-01-16T17:38:00.000000000' '2023-01-16T20:24:00.000000000'\n",
      " '2023-01-16T18:08:00.000000000' '2023-01-16T15:53:00.000000000'\n",
      " '2023-01-16T15:05:00.000000000' '2023-01-16T18:27:00.000000000'\n",
      " '2023-01-16T16:55:00.000000000' '2023-01-16T12:58:00.000000000'\n",
      " '2023-01-16T18:59:00.000000000' '2023-01-16T13:44:00.000000000'\n",
      " '2023-01-16T13:46:00.000000000' '2023-01-16T18:06:00.000000000'\n",
      " '2023-01-16T12:38:00.000000000' '2023-01-16T15:56:00.000000000'\n",
      " '2023-01-16T14:29:00.000000000' '2023-01-16T19:14:00.000000000'\n",
      " '2023-01-16T10:52:00.000000000' '2023-01-16T12:55:00.000000000'\n",
      " '2023-01-16T19:28:00.000000000' '2023-01-16T13:52:00.000000000'\n",
      " '2023-01-16T10:54:00.000000000' '2023-01-16T18:31:00.000000000'\n",
      " '2023-01-16T18:24:00.000000000' '2023-01-16T18:09:00.000000000'\n",
      " '2023-01-16T15:16:00.000000000' '2023-01-16T17:07:00.000000000'\n",
      " '2023-01-16T19:26:00.000000000' '2023-01-16T11:20:00.000000000'\n",
      " '2023-01-16T16:49:00.000000000' '2023-01-16T12:01:00.000000000'\n",
      " '2023-01-16T11:25:00.000000000' '2023-01-16T18:42:00.000000000'\n",
      " '2023-01-16T14:47:00.000000000' '2023-01-16T19:43:00.000000000'\n",
      " '2023-01-16T14:04:00.000000000' '2023-01-16T16:11:00.000000000'\n",
      " '2023-01-16T19:06:00.000000000' '2023-01-16T15:34:00.000000000'\n",
      " '2023-01-16T11:22:00.000000000' '2023-01-16T11:23:00.000000000'\n",
      " '2023-01-16T10:46:00.000000000' '2023-01-16T13:25:00.000000000'\n",
      " '2023-01-16T14:53:00.000000000' '2023-01-16T19:22:00.000000000'\n",
      " '2023-01-16T11:00:00.000000000' '2023-01-16T19:24:00.000000000'\n",
      " '2023-01-16T17:22:00.000000000' '2023-01-16T20:55:00.000000000'\n",
      " '2023-01-16T16:05:00.000000000' '2023-01-16T13:34:00.000000000'\n",
      " '2023-01-16T18:13:00.000000000' '2023-01-16T11:44:00.000000000'\n",
      " '2023-01-16T15:51:00.000000000' '2023-01-16T16:52:00.000000000'\n",
      " '2023-01-16T20:52:00.000000000' '2023-01-16T16:28:00.000000000'\n",
      " '2023-01-16T13:29:00.000000000' '2023-01-16T11:09:00.000000000'\n",
      " '2023-01-16T15:02:00.000000000' '2023-01-16T14:21:00.000000000'\n",
      " '2023-01-16T18:01:00.000000000' '2023-01-16T13:30:00.000000000'\n",
      " '2023-01-16T14:38:00.000000000' '2023-01-16T17:37:00.000000000'\n",
      " '2023-01-16T17:20:00.000000000' '2023-01-16T20:29:00.000000000'\n",
      " '2023-01-16T11:46:00.000000000' '2023-01-16T13:42:00.000000000'\n",
      " '2023-01-16T14:44:00.000000000' '2023-01-16T14:16:00.000000000'\n",
      " '2023-01-16T15:54:00.000000000' '2023-01-16T10:21:00.000000000'\n",
      " '2023-01-16T16:46:00.000000000' '2023-01-16T20:14:00.000000000'\n",
      " '2023-01-16T17:09:00.000000000' '2023-01-16T17:43:00.000000000'\n",
      " '2023-01-16T19:05:00.000000000' '2023-01-16T10:08:00.000000000'\n",
      " '2023-01-16T13:12:00.000000000' '2023-01-16T20:51:00.000000000'\n",
      " '2023-01-16T17:29:00.000000000' '2023-01-16T11:34:00.000000000'\n",
      " '2023-01-16T18:58:00.000000000' '2023-01-16T20:26:00.000000000'\n",
      " '2023-01-16T15:08:00.000000000' '2023-01-16T13:21:00.000000000'\n",
      " '2023-01-16T12:48:00.000000000' '2023-01-16T19:53:00.000000000'\n",
      " '2023-01-16T19:09:00.000000000' '2023-01-16T16:30:00.000000000'\n",
      " '2023-01-16T13:07:00.000000000' '2023-01-16T18:48:00.000000000'\n",
      " '2023-01-16T17:27:00.000000000' '2023-01-16T15:59:00.000000000'\n",
      " '2023-01-16T11:21:00.000000000' '2023-01-16T15:49:00.000000000'\n",
      " '2023-01-16T13:02:00.000000000' '2023-01-16T20:21:00.000000000'\n",
      " '2023-01-16T15:04:00.000000000' '2023-01-16T16:10:00.000000000'\n",
      " '2023-01-16T12:14:00.000000000' '2023-01-16T11:06:00.000000000'\n",
      " '2023-01-16T18:22:00.000000000' '2023-01-16T19:02:00.000000000'\n",
      " '2023-01-16T15:44:00.000000000' '2023-01-16T20:01:00.000000000'\n",
      " '2023-01-16T13:45:00.000000000' '2023-01-16T15:40:00.000000000'\n",
      " '2023-01-16T16:58:00.000000000' '2023-01-16T11:12:00.000000000'\n",
      " '2023-01-16T15:12:00.000000000' '2023-01-16T20:37:00.000000000'\n",
      " '2023-01-16T17:44:00.000000000' '2023-01-16T16:23:00.000000000'\n",
      " '2023-01-16T12:12:00.000000000' '2023-01-16T19:33:00.000000000'\n",
      " '2023-01-16T14:28:00.000000000' '2023-01-16T17:54:00.000000000'\n",
      " '2023-01-16T12:25:00.000000000' '2023-01-16T12:52:00.000000000'\n",
      " '2023-01-16T19:50:00.000000000' '2023-01-16T15:32:00.000000000'\n",
      " '2023-01-16T13:19:00.000000000' '2023-01-16T13:37:00.000000000'\n",
      " '2023-01-16T14:55:00.000000000' '2023-01-16T12:31:00.000000000'\n",
      " '2023-01-16T10:26:00.000000000' '2023-01-16T20:18:00.000000000'\n",
      " '2023-01-16T20:04:00.000000000' '2023-01-16T13:38:00.000000000'\n",
      " '2023-01-16T17:30:00.000000000' '2023-01-16T15:28:00.000000000'\n",
      " '2023-01-16T19:07:00.000000000' '2023-01-16T18:55:00.000000000'\n",
      " '2023-01-16T19:36:00.000000000' '2023-01-16T10:57:00.000000000'\n",
      " '2023-01-16T17:13:00.000000000' '2023-01-16T13:57:00.000000000'\n",
      " '2023-01-16T13:53:00.000000000' '2023-01-16T16:53:00.000000000'\n",
      " '2023-01-16T16:51:00.000000000' '2023-01-16T15:37:00.000000000'\n",
      " '2023-01-16T20:15:00.000000000' '2023-01-16T19:35:00.000000000'\n",
      " '2023-01-16T15:42:00.000000000' '2023-01-16T14:11:00.000000000'\n",
      " '2023-01-16T17:58:00.000000000' '2023-01-16T11:02:00.000000000'\n",
      " '2023-01-16T15:09:00.000000000' '2023-01-16T13:47:00.000000000'\n",
      " '2023-01-16T16:59:00.000000000' '2023-01-16T14:15:00.000000000'\n",
      " '2023-01-16T15:19:00.000000000' '2023-01-16T18:33:00.000000000'\n",
      " '2023-01-16T12:10:00.000000000' '2023-01-16T11:40:00.000000000'\n",
      " '2023-01-16T16:54:00.000000000' '2023-01-16T15:25:00.000000000'\n",
      " '2023-01-16T20:47:00.000000000' '2023-01-16T18:20:00.000000000'\n",
      " '2023-01-16T11:48:00.000000000' '2023-01-16T14:14:00.000000000'\n",
      " '2023-01-16T11:17:00.000000000' '2023-01-16T12:40:00.000000000'\n",
      " '2023-01-16T17:53:00.000000000' '2023-01-16T16:36:00.000000000'\n",
      " '2023-01-16T10:48:00.000000000' '2023-01-16T18:05:00.000000000'\n",
      " '2023-01-16T12:07:00.000000000' '2023-01-16T19:49:00.000000000'\n",
      " '2023-01-16T15:52:00.000000000' '2023-01-16T20:46:00.000000000'\n",
      " '2023-01-16T10:34:00.000000000' '2023-01-16T13:55:00.000000000'\n",
      " '2023-01-16T11:43:00.000000000' '2023-01-16T16:03:00.000000000'\n",
      " '2023-01-16T20:03:00.000000000' '2023-01-16T19:41:00.000000000'\n",
      " '2023-01-16T18:04:00.000000000' '2023-01-16T10:31:00.000000000'\n",
      " '2023-01-16T13:28:00.000000000' '2023-01-16T17:16:00.000000000'\n",
      " '2023-01-16T18:43:00.000000000' '2023-01-16T10:30:00.000000000'\n",
      " '2023-01-16T20:40:00.000000000' '2023-01-16T12:08:00.000000000'\n",
      " '2023-01-16T17:45:00.000000000' '2023-01-16T10:28:00.000000000'\n",
      " '2023-01-16T10:49:00.000000000' '2023-01-16T12:34:00.000000000'\n",
      " '2023-01-16T18:51:00.000000000' '2023-01-16T19:38:00.000000000'\n",
      " '2023-01-16T12:32:00.000000000' '2023-01-16T10:33:00.000000000'\n",
      " '2023-01-16T19:55:00.000000000' '2023-01-16T14:33:00.000000000'\n",
      " '2023-01-16T13:54:00.000000000' '2023-01-16T12:15:00.000000000'\n",
      " '2023-01-16T12:37:00.000000000' '2023-01-16T15:06:00.000000000'\n",
      " '2023-01-16T15:58:00.000000000' '2023-01-16T14:03:00.000000000'\n",
      " '2023-01-16T16:38:00.000000000' '2023-01-16T11:07:00.000000000'\n",
      " '2023-01-16T12:23:00.000000000' '2023-01-16T14:13:00.000000000'\n",
      " '2023-01-16T19:11:00.000000000' '2023-01-16T18:53:00.000000000'\n",
      " '2023-01-16T14:22:00.000000000' '2023-01-16T10:06:00.000000000'\n",
      " '2023-01-16T20:08:00.000000000' '2023-01-16T12:56:00.000000000'\n",
      " '2023-01-16T10:18:00.000000000' '2023-01-16T11:45:00.000000000'\n",
      " '2023-01-16T16:08:00.000000000' '2023-01-16T12:24:00.000000000'\n",
      " '2023-01-16T19:51:00.000000000' '2023-01-16T18:10:00.000000000'\n",
      " '2023-01-16T15:27:00.000000000' '2023-01-16T16:04:00.000000000'\n",
      " '2023-01-16T14:41:00.000000000' '2023-01-16T14:19:00.000000000'\n",
      " '2023-01-16T14:08:00.000000000' '2023-01-16T11:29:00.000000000'\n",
      " '2023-01-16T12:16:00.000000000' '2023-01-16T20:00:00.000000000'\n",
      " '2023-01-16T15:29:00.000000000' '2023-01-16T14:58:00.000000000'\n",
      " '2023-01-16T11:52:00.000000000' '2023-01-16T17:46:00.000000000'\n",
      " '2023-01-16T14:45:00.000000000' '2023-01-16T11:39:00.000000000'\n",
      " '2023-01-16T13:06:00.000000000' '2023-01-16T20:43:00.000000000'\n",
      " '2023-01-16T16:34:00.000000000' '2023-01-16T13:10:00.000000000'\n",
      " '2023-01-16T17:10:00.000000000' '2023-01-16T10:22:00.000000000'\n",
      " '2023-01-16T19:29:00.000000000' '2023-01-16T14:27:00.000000000'\n",
      " '2023-01-16T12:22:00.000000000' '2023-01-16T11:59:00.000000000'\n",
      " '2023-01-16T17:59:00.000000000' '2023-01-16T12:51:00.000000000'\n",
      " '2023-01-16T13:56:00.000000000' '2023-01-16T19:45:00.000000000'\n",
      " '2023-01-16T16:18:00.000000000' '2023-01-16T18:57:00.000000000'\n",
      " '2023-01-16T11:18:00.000000000' '2023-01-16T14:06:00.000000000'\n",
      " '2023-01-16T20:13:00.000000000' '2023-01-16T15:14:00.000000000'\n",
      " '2023-01-16T16:06:00.000000000' '2023-01-16T12:47:00.000000000'\n",
      " '2023-01-16T20:42:00.000000000' '2023-01-16T20:10:00.000000000'\n",
      " '2023-01-16T14:24:00.000000000' '2023-01-16T11:42:00.000000000'\n",
      " '2023-01-16T17:49:00.000000000' '2023-01-16T15:33:00.000000000'\n",
      " '2023-01-16T10:38:00.000000000' '2023-01-16T12:39:00.000000000'\n",
      " '2023-01-16T14:26:00.000000000' '2023-01-16T12:41:00.000000000'\n",
      " '2023-01-16T15:20:00.000000000' '2023-01-16T16:33:00.000000000'\n",
      " '2023-01-16T20:44:00.000000000' '2023-01-16T11:16:00.000000000'\n",
      " '2023-01-16T12:30:00.000000000' '2023-01-16T17:48:00.000000000'\n",
      " '2023-01-16T20:30:00.000000000' '2023-01-16T13:59:00.000000000'\n",
      " '2023-01-16T11:58:00.000000000' '2023-01-16T16:50:00.000000000'\n",
      " '2023-01-16T18:02:00.000000000' '2023-01-16T17:52:00.000000000'\n",
      " '2023-01-16T20:32:00.000000000' '2023-01-16T16:09:00.000000000'\n",
      " '2023-01-16T11:33:00.000000000' '2023-01-16T15:15:00.000000000'\n",
      " '2023-01-16T20:06:00.000000000' '2023-01-16T16:26:00.000000000'\n",
      " '2023-01-16T18:38:00.000000000' '2023-01-16T16:45:00.000000000'\n",
      " '2023-01-16T18:41:00.000000000' '2023-01-16T17:12:00.000000000'\n",
      " '2023-01-16T14:00:00.000000000' '2023-01-16T16:32:00.000000000'\n",
      " '2023-01-16T10:10:00.000000000' '2023-01-16T10:05:00.000000000'\n",
      " '2023-01-16T18:15:00.000000000' '2023-01-16T11:01:00.000000000'\n",
      " '2023-01-16T15:21:00.000000000' '2023-01-16T16:16:00.000000000'\n",
      " '2023-01-16T11:05:00.000000000' '2023-01-16T19:31:00.000000000'\n",
      " '2023-01-16T18:35:00.000000000' '2023-01-16T13:51:00.000000000'\n",
      " '2023-01-16T12:35:00.000000000' '2023-01-16T11:55:00.000000000'\n",
      " '2023-01-16T15:11:00.000000000' '2023-01-16T14:48:00.000000000'\n",
      " '2023-01-16T12:36:00.000000000' '2023-01-16T13:35:00.000000000'\n",
      " '2023-01-16T15:45:00.000000000' '2023-01-16T14:25:00.000000000'\n",
      " '2023-01-16T15:18:00.000000000' '2023-01-16T10:03:00.000000000'\n",
      " '2023-01-16T13:14:00.000000000' '2023-01-16T16:35:00.000000000'\n",
      " '2023-01-16T20:57:00.000000000' '2023-01-16T13:50:00.000000000'\n",
      " '2023-01-16T17:35:00.000000000' '2023-01-16T17:56:00.000000000'\n",
      " '2023-01-16T10:44:00.000000000' '2023-01-16T10:09:00.000000000'\n",
      " '2023-01-16T10:58:00.000000000' '2023-01-16T13:49:00.000000000'\n",
      " '2023-01-16T11:10:00.000000000' '2023-01-16T13:33:00.000000000'\n",
      " '2023-01-16T14:05:00.000000000' '2023-01-16T16:27:00.000000000'\n",
      " '2023-01-16T15:23:00.000000000' '2023-01-16T18:18:00.000000000'\n",
      " '2023-01-16T15:17:00.000000000' '2023-01-16T19:12:00.000000000']\n",
      "Payment ---- ['Ewallet' 'Cash' 'Credit card']\n",
      "cogs ---- [522.83  76.4  324.31 465.76 604.17 597.73 413.04 735.6   72.52 164.52\n",
      "  57.92 102.04 234.75 431.9  713.8  562.32 482.51 435.66 164.01  80.6\n",
      " 430.2  263.94  66.4  172.8  265.89 420.72  33.52 175.34 441.8  224.01\n",
      " 470.65 702.63 670.24 193.16 397.68  68.12 313.1  547.92 439.36 240.96\n",
      "  86.72 112.22 414.72 789.6   30.74 375.84 510.21 180.09 113.58 826.3\n",
      " 639.8  222.95  71.48  15.43  32.32 687.84  88.68 716.8  723.5  183.66\n",
      "  74.22 334.38 495.63 158.1  302.96 158.7   66.94 585.66 787.7   18.33\n",
      " 894.8  621.2  145.56 455.46 672.03 416.5  441.36 783.1  101.9  595.14\n",
      " 290.04 154.   321.44 244.55 581.42 382.6  345.66  42.47 461.94 189.52\n",
      " 448.6  153.86 579.24  89.75  97.16 878.7   74.7  158.25 496.2   48.71\n",
      " 706.95 207.63 349.56 212.45 886.7  164.28 372.78 305.82 819.7   32.98\n",
      " 294.63 509.88 522.63 727.11  81.06 109.7   51.36 109.6  106.88 796.48\n",
      " 399.84 899.64 511.28 451.76 655.83 161.25 285.57 548.32 812.52 277.34\n",
      " 552.78 139.36 524.7  487.8  270.66 131.55 206.52 519.1  580.   898.\n",
      " 905.   686.    30.41 467.7  277.56 301.4  264.56 574.88 259.68 366.16\n",
      " 241.92 749.16  98.88 647.76 461.45  72.17 251.4  874.98 560.34 345.44\n",
      "  63.69 320.53 152.8  399.   340.56 955.8  989.8  307.68 486.64 350.05\n",
      " 400.25 166.8  317.34 158.32 304.56 177.36 157.57 443.28 260.4  449.82\n",
      " 307.76 155.   274.48  86.38  54.24 755.92 185.88  74.07 279.24 231.12\n",
      " 147.04 790.2  102.2  163.55  74.29  87.4   25.29 166.   356.95 114.9\n",
      " 229.96 429.87 259.    88.85 207.27 599.85 285.3   91.11 897.57 236.07\n",
      " 839.34 461.8  139.26  18.28 123.85 283.92 758.96 172.02 272.1  434.56\n",
      "  59.05  12.54  86.5  174.32 624.33 148.24 544.2  507.36 162.74  31.77\n",
      " 756.81 295.28 519.4  186.28  87.05 221.1   66.1   89.69 224.46 119.54\n",
      " 186.4  250.6  750.96 380.72 244.2   89.7  310.88 511.42 418.95 351.9\n",
      "  28.78  95.   471.2  130.48  66.35 155.46 129.   263.76 675.54  65.8\n",
      " 153.2  222.4   54.45 688.8  141.88 746.   282.96 355.4  337.15  42.24\n",
      " 193.86  24.06 598.26 335.79 218.2  381.68 709.9  440.2  559.68  37.\n",
      "  15.34 598.98 190.68 333.4   74.86 213.75 339.57 664.16 403.   194.95\n",
      "  62.48  72.72 181.1  259.6  115.36 470.28 240.04  88.61 199.64  39.01\n",
      "  48.61 204.76 119.68 505.4  281.61 710.32  79.44 163.82 479.58 138.66\n",
      "  71.15 139.95 781.3  198.74  63.24 373.95 207.69 176.28 206.37  39.42\n",
      "  91.56 308.85 129.12 390.96 498.9  377.04 204.52 145.44 198.18  98.7\n",
      " 385.1   46.96  73.5  142.25 687.6  347.7  142.95 385.38 144.27 391.79\n",
      " 538.3  485.15 133.95 701.37  71.95 714.   182.14 135.   993.   361.83\n",
      " 383.11 243.    30.24 356.56 375.5  954.4   82.5   74.97 647.68 755.76\n",
      " 199.58 439.32 164.96 326.72 461.88 143.6  193.5  183.82 121.92 420.66\n",
      " 252.48 335.45 483.5  318.42 668.43 387.92  94.6  329.32  53.22 498.45\n",
      " 299.56 204.7   75.82 280.62 323.2  486.63 127.54 241.44 379.5   76.82\n",
      " 522.6   79.74 387.5  271.35 122.31 246.36 173.16 236.58 184.88  13.98\n",
      " 198.75 684.53 269.04  68.95 274.84 226.12 119.1  342.1   43.74 104.85\n",
      "  77.52 407.44  96.11 181.52  81.51 114.44 176.54 115.8  252.15 972.1\n",
      " 203.36  16.28 365.49 372.19  62.61 336.35 906.5  138.16  86.54 140.76\n",
      " 668.78  47.44 893.16 331.72 203.94  68.16 326.88  87.2  707.44 802.89\n",
      "  12.78 133.7   19.15 276.6  137.22  27.07  39.12 448.26 132.06 318.05\n",
      "  25.    83.08 147.8  696.6  793.9  465.7   35.89 202.6  730.5  295.8\n",
      "  22.62 256.7  545.5  260.05 222.12  21.58  98.84 502.62 160.2  431.3\n",
      " 580.56 322.2  195.54 166.3  336.28 343.7   38.6  527.76 328.   185.7\n",
      " 603.8  369.8  197.96 410.9  148.6   22.96 699.12  69.4  196.6  202.56\n",
      " 121.2  199.78 607.36 126.44 541.44  98.13 412.16  73.97  31.9  138.8\n",
      " 186.62  88.45 193.44 145.5  504.3  306.45  95.7  635.18 214.55 379.96\n",
      " 696.85 408.73  51.47 274.3  196.95  69.46 359.6  137.13 499.02 224.64\n",
      " 125.74 490.26 457.05 156.84 119.72 543.6  882.81 152.58 693.44 229.5\n",
      " 146.79 141.6  116.69  73.96  97.94 292.2  524.88  92.04  75.88  80.72\n",
      " 112.62  71.2  155.24 294.2  548.55 257.7  396.36 171.81 488.79 524.16\n",
      " 133.26 135.24 112.44 144.08 985.2  249.96 217.26 194.22 892.   339.36\n",
      " 447.06 198.5  812.1  493.3  591.66 559.02 517.86 410.2  266.7   70.91\n",
      " 144.78 429.55 569.17 241.2  127.08 257.08 139.02  81.66 310.72 185.96\n",
      "  72.32 189.18 206.84 157.02 215.3  596.1   73.1  279.18 169.68  45.58\n",
      " 225.6  290.4   44.46 156.6  419.94 184.25 140.64  64.99 775.6  327.06\n",
      " 363.23 127.   375.55 199.16  30.61 115.78  28.96 890.73 279.66  80.93\n",
      " 674.5  348.48 435.6  439.55 591.18 260.76 215.04  91.61 662.13 832.5\n",
      "  91.35 157.76 121.74 825.8  159.9   12.09 641.9  234.93 167.54 299.1\n",
      " 239.73 664.7  202.65  46.2   88.15 157.26 296.37 708.4  111.34 580.16\n",
      "  60.25 174.24 421.26  33.63  30.98 247.4  378.3  334.86 727.8  335.88\n",
      " 240.72  47.07  99.69 264.45 139.65  55.45 128.91 119.98 352.5  871.\n",
      " 197.6  194.52 173.22  71.88 286.26  81.24 560.4  186.8  220.23 269.12\n",
      " 454.8  448.56 293.88 589.5  291.    39.48  34.81 295.92  42.96 138.48\n",
      "  98.2  129.66 635.6  145.76 201.3  631.71 385.28 486.3  513.66 473.4\n",
      " 436.85 108.16 248.76 626.22 975.   483.28  96.96 197.7  724.23 795.51\n",
      " 502.39 172.    68.98 124.96  77.1  483.72 302.12 698.67 124.65 178.4\n",
      " 500.22  35.82 136.14 104.88 178.92 815.67 132.36 257.39  93.36 228.\n",
      " 166.71 697.4  389.04 365.26  89.28 168.    19.7  531.16  53.72 819.5\n",
      " 568.4  587.6  732.48 845.64 389.27  84.83 143.26  75.38 253.36  38.42\n",
      " 652.3   52.65 110.61 568.61 136.4  174.2  366.4  254.61 778.32 285.92\n",
      " 579.12 188.5  221.56 772.   721.3  511.04  53.45 222.   763.68 228.18\n",
      "  82.14 382.56  68.58 382.16 601.09 475.93  52.42 131.3  144.3  457.17\n",
      "  93.38 126.25 790.83 174.4  379.04  30.62 352.08  50.8  522.06 575.12\n",
      "  54.95 181.41 412.37  46.41 274.2  973.7  648.2   93.22  54.36  60.87\n",
      " 244.9   92.78 433.45 138.06 241.6  471.73 440.64 680.31 309.88 186.36\n",
      " 200.92  17.75 621.8   86.   402.6  324.85  95.15 388.96 425.68 318.08\n",
      " 271.04 384.64 235.8  211.56  95.36  10.17 206.13 420.56  88.04 648.99\n",
      " 123.84 649.5  742.2   84.48 250.28  94.8   91.3  285.11  52.38 192.7\n",
      " 267.78 558.7  175.32 155.82  60.3   78.94  29.74  21.32 281.34  73.26\n",
      "  22.38 655.92 594.6   74.1  196.96 372.33 527.9  479.75 328.59 168.96\n",
      " 113.24 345.54 428.67  86.27  25.52 101.52 357.49 238.77 101.43 724.24\n",
      " 125.64  72.93 258.36 173.74  56.5  214.3  534.36  93.16 522.08  52.35\n",
      "  39.75 720.16  96.8  332.1   81.44 319.9  166.68 319.06  87.9  734.7\n",
      "  97.52 769.2  418.3  463.28 462.45 141.9  302.7  793.28 425.18 283.62\n",
      " 599.2  315.36 403.56 183.88 138.65  80.71 116.64 313.52 846.1  414.4\n",
      " 159.08 490.1   87.45 224.52 744.96 410.72 298.8  212.94  42.85 378.68\n",
      " 206.91  78.78 322.11  98.22  25.46 581.98 211.32  55.12  88.31 356.58\n",
      " 794.25  50.62 599.52 166.7  744.4  378.9  257.16 552.23 447.4  276.27\n",
      " 343.74 266.08 898.38 456.8  253.95  70.56 657.16 168.5   53.78 179.05\n",
      " 211.44 119.73  65.7   84.16 395.46 297.99 454.41 276.12 158.   887.94\n",
      "  91.98  41.78  15.5  290.46  66.66  76.54 299.7  243.03  47.4  172.45\n",
      " 846.3  258.37 609.56 240.24 172.26  99.84 298.64 159.6   25.45  67.77\n",
      " 238.36 232.6  877.32 699.72 674.59 318.55  29.52 496.   823.4  602.96\n",
      " 282.8  766.   116.06 174.9   60.95  40.35 973.8   31.84  65.82 618.38]\n",
      "gross margin percentage ---- [4.76190476]\n",
      "gross income ---- [26.1415  3.82   16.2155 23.288  30.2085 29.8865 20.652  36.78    3.626\n",
      "  8.226   2.896   5.102  11.7375 21.595  35.69   28.116  24.1255 21.783\n",
      "  8.2005  4.03   21.51   13.197   3.32    8.64   13.2945 21.036   1.676\n",
      "  8.767  22.09   11.2005 23.5325 35.1315 33.512   9.658  19.884   3.406\n",
      " 15.655  27.396  21.968  12.048   4.336   5.611  20.736  39.48    1.537\n",
      " 18.792  25.5105  9.0045  5.679  41.315  31.99   11.1475  3.574   0.7715\n",
      "  1.616  34.392   4.434  35.84   36.175   9.183   3.711  16.719  24.7815\n",
      "  7.905  15.148   7.935   3.347  29.283  39.385   0.9165 44.74   31.06\n",
      "  7.278  22.773  33.6015 20.825  22.068  39.155   5.095  29.757  14.502\n",
      "  7.7    16.072  12.2275 29.071  19.13   17.283   2.1235 23.097   9.476\n",
      " 22.43    7.693  28.962   4.4875  4.858  43.935   3.735   7.9125 24.81\n",
      "  2.4355 35.3475 10.3815 17.478  10.6225 44.335   8.214  18.639  15.291\n",
      " 40.985   1.649  14.7315 25.494  26.1315 36.3555  4.053   5.485   2.568\n",
      "  5.48    5.344  39.824  19.992  44.982  25.564  22.588  32.7915  8.0625\n",
      " 14.2785 27.416  40.626  13.867  27.639   6.968  26.235  24.39   13.533\n",
      "  6.5775 10.326  25.955  29.     44.9    45.25   34.3     1.5205 23.385\n",
      " 13.878  15.07   13.228  28.744  12.984  18.308  12.096  37.458   4.944\n",
      " 32.388  23.0725  3.6085 12.57   43.749  28.017  17.272   3.1845 16.0265\n",
      "  7.64   19.95   17.028  47.79   49.49   15.384  24.332  17.5025 20.0125\n",
      "  8.34   15.867   7.916  15.228   8.868   7.8785 22.164  13.02   22.491\n",
      " 15.388   7.75   13.724   4.319   2.712  37.796   9.294   3.7035 13.962\n",
      " 11.556   7.352  39.51    5.11    8.1775  3.7145  4.37    1.2645  8.3\n",
      " 17.8475  5.745  11.498  21.4935 12.95    4.4425 10.3635 29.9925 14.265\n",
      "  4.5555 44.8785 11.8035 41.967  23.09    6.963   0.914   6.1925 14.196\n",
      " 37.948   8.601  13.605  21.728   2.9525  0.627   4.325   8.716  31.2165\n",
      "  7.412  27.21   25.368   8.137   1.5885 37.8405 14.764  25.97    9.314\n",
      "  4.3525 11.055   3.305   4.4845 11.223   5.977   9.32   12.53   37.548\n",
      " 19.036  12.21    4.485  15.544  25.571  20.9475 17.595   1.439   4.75\n",
      " 23.56    6.524   3.3175  7.773   6.45   13.188  33.777   3.29    7.66\n",
      " 11.12    2.7225 34.44    7.094  37.3    14.148  17.77   16.8575  2.112\n",
      "  9.693   1.203  29.913  16.7895 10.91   19.084  35.495  22.01   27.984\n",
      "  1.85    0.767  29.949   9.534  16.67    3.743  10.6875 16.9785 33.208\n",
      " 20.15    9.7475  3.124   3.636   9.055  12.98    5.768  23.514  12.002\n",
      "  4.4305  9.982   1.9505  2.4305 10.238   5.984  25.27   14.0805 35.516\n",
      "  3.972   8.191  23.979   6.933   3.5575  6.9975 39.065   9.937   3.162\n",
      " 18.6975 10.3845  8.814  10.3185  1.971   4.578  15.4425  6.456  19.548\n",
      " 24.945  18.852  10.226   7.272   9.909   4.935  19.255   2.348   3.675\n",
      "  7.1125 34.38   17.385   7.1475 19.269   7.2135 19.5895 26.915  24.2575\n",
      "  6.6975 35.0685  3.5975 35.7     9.107   6.75   49.65   18.0915 19.1555\n",
      " 12.15    1.512  17.828  18.775  47.72    4.125   3.7485 32.384  37.788\n",
      "  9.979  21.966   8.248  16.336  23.094   7.18    9.675   9.191   6.096\n",
      " 21.033  12.624  16.7725 24.175  15.921  33.4215 19.396   4.73   16.466\n",
      "  2.661  24.9225 14.978  10.235   3.791  14.031  16.16   24.3315  6.377\n",
      " 12.072  18.975   3.841  26.13    3.987  19.375  13.5675  6.1155 12.318\n",
      "  8.658  11.829   9.244   0.699   9.9375 34.2265 13.452   3.4475 13.742\n",
      " 11.306   5.955  17.105   2.187   5.2425  3.876  20.372   4.8055  9.076\n",
      "  4.0755  5.722   8.827   5.79   12.6075 48.605  10.168   0.814  18.2745\n",
      " 18.6095  3.1305 16.8175 45.325   6.908   4.327   7.038  33.439   2.372\n",
      " 44.658  16.586  10.197   3.408  16.344   4.36   35.372  40.1445  0.639\n",
      "  6.685   0.9575 13.83    6.861   1.3535  1.956  22.413   6.603  15.9025\n",
      "  1.25    4.154   7.39   34.83   39.695  23.285   1.7945 10.13   36.525\n",
      " 14.79    1.131  12.835  27.275  13.0025 11.106   1.079   4.942  25.131\n",
      "  8.01   21.565  29.028  16.11    9.777   8.315  16.814  17.185   1.93\n",
      " 26.388  16.4     9.285  30.19   18.49    9.898  20.545   7.43    1.148\n",
      " 34.956   3.47    9.83   10.128   6.06    9.989  30.368   6.322  27.072\n",
      "  4.9065 20.608   3.6985  1.595   6.94    9.331   4.4225  9.672   7.275\n",
      " 25.215  15.3225  4.785  31.759  10.7275 18.998  34.8425 20.4365  2.5735\n",
      " 13.715   9.8475  3.473  17.98    6.8565 24.951  11.232   6.287  24.513\n",
      " 22.8525  7.842   5.986  27.18   44.1405  7.629  34.672  11.475   7.3395\n",
      "  7.08    5.8345  3.698   4.897  14.61   26.244   4.602   3.794   4.036\n",
      "  5.631   3.56    7.762  14.71   27.4275 12.885  19.818   8.5905 24.4395\n",
      " 26.208   6.663   6.762   5.622   7.204  49.26   12.498  10.863   9.711\n",
      " 44.6    16.968  22.353   9.925  40.605  24.665  29.583  27.951  25.893\n",
      " 20.51   13.335   3.5455  7.239  21.4775 28.4585 12.06    6.354  12.854\n",
      "  6.951   4.083  15.536   9.298   3.616   9.459  10.342   7.851  10.765\n",
      " 29.805   3.655  13.959   8.484   2.279  11.28   14.52    2.223   7.83\n",
      " 20.997   9.2125  7.032   3.2495 38.78   16.353  18.1615  6.35   18.7775\n",
      "  9.958   1.5305  5.789   1.448  44.5365 13.983   4.0465 33.725  17.424\n",
      " 21.78   21.9775 29.559  13.038  10.752   4.5805 33.1065 41.625   4.5675\n",
      "  7.888   6.087  41.29    7.995   0.6045 32.095  11.7465  8.377  14.955\n",
      " 11.9865 33.235  10.1325  2.31    4.4075  7.863  14.8185 35.42    5.567\n",
      " 29.008   3.0125  8.712  21.063   1.6815  1.549  12.37   18.915  16.743\n",
      " 36.39   16.794  12.036   2.3535  4.9845 13.2225  6.9825  2.7725  6.4455\n",
      "  5.999  17.625  43.55    9.88    9.726   8.661   3.594  14.313   4.062\n",
      " 28.02    9.34   11.0115 13.456  22.74   22.428  14.694  29.475  14.55\n",
      "  1.974   1.7405 14.796   2.148   6.924   4.91    6.483  31.78    7.288\n",
      " 10.065  31.5855 19.264  24.315  25.683  23.67   21.8425  5.408  12.438\n",
      " 31.311  48.75   24.164   4.848   9.885  36.2115 39.7755 25.1195  8.6\n",
      "  3.449   6.248   3.855  24.186  15.106  34.9335  6.2325  8.92   25.011\n",
      "  1.791   6.807   5.244   8.946  40.7835  6.618  12.8695  4.668  11.4\n",
      "  8.3355 34.87   19.452  18.263   4.464   8.4     0.985  26.558   2.686\n",
      " 40.975  28.42   29.38   36.624  42.282  19.4635  4.2415  7.163   3.769\n",
      " 12.668   1.921  32.615   2.6325  5.5305 28.4305  6.82    8.71   18.32\n",
      " 12.7305 38.916  14.296  28.956   9.425  11.078  38.6    36.065  25.552\n",
      "  2.6725 11.1    38.184  11.409   4.107  19.128   3.429  19.108  30.0545\n",
      " 23.7965  2.621   6.565   7.215  22.8585  4.669   6.3125 39.5415  8.72\n",
      " 18.952   1.531  17.604   2.54   26.103  28.756   2.7475  9.0705 20.6185\n",
      "  2.3205 13.71   48.685  32.41    4.661   2.718   3.0435 12.245   4.639\n",
      " 21.6725  6.903  12.08   23.5865 22.032  34.0155 15.494   9.318  10.046\n",
      "  0.8875 31.09    4.3    20.13   16.2425  4.7575 19.448  21.284  15.904\n",
      " 13.552  19.232  11.79   10.578   4.768   0.5085 10.3065 21.028   4.402\n",
      " 32.4495  6.192  32.475  37.11    4.224  12.514   4.74    4.565  14.2555\n",
      "  2.619   9.635  13.389  27.935   8.766   7.791   3.015   3.947   1.487\n",
      "  1.066  14.067   3.663   1.119  32.796  29.73    3.705   9.848  18.6165\n",
      " 26.395  23.9875 16.4295  8.448   5.662  17.277  21.4335  4.3135  1.276\n",
      "  5.076  17.8745 11.9385  5.0715 36.212   6.282   3.6465 12.918   8.687\n",
      "  2.825  10.715  26.718   4.658  26.104   2.6175  1.9875 36.008   4.84\n",
      " 16.605   4.072  15.995   8.334  15.953   4.395  36.735   4.876  38.46\n",
      " 20.915  23.164  23.1225  7.095  15.135  39.664  21.259  14.181  29.96\n",
      " 15.768  20.178   9.194   6.9325  4.0355  5.832  15.676  42.305  20.72\n",
      "  7.954  24.505   4.3725 11.226  37.248  20.536  14.94   10.647   2.1425\n",
      " 18.934  10.3455  3.939  16.1055  4.911   1.273  29.099  10.566   2.756\n",
      "  4.4155 17.829  39.7125  2.531  29.976   8.335  37.22   18.945  12.858\n",
      " 27.6115 22.37   13.8135 17.187  13.304  44.919  22.84   12.6975  3.528\n",
      " 32.858   8.425   2.689   8.9525 10.572   5.9865  3.285   4.208  19.773\n",
      " 14.8995 22.7205 13.806   7.9    44.397   4.599   2.089   0.775  14.523\n",
      "  3.333   3.827  14.985  12.1515  2.37    8.6225 42.315  12.9185 30.478\n",
      " 12.012   8.613   4.992  14.932   7.98    1.2725  3.3885 11.918  11.63\n",
      " 43.866  34.986  33.7295 15.9275  1.476  24.8    41.17   30.148  14.14\n",
      " 38.3     5.803   8.745   3.0475  2.0175 48.69    1.592   3.291  30.919 ]\n",
      "Rating ---- [ 9.1  9.6  7.4  8.4  5.3  4.1  5.8  8.   7.2  5.9  4.5  6.8  7.1  8.2\n",
      "  5.7  4.6  6.9  8.6  4.4  4.8  5.1  9.9  6.   8.5  6.7  7.7  7.5  7.\n",
      "  4.7  7.6  7.9  6.3  5.6  9.5  8.1  6.5  6.1  6.6  5.4  9.3 10.   6.4\n",
      "  4.3  4.   8.7  9.4  5.5  8.3  7.3  4.9  4.2  9.2  7.8  5.2  9.   8.8\n",
      "  6.2  9.8  9.7  5.   8.9]\n",
      "month ---- ['January' 'March' 'February']\n",
      "day ---- ['Saturday' 'Friday' 'Sunday' 'Monday' 'Thursday' 'Wednesday' 'Tuesday']\n",
      "weekday ---- [5 4 6 0 3 2 1]\n"
     ]
    }
   ],
   "source": [
    "## Checking uniques\n",
    "for i in df.columns:\n",
    "    print(i,\"----\",df[i].unique())"
   ]
  },
  {
   "cell_type": "markdown",
   "id": "51cd9332",
   "metadata": {
    "papermill": {
     "duration": 0.029295,
     "end_time": "2023-01-16T20:35:58.086136",
     "exception": false,
     "start_time": "2023-01-16T20:35:58.056841",
     "status": "completed"
    },
    "tags": []
   },
   "source": [
    "### Step 4 Necessary Insights\n"
   ]
  },
  {
   "cell_type": "code",
   "execution_count": 20,
   "id": "317d30ec",
   "metadata": {
    "execution": {
     "iopub.execute_input": "2023-01-16T20:35:58.163565Z",
     "iopub.status.busy": "2023-01-16T20:35:58.163155Z",
     "iopub.status.idle": "2023-01-16T20:35:58.187188Z",
     "shell.execute_reply": "2023-01-16T20:35:58.185874Z"
    },
    "papermill": {
     "duration": 0.067003,
     "end_time": "2023-01-16T20:35:58.189432",
     "exception": false,
     "start_time": "2023-01-16T20:35:58.122429",
     "status": "completed"
    },
    "tags": []
   },
   "outputs": [
    {
     "data": {
      "text/html": [
       "<div>\n",
       "<style scoped>\n",
       "    .dataframe tbody tr th:only-of-type {\n",
       "        vertical-align: middle;\n",
       "    }\n",
       "\n",
       "    .dataframe tbody tr th {\n",
       "        vertical-align: top;\n",
       "    }\n",
       "\n",
       "    .dataframe thead th {\n",
       "        text-align: right;\n",
       "    }\n",
       "</style>\n",
       "<table border=\"1\" class=\"dataframe\">\n",
       "  <thead>\n",
       "    <tr style=\"text-align: right;\">\n",
       "      <th></th>\n",
       "      <th>City</th>\n",
       "      <th>Customer type</th>\n",
       "      <th>Gender</th>\n",
       "      <th>Product line</th>\n",
       "      <th>Unit price</th>\n",
       "      <th>Quantity</th>\n",
       "      <th>Tax 5%</th>\n",
       "      <th>Total</th>\n",
       "      <th>Date</th>\n",
       "      <th>Time</th>\n",
       "      <th>Payment</th>\n",
       "      <th>cogs</th>\n",
       "      <th>gross margin percentage</th>\n",
       "      <th>gross income</th>\n",
       "      <th>Rating</th>\n",
       "      <th>month</th>\n",
       "      <th>day</th>\n",
       "      <th>weekday</th>\n",
       "    </tr>\n",
       "  </thead>\n",
       "  <tbody>\n",
       "    <tr>\n",
       "      <th>0</th>\n",
       "      <td>Yangon</td>\n",
       "      <td>Member</td>\n",
       "      <td>Female</td>\n",
       "      <td>Health and beauty</td>\n",
       "      <td>74.69</td>\n",
       "      <td>7</td>\n",
       "      <td>26.1415</td>\n",
       "      <td>548.9715</td>\n",
       "      <td>2019-01-05</td>\n",
       "      <td>2023-01-16 13:08:00</td>\n",
       "      <td>Ewallet</td>\n",
       "      <td>522.83</td>\n",
       "      <td>4.761905</td>\n",
       "      <td>26.1415</td>\n",
       "      <td>9.1</td>\n",
       "      <td>January</td>\n",
       "      <td>Saturday</td>\n",
       "      <td>5</td>\n",
       "    </tr>\n",
       "    <tr>\n",
       "      <th>1</th>\n",
       "      <td>Naypyitaw</td>\n",
       "      <td>Normal</td>\n",
       "      <td>Female</td>\n",
       "      <td>Electronic accessories</td>\n",
       "      <td>15.28</td>\n",
       "      <td>5</td>\n",
       "      <td>3.8200</td>\n",
       "      <td>80.2200</td>\n",
       "      <td>2019-03-08</td>\n",
       "      <td>2023-01-16 10:29:00</td>\n",
       "      <td>Cash</td>\n",
       "      <td>76.40</td>\n",
       "      <td>4.761905</td>\n",
       "      <td>3.8200</td>\n",
       "      <td>9.6</td>\n",
       "      <td>March</td>\n",
       "      <td>Friday</td>\n",
       "      <td>4</td>\n",
       "    </tr>\n",
       "    <tr>\n",
       "      <th>2</th>\n",
       "      <td>Yangon</td>\n",
       "      <td>Normal</td>\n",
       "      <td>Male</td>\n",
       "      <td>Home and lifestyle</td>\n",
       "      <td>46.33</td>\n",
       "      <td>7</td>\n",
       "      <td>16.2155</td>\n",
       "      <td>340.5255</td>\n",
       "      <td>2019-03-03</td>\n",
       "      <td>2023-01-16 13:23:00</td>\n",
       "      <td>Credit card</td>\n",
       "      <td>324.31</td>\n",
       "      <td>4.761905</td>\n",
       "      <td>16.2155</td>\n",
       "      <td>7.4</td>\n",
       "      <td>March</td>\n",
       "      <td>Sunday</td>\n",
       "      <td>6</td>\n",
       "    </tr>\n",
       "    <tr>\n",
       "      <th>3</th>\n",
       "      <td>Yangon</td>\n",
       "      <td>Member</td>\n",
       "      <td>Male</td>\n",
       "      <td>Health and beauty</td>\n",
       "      <td>58.22</td>\n",
       "      <td>8</td>\n",
       "      <td>23.2880</td>\n",
       "      <td>489.0480</td>\n",
       "      <td>2019-01-27</td>\n",
       "      <td>2023-01-16 20:33:00</td>\n",
       "      <td>Ewallet</td>\n",
       "      <td>465.76</td>\n",
       "      <td>4.761905</td>\n",
       "      <td>23.2880</td>\n",
       "      <td>8.4</td>\n",
       "      <td>January</td>\n",
       "      <td>Sunday</td>\n",
       "      <td>6</td>\n",
       "    </tr>\n",
       "    <tr>\n",
       "      <th>4</th>\n",
       "      <td>Yangon</td>\n",
       "      <td>Normal</td>\n",
       "      <td>Male</td>\n",
       "      <td>Sports and travel</td>\n",
       "      <td>86.31</td>\n",
       "      <td>7</td>\n",
       "      <td>30.2085</td>\n",
       "      <td>634.3785</td>\n",
       "      <td>2019-02-08</td>\n",
       "      <td>2023-01-16 10:37:00</td>\n",
       "      <td>Ewallet</td>\n",
       "      <td>604.17</td>\n",
       "      <td>4.761905</td>\n",
       "      <td>30.2085</td>\n",
       "      <td>5.3</td>\n",
       "      <td>February</td>\n",
       "      <td>Friday</td>\n",
       "      <td>4</td>\n",
       "    </tr>\n",
       "  </tbody>\n",
       "</table>\n",
       "</div>"
      ],
      "text/plain": [
       "        City Customer type  Gender            Product line  Unit price  \\\n",
       "0     Yangon        Member  Female       Health and beauty       74.69   \n",
       "1  Naypyitaw        Normal  Female  Electronic accessories       15.28   \n",
       "2     Yangon        Normal    Male      Home and lifestyle       46.33   \n",
       "3     Yangon        Member    Male       Health and beauty       58.22   \n",
       "4     Yangon        Normal    Male       Sports and travel       86.31   \n",
       "\n",
       "   Quantity   Tax 5%     Total       Date                Time      Payment  \\\n",
       "0         7  26.1415  548.9715 2019-01-05 2023-01-16 13:08:00      Ewallet   \n",
       "1         5   3.8200   80.2200 2019-03-08 2023-01-16 10:29:00         Cash   \n",
       "2         7  16.2155  340.5255 2019-03-03 2023-01-16 13:23:00  Credit card   \n",
       "3         8  23.2880  489.0480 2019-01-27 2023-01-16 20:33:00      Ewallet   \n",
       "4         7  30.2085  634.3785 2019-02-08 2023-01-16 10:37:00      Ewallet   \n",
       "\n",
       "     cogs  gross margin percentage  gross income  Rating     month       day  \\\n",
       "0  522.83                 4.761905       26.1415     9.1   January  Saturday   \n",
       "1   76.40                 4.761905        3.8200     9.6     March    Friday   \n",
       "2  324.31                 4.761905       16.2155     7.4     March    Sunday   \n",
       "3  465.76                 4.761905       23.2880     8.4   January    Sunday   \n",
       "4  604.17                 4.761905       30.2085     5.3  February    Friday   \n",
       "\n",
       "   weekday  \n",
       "0        5  \n",
       "1        4  \n",
       "2        6  \n",
       "3        6  \n",
       "4        4  "
      ]
     },
     "execution_count": 20,
     "metadata": {},
     "output_type": "execute_result"
    }
   ],
   "source": [
    "df.head()"
   ]
  },
  {
   "cell_type": "code",
   "execution_count": 21,
   "id": "aa2be58a",
   "metadata": {
    "execution": {
     "iopub.execute_input": "2023-01-16T20:35:58.260669Z",
     "iopub.status.busy": "2023-01-16T20:35:58.260232Z",
     "iopub.status.idle": "2023-01-16T20:35:58.266566Z",
     "shell.execute_reply": "2023-01-16T20:35:58.265339Z"
    },
    "papermill": {
     "duration": 0.048783,
     "end_time": "2023-01-16T20:35:58.269553",
     "exception": false,
     "start_time": "2023-01-16T20:35:58.220770",
     "status": "completed"
    },
    "tags": []
   },
   "outputs": [
    {
     "name": "stdout",
     "output_type": "stream",
     "text": [
      "Total gross income is   15379.368999999999\n"
     ]
    }
   ],
   "source": [
    "### Checking total gross income for all months\n",
    "print(\"Total gross income is  \",df[\"gross income\"].sum())"
   ]
  },
  {
   "cell_type": "code",
   "execution_count": 22,
   "id": "105a731e",
   "metadata": {
    "execution": {
     "iopub.execute_input": "2023-01-16T20:35:58.336402Z",
     "iopub.status.busy": "2023-01-16T20:35:58.335884Z",
     "iopub.status.idle": "2023-01-16T20:35:58.755937Z",
     "shell.execute_reply": "2023-01-16T20:35:58.754603Z"
    },
    "papermill": {
     "duration": 0.456027,
     "end_time": "2023-01-16T20:35:58.759028",
     "exception": false,
     "start_time": "2023-01-16T20:35:58.303001",
     "status": "completed"
    },
    "tags": []
   },
   "outputs": [
    {
     "data": {
      "text/plain": [
       "<AxesSubplot:xlabel='gross income', ylabel='month'>"
      ]
     },
     "execution_count": 22,
     "metadata": {},
     "output_type": "execute_result"
    },
    {
     "data": {
      "image/png": "[encoded data removed]",
      "text/plain": [
       "<Figure size 432x288 with 1 Axes>"
      ]
     },
     "metadata": {
      "needs_background": "light"
     },
     "output_type": "display_data"
    }
   ],
   "source": [
    "sns.barplot(x=\"gross income\",y=\"month\",data=df,estimator=sum)"
   ]
  },
  {
   "cell_type": "markdown",
   "id": "de0badd3",
   "metadata": {
    "papermill": {
     "duration": 0.03064,
     "end_time": "2023-01-16T20:35:58.823627",
     "exception": false,
     "start_time": "2023-01-16T20:35:58.792987",
     "status": "completed"
    },
    "tags": []
   },
   "source": [
    "### Total gross income is   15379.368999999999 for all the 3 months \n"
   ]
  },
  {
   "cell_type": "code",
   "execution_count": 23,
   "id": "70072bdf",
   "metadata": {
    "execution": {
     "iopub.execute_input": "2023-01-16T20:35:58.888059Z",
     "iopub.status.busy": "2023-01-16T20:35:58.887426Z",
     "iopub.status.idle": "2023-01-16T20:35:58.896513Z",
     "shell.execute_reply": "2023-01-16T20:35:58.895662Z"
    },
    "papermill": {
     "duration": 0.043528,
     "end_time": "2023-01-16T20:35:58.898732",
     "exception": false,
     "start_time": "2023-01-16T20:35:58.855204",
     "status": "completed"
    },
    "tags": []
   },
   "outputs": [
    {
     "data": {
      "text/plain": [
       "Fashion accessories       178\n",
       "Food and beverages        174\n",
       "Electronic accessories    170\n",
       "Sports and travel         166\n",
       "Home and lifestyle        160\n",
       "Health and beauty         152\n",
       "Name: Product line, dtype: int64"
      ]
     },
     "execution_count": 23,
     "metadata": {},
     "output_type": "execute_result"
    }
   ],
   "source": [
    "## Most populated product line\n",
    "df[\"Product line\"].value_counts()"
   ]
  },
  {
   "cell_type": "code",
   "execution_count": 24,
   "id": "10fe8f7d",
   "metadata": {
    "execution": {
     "iopub.execute_input": "2023-01-16T20:35:58.961604Z",
     "iopub.status.busy": "2023-01-16T20:35:58.960446Z",
     "iopub.status.idle": "2023-01-16T20:35:59.210531Z",
     "shell.execute_reply": "2023-01-16T20:35:59.209405Z"
    },
    "papermill": {
     "duration": 0.283862,
     "end_time": "2023-01-16T20:35:59.213045",
     "exception": false,
     "start_time": "2023-01-16T20:35:58.929183",
     "status": "completed"
    },
    "tags": []
   },
   "outputs": [
    {
     "data": {
      "text/plain": [
       "<AxesSubplot:xlabel='Product line', ylabel='count'>"
      ]
     },
     "execution_count": 24,
     "metadata": {},
     "output_type": "execute_result"
    },
    {
     "data": {
      "image/png": "[encoded data removed]",
      "text/plain": [
       "<Figure size 1080x360 with 1 Axes>"
      ]
     },
     "metadata": {
      "needs_background": "light"
     },
     "output_type": "display_data"
    }
   ],
   "source": [
    "plt.figure(figsize=(15,5))\n",
    "sns.countplot(x=\"Product line\",data=df)\n"
   ]
  },
  {
   "cell_type": "markdown",
   "id": "396e80e5",
   "metadata": {
    "papermill": {
     "duration": 0.029892,
     "end_time": "2023-01-16T20:35:59.273599",
     "exception": false,
     "start_time": "2023-01-16T20:35:59.243707",
     "status": "completed"
    },
    "tags": []
   },
   "source": [
    "### Fashion accessories are most populated "
   ]
  },
  {
   "cell_type": "code",
   "execution_count": 25,
   "id": "75f27f44",
   "metadata": {
    "execution": {
     "iopub.execute_input": "2023-01-16T20:35:59.339625Z",
     "iopub.status.busy": "2023-01-16T20:35:59.339225Z",
     "iopub.status.idle": "2023-01-16T20:35:59.357011Z",
     "shell.execute_reply": "2023-01-16T20:35:59.355885Z"
    },
    "papermill": {
     "duration": 0.055029,
     "end_time": "2023-01-16T20:35:59.359397",
     "exception": false,
     "start_time": "2023-01-16T20:35:59.304368",
     "status": "completed"
    },
    "tags": []
   },
   "outputs": [
    {
     "data": {
      "text/html": [
       "<div>\n",
       "<style scoped>\n",
       "    .dataframe tbody tr th:only-of-type {\n",
       "        vertical-align: middle;\n",
       "    }\n",
       "\n",
       "    .dataframe tbody tr th {\n",
       "        vertical-align: top;\n",
       "    }\n",
       "\n",
       "    .dataframe thead th {\n",
       "        text-align: right;\n",
       "    }\n",
       "</style>\n",
       "<table border=\"1\" class=\"dataframe\">\n",
       "  <thead>\n",
       "    <tr style=\"text-align: right;\">\n",
       "      <th></th>\n",
       "      <th>max</th>\n",
       "      <th>min</th>\n",
       "      <th>mean</th>\n",
       "      <th>sum</th>\n",
       "    </tr>\n",
       "    <tr>\n",
       "      <th>City</th>\n",
       "      <th></th>\n",
       "      <th></th>\n",
       "      <th></th>\n",
       "      <th></th>\n",
       "    </tr>\n",
       "  </thead>\n",
       "  <tbody>\n",
       "    <tr>\n",
       "      <th>Mandalay</th>\n",
       "      <td>48.69</td>\n",
       "      <td>0.8875</td>\n",
       "      <td>15.232024</td>\n",
       "      <td>5057.0320</td>\n",
       "    </tr>\n",
       "    <tr>\n",
       "      <th>Naypyitaw</th>\n",
       "      <td>49.65</td>\n",
       "      <td>0.5085</td>\n",
       "      <td>16.052367</td>\n",
       "      <td>5265.1765</td>\n",
       "    </tr>\n",
       "    <tr>\n",
       "      <th>Yangon</th>\n",
       "      <td>49.49</td>\n",
       "      <td>0.6045</td>\n",
       "      <td>14.874001</td>\n",
       "      <td>5057.1605</td>\n",
       "    </tr>\n",
       "  </tbody>\n",
       "</table>\n",
       "</div>"
      ],
      "text/plain": [
       "             max     min       mean        sum\n",
       "City                                          \n",
       "Mandalay   48.69  0.8875  15.232024  5057.0320\n",
       "Naypyitaw  49.65  0.5085  16.052367  5265.1765\n",
       "Yangon     49.49  0.6045  14.874001  5057.1605"
      ]
     },
     "execution_count": 25,
     "metadata": {},
     "output_type": "execute_result"
    }
   ],
   "source": [
    "### which city has the more gross income \n",
    "df.groupby(\"City\")[\"gross income\"].agg([\"max\",\"min\",\"mean\",\"sum\"])"
   ]
  },
  {
   "cell_type": "code",
   "execution_count": 26,
   "id": "7de2ba7b",
   "metadata": {
    "execution": {
     "iopub.execute_input": "2023-01-16T20:35:59.422240Z",
     "iopub.status.busy": "2023-01-16T20:35:59.421816Z",
     "iopub.status.idle": "2023-01-16T20:36:00.420630Z",
     "shell.execute_reply": "2023-01-16T20:36:00.419847Z"
    },
    "papermill": {
     "duration": 1.03352,
     "end_time": "2023-01-16T20:36:00.422968",
     "exception": false,
     "start_time": "2023-01-16T20:35:59.389448",
     "status": "completed"
    },
    "tags": []
   },
   "outputs": [
    {
     "data": {
      "text/plain": [
       "Text(0.5, 1.0, 'total gross income')"
      ]
     },
     "execution_count": 26,
     "metadata": {},
     "output_type": "execute_result"
    },
    {
     "data": {
      "image/png": "[encoded data removed]",
      "text/plain": [
       "<Figure size 1440x288 with 4 Axes>"
      ]
     },
     "metadata": {
      "needs_background": "light"
     },
     "output_type": "display_data"
    }
   ],
   "source": [
    "plt.figure(figsize=(20,4))\n",
    "plt.subplot(1,4,1)\n",
    "sns.barplot(x=\"City\",y=\"gross income\",data=df)\n",
    "plt.title(\"average sale\")\n",
    "plt.subplot(1,4,2)\n",
    "sns.barplot(x=\"City\",y=\"gross income\",data=df,estimator=max)\n",
    "plt.title(\"max sale\")\n",
    "plt.subplot(1,4,3)\n",
    "sns.barplot(x=\"City\",y=\"gross income\",data=df,estimator=min)\n",
    "plt.title(\"min sale\")\n",
    "plt.subplot(1,4,4)\n",
    "sns.barplot(x=\"City\",y=\"gross income\",data=df,estimator=sum)\n",
    "plt.title(\"total gross income\")"
   ]
  },
  {
   "cell_type": "markdown",
   "id": "ac1a6036",
   "metadata": {
    "papermill": {
     "duration": 0.03021,
     "end_time": "2023-01-16T20:36:00.484260",
     "exception": false,
     "start_time": "2023-01-16T20:36:00.454050",
     "status": "completed"
    },
    "tags": []
   },
   "source": [
    "## Highest gross income was recorded at Naypyitaw city\n"
   ]
  },
  {
   "cell_type": "code",
   "execution_count": 27,
   "id": "65d44c19",
   "metadata": {
    "execution": {
     "iopub.execute_input": "2023-01-16T20:36:00.547990Z",
     "iopub.status.busy": "2023-01-16T20:36:00.547281Z",
     "iopub.status.idle": "2023-01-16T20:36:00.558220Z",
     "shell.execute_reply": "2023-01-16T20:36:00.557125Z"
    },
    "papermill": {
     "duration": 0.045465,
     "end_time": "2023-01-16T20:36:00.560472",
     "exception": false,
     "start_time": "2023-01-16T20:36:00.515007",
     "status": "completed"
    },
    "tags": []
   },
   "outputs": [
    {
     "data": {
      "text/plain": [
       "Product line\n",
       "Food and beverages        2673.5640\n",
       "Sports and travel         2624.8965\n",
       "Electronic accessories    2587.5015\n",
       "Fashion accessories       2585.9950\n",
       "Home and lifestyle        2564.8530\n",
       "Health and beauty         2342.5590\n",
       "Name: gross income, dtype: float64"
      ]
     },
     "execution_count": 27,
     "metadata": {},
     "output_type": "execute_result"
    }
   ],
   "source": [
    "## which product line as more gross income\n",
    "df.groupby(\"Product line\")[\"gross income\"].sum().sort_values(ascending=False)"
   ]
  },
  {
   "cell_type": "code",
   "execution_count": 28,
   "id": "580b5f20",
   "metadata": {
    "execution": {
     "iopub.execute_input": "2023-01-16T20:36:00.625811Z",
     "iopub.status.busy": "2023-01-16T20:36:00.625399Z",
     "iopub.status.idle": "2023-01-16T20:36:01.056928Z",
     "shell.execute_reply": "2023-01-16T20:36:01.056044Z"
    },
    "papermill": {
     "duration": 0.467242,
     "end_time": "2023-01-16T20:36:01.059302",
     "exception": false,
     "start_time": "2023-01-16T20:36:00.592060",
     "status": "completed"
    },
    "tags": []
   },
   "outputs": [
    {
     "data": {
      "image/png": "[encoded data removed]",
      "text/plain": [
       "<Figure size 720x360 with 1 Axes>"
      ]
     },
     "metadata": {
      "needs_background": "light"
     },
     "output_type": "display_data"
    }
   ],
   "source": [
    "plt.figure(figsize=(10,5))\n",
    "sns.barplot(x=\"Product line\",y=\"gross income\",data=df,estimator=sum)\n",
    "plt.xticks(rotation=90);"
   ]
  },
  {
   "cell_type": "markdown",
   "id": "100ad080",
   "metadata": {
    "papermill": {
     "duration": 0.032229,
     "end_time": "2023-01-16T20:36:01.123584",
     "exception": false,
     "start_time": "2023-01-16T20:36:01.091355",
     "status": "completed"
    },
    "tags": []
   },
   "source": [
    "### Food and beverages  has    2673.5640 which is more than other product lines"
   ]
  },
  {
   "cell_type": "code",
   "execution_count": 29,
   "id": "d4961a81",
   "metadata": {
    "execution": {
     "iopub.execute_input": "2023-01-16T20:36:01.188460Z",
     "iopub.status.busy": "2023-01-16T20:36:01.188052Z",
     "iopub.status.idle": "2023-01-16T20:36:01.200036Z",
     "shell.execute_reply": "2023-01-16T20:36:01.199121Z"
    },
    "papermill": {
     "duration": 0.046892,
     "end_time": "2023-01-16T20:36:01.202244",
     "exception": false,
     "start_time": "2023-01-16T20:36:01.155352",
     "status": "completed"
    },
    "tags": []
   },
   "outputs": [
    {
     "data": {
      "text/plain": [
       "Gender  Product line          \n",
       "Female  Fashion accessories       96\n",
       "        Food and beverages        90\n",
       "        Sports and travel         88\n",
       "Male    Health and beauty         88\n",
       "        Electronic accessories    86\n",
       "Female  Electronic accessories    84\n",
       "Male    Food and beverages        84\n",
       "        Fashion accessories       82\n",
       "        Home and lifestyle        81\n",
       "Female  Home and lifestyle        79\n",
       "Male    Sports and travel         78\n",
       "Female  Health and beauty         64\n",
       "Name: Product line, dtype: int64"
      ]
     },
     "execution_count": 29,
     "metadata": {},
     "output_type": "execute_result"
    }
   ],
   "source": [
    "## which gender has bought the highest product line\n",
    "df.groupby(\"Gender\")[\"Product line\"].value_counts().sort_values(ascending=False)"
   ]
  },
  {
   "cell_type": "code",
   "execution_count": 30,
   "id": "4aaf08fb",
   "metadata": {
    "execution": {
     "iopub.execute_input": "2023-01-16T20:36:01.267656Z",
     "iopub.status.busy": "2023-01-16T20:36:01.266602Z",
     "iopub.status.idle": "2023-01-16T20:36:01.543894Z",
     "shell.execute_reply": "2023-01-16T20:36:01.542781Z"
    },
    "papermill": {
     "duration": 0.312548,
     "end_time": "2023-01-16T20:36:01.546314",
     "exception": false,
     "start_time": "2023-01-16T20:36:01.233766",
     "status": "completed"
    },
    "tags": []
   },
   "outputs": [
    {
     "data": {
      "text/plain": [
       "<AxesSubplot:xlabel='Gender', ylabel='count'>"
      ]
     },
     "execution_count": 30,
     "metadata": {},
     "output_type": "execute_result"
    },
    {
     "data": {
      "image/png": "[encoded data removed]",
      "text/plain": [
       "<Figure size 432x288 with 1 Axes>"
      ]
     },
     "metadata": {
      "needs_background": "light"
     },
     "output_type": "display_data"
    }
   ],
   "source": [
    "sns.countplot(x=\"Gender\",hue=\"Product line\",data=df)"
   ]
  },
  {
   "cell_type": "code",
   "execution_count": 31,
   "id": "984c1a81",
   "metadata": {
    "execution": {
     "iopub.execute_input": "2023-01-16T20:36:01.613024Z",
     "iopub.status.busy": "2023-01-16T20:36:01.612603Z",
     "iopub.status.idle": "2023-01-16T20:36:01.620161Z",
     "shell.execute_reply": "2023-01-16T20:36:01.619338Z"
    },
    "papermill": {
     "duration": 0.043576,
     "end_time": "2023-01-16T20:36:01.622242",
     "exception": false,
     "start_time": "2023-01-16T20:36:01.578666",
     "status": "completed"
    },
    "tags": []
   },
   "outputs": [
    {
     "data": {
      "text/plain": [
       "Member    501\n",
       "Normal    499\n",
       "Name: Customer type, dtype: int64"
      ]
     },
     "execution_count": 31,
     "metadata": {},
     "output_type": "execute_result"
    }
   ],
   "source": [
    "## which customer type are frequent member or normal\n",
    "df[\"Customer type\"].value_counts()\n"
   ]
  },
  {
   "cell_type": "markdown",
   "id": "a535c920",
   "metadata": {
    "papermill": {
     "duration": 0.03201,
     "end_time": "2023-01-16T20:36:01.686328",
     "exception": false,
     "start_time": "2023-01-16T20:36:01.654318",
     "status": "completed"
    },
    "tags": []
   },
   "source": [
    "## Almost 50% are Members and 50% normal "
   ]
  },
  {
   "cell_type": "code",
   "execution_count": 32,
   "id": "fad1822e",
   "metadata": {
    "execution": {
     "iopub.execute_input": "2023-01-16T20:36:01.753534Z",
     "iopub.status.busy": "2023-01-16T20:36:01.753128Z",
     "iopub.status.idle": "2023-01-16T20:36:01.763879Z",
     "shell.execute_reply": "2023-01-16T20:36:01.762841Z"
    },
    "papermill": {
     "duration": 0.046713,
     "end_time": "2023-01-16T20:36:01.766161",
     "exception": false,
     "start_time": "2023-01-16T20:36:01.719448",
     "status": "completed"
    },
    "tags": []
   },
   "outputs": [
    {
     "data": {
      "text/plain": [
       "Food and beverages        94\n",
       "Sports and travel         87\n",
       "Fashion accessories       86\n",
       "Home and lifestyle        83\n",
       "Electronic accessories    78\n",
       "Health and beauty         73\n",
       "Name: Product line, dtype: int64"
      ]
     },
     "execution_count": 32,
     "metadata": {},
     "output_type": "execute_result"
    }
   ],
   "source": [
    "### Which product line was most bought by the Members \n",
    "df[df[\"Customer type\"]==\"Member\"][\"Product line\"].value_counts().sort_values(ascending=False)"
   ]
  },
  {
   "cell_type": "code",
   "execution_count": 33,
   "id": "be8e41d2",
   "metadata": {
    "execution": {
     "iopub.execute_input": "2023-01-16T20:36:01.834792Z",
     "iopub.status.busy": "2023-01-16T20:36:01.834366Z",
     "iopub.status.idle": "2023-01-16T20:36:01.845726Z",
     "shell.execute_reply": "2023-01-16T20:36:01.844591Z"
    },
    "papermill": {
     "duration": 0.047899,
     "end_time": "2023-01-16T20:36:01.848116",
     "exception": false,
     "start_time": "2023-01-16T20:36:01.800217",
     "status": "completed"
    },
    "tags": []
   },
   "outputs": [
    {
     "data": {
      "text/plain": [
       "Electronic accessories    92\n",
       "Fashion accessories       92\n",
       "Food and beverages        80\n",
       "Sports and travel         79\n",
       "Health and beauty         79\n",
       "Home and lifestyle        77\n",
       "Name: Product line, dtype: int64"
      ]
     },
     "execution_count": 33,
     "metadata": {},
     "output_type": "execute_result"
    }
   ],
   "source": [
    "df[df[\"Customer type\"]==\"Normal\"][\"Product line\"].value_counts().sort_values(ascending=False)"
   ]
  },
  {
   "cell_type": "markdown",
   "id": "f441a41c",
   "metadata": {
    "papermill": {
     "duration": 0.032159,
     "end_time": "2023-01-16T20:36:01.913728",
     "exception": false,
     "start_time": "2023-01-16T20:36:01.881569",
     "status": "completed"
    },
    "tags": []
   },
   "source": [
    "### Food and beverages are most bought by the Members whereas Electronic accessories were most bought by the Normal "
   ]
  },
  {
   "cell_type": "code",
   "execution_count": 34,
   "id": "42ed0cee",
   "metadata": {
    "execution": {
     "iopub.execute_input": "2023-01-16T20:36:01.981826Z",
     "iopub.status.busy": "2023-01-16T20:36:01.981388Z",
     "iopub.status.idle": "2023-01-16T20:36:02.329477Z",
     "shell.execute_reply": "2023-01-16T20:36:02.328272Z"
    },
    "papermill": {
     "duration": 0.385692,
     "end_time": "2023-01-16T20:36:02.332214",
     "exception": false,
     "start_time": "2023-01-16T20:36:01.946522",
     "status": "completed"
    },
    "tags": []
   },
   "outputs": [
    {
     "data": {
      "text/plain": [
       "<AxesSubplot:xlabel='month', ylabel='gross income'>"
      ]
     },
     "execution_count": 34,
     "metadata": {},
     "output_type": "execute_result"
    },
    {
     "data": {
      "image/png": "[encoded data removed]",
      "text/plain": [
       "<Figure size 432x288 with 1 Axes>"
      ]
     },
     "metadata": {
      "needs_background": "light"
     },
     "output_type": "display_data"
    }
   ],
   "source": [
    "### Which is the Highest gross income month \n",
    "sns.barplot(x=\"month\",y=\"gross income\",data=df,estimator=sum)"
   ]
  },
  {
   "cell_type": "code",
   "execution_count": 35,
   "id": "cc563ce9",
   "metadata": {
    "execution": {
     "iopub.execute_input": "2023-01-16T20:36:02.400851Z",
     "iopub.status.busy": "2023-01-16T20:36:02.399642Z",
     "iopub.status.idle": "2023-01-16T20:36:02.408917Z",
     "shell.execute_reply": "2023-01-16T20:36:02.408089Z"
    },
    "papermill": {
     "duration": 0.045978,
     "end_time": "2023-01-16T20:36:02.411181",
     "exception": false,
     "start_time": "2023-01-16T20:36:02.365203",
     "status": "completed"
    },
    "tags": []
   },
   "outputs": [
    {
     "data": {
      "text/plain": [
       "month\n",
       "January     5537.708\n",
       "March       5212.167\n",
       "February    4629.494\n",
       "Name: gross income, dtype: float64"
      ]
     },
     "execution_count": 35,
     "metadata": {},
     "output_type": "execute_result"
    }
   ],
   "source": [
    "df.groupby(\"month\")[\"gross income\"].sum().sort_values(ascending=False)"
   ]
  },
  {
   "cell_type": "markdown",
   "id": "a274c1cb",
   "metadata": {
    "papermill": {
     "duration": 0.033254,
     "end_time": "2023-01-16T20:36:02.478272",
     "exception": false,
     "start_time": "2023-01-16T20:36:02.445018",
     "status": "completed"
    },
    "tags": []
   },
   "source": [
    "### January has more gross income "
   ]
  },
  {
   "cell_type": "code",
   "execution_count": 36,
   "id": "88339de4",
   "metadata": {
    "execution": {
     "iopub.execute_input": "2023-01-16T20:36:02.547523Z",
     "iopub.status.busy": "2023-01-16T20:36:02.546479Z",
     "iopub.status.idle": "2023-01-16T20:36:02.561769Z",
     "shell.execute_reply": "2023-01-16T20:36:02.561019Z"
    },
    "papermill": {
     "duration": 0.051715,
     "end_time": "2023-01-16T20:36:02.564088",
     "exception": false,
     "start_time": "2023-01-16T20:36:02.512373",
     "status": "completed"
    },
    "tags": []
   },
   "outputs": [
    {
     "data": {
      "text/html": [
       "<div>\n",
       "<style scoped>\n",
       "    .dataframe tbody tr th:only-of-type {\n",
       "        vertical-align: middle;\n",
       "    }\n",
       "\n",
       "    .dataframe tbody tr th {\n",
       "        vertical-align: top;\n",
       "    }\n",
       "\n",
       "    .dataframe thead th {\n",
       "        text-align: right;\n",
       "    }\n",
       "</style>\n",
       "<table border=\"1\" class=\"dataframe\">\n",
       "  <thead>\n",
       "    <tr style=\"text-align: right;\">\n",
       "      <th></th>\n",
       "      <th>City</th>\n",
       "      <th>Date</th>\n",
       "      <th>Customer type</th>\n",
       "      <th>Product line</th>\n",
       "      <th>month</th>\n",
       "    </tr>\n",
       "  </thead>\n",
       "  <tbody>\n",
       "    <tr>\n",
       "      <th>167</th>\n",
       "      <td>Yangon</td>\n",
       "      <td>2019-02-08</td>\n",
       "      <td>Normal</td>\n",
       "      <td>Fashion accessories</td>\n",
       "      <td>February</td>\n",
       "    </tr>\n",
       "  </tbody>\n",
       "</table>\n",
       "</div>"
      ],
      "text/plain": [
       "       City       Date Customer type         Product line     month\n",
       "167  Yangon 2019-02-08        Normal  Fashion accessories  February"
      ]
     },
     "execution_count": 36,
     "metadata": {},
     "output_type": "execute_result"
    }
   ],
   "source": [
    "## At which date and month highest gross income was recorded along with customer category and customer type and product category at city Yangon\n",
    "df_Yangon=df[df[\"City\"]==\"Yangon\"]\n",
    "df_Yangon[df_Yangon[\"gross income\"]==df_Yangon[\"gross income\"].max()][[\"City\",\"Date\",\"Customer type\",\"Product line\",\"month\"]]"
   ]
  },
  {
   "cell_type": "code",
   "execution_count": 37,
   "id": "cdd30718",
   "metadata": {
    "execution": {
     "iopub.execute_input": "2023-01-16T20:36:02.634724Z",
     "iopub.status.busy": "2023-01-16T20:36:02.633998Z",
     "iopub.status.idle": "2023-01-16T20:36:02.649865Z",
     "shell.execute_reply": "2023-01-16T20:36:02.649088Z"
    },
    "papermill": {
     "duration": 0.053056,
     "end_time": "2023-01-16T20:36:02.652083",
     "exception": false,
     "start_time": "2023-01-16T20:36:02.599027",
     "status": "completed"
    },
    "tags": []
   },
   "outputs": [
    {
     "data": {
      "text/html": [
       "<div>\n",
       "<style scoped>\n",
       "    .dataframe tbody tr th:only-of-type {\n",
       "        vertical-align: middle;\n",
       "    }\n",
       "\n",
       "    .dataframe tbody tr th {\n",
       "        vertical-align: top;\n",
       "    }\n",
       "\n",
       "    .dataframe thead th {\n",
       "        text-align: right;\n",
       "    }\n",
       "</style>\n",
       "<table border=\"1\" class=\"dataframe\">\n",
       "  <thead>\n",
       "    <tr style=\"text-align: right;\">\n",
       "      <th></th>\n",
       "      <th>City</th>\n",
       "      <th>Date</th>\n",
       "      <th>Customer type</th>\n",
       "      <th>Product line</th>\n",
       "      <th>month</th>\n",
       "    </tr>\n",
       "  </thead>\n",
       "  <tbody>\n",
       "    <tr>\n",
       "      <th>350</th>\n",
       "      <td>Naypyitaw</td>\n",
       "      <td>2019-02-15</td>\n",
       "      <td>Member</td>\n",
       "      <td>Fashion accessories</td>\n",
       "      <td>February</td>\n",
       "    </tr>\n",
       "  </tbody>\n",
       "</table>\n",
       "</div>"
      ],
      "text/plain": [
       "          City       Date Customer type         Product line     month\n",
       "350  Naypyitaw 2019-02-15        Member  Fashion accessories  February"
      ]
     },
     "execution_count": 37,
     "metadata": {},
     "output_type": "execute_result"
    }
   ],
   "source": [
    "## At which date and month highest gross income was recorded along with customer category and customer type and product category at city Naypyitaw\n",
    "df_Naypyitaw=df[df[\"City\"]==\"Naypyitaw\"]\n",
    "df_Naypyitaw[df_Naypyitaw[\"gross income\"]==df_Naypyitaw[\"gross income\"].max()][[\"City\",\"Date\",\"Customer type\",\"Product line\",\"month\"]]"
   ]
  },
  {
   "cell_type": "code",
   "execution_count": 38,
   "id": "2a62eca2",
   "metadata": {
    "execution": {
     "iopub.execute_input": "2023-01-16T20:36:02.720873Z",
     "iopub.status.busy": "2023-01-16T20:36:02.720258Z",
     "iopub.status.idle": "2023-01-16T20:36:02.734405Z",
     "shell.execute_reply": "2023-01-16T20:36:02.733422Z"
    },
    "papermill": {
     "duration": 0.051418,
     "end_time": "2023-01-16T20:36:02.736680",
     "exception": false,
     "start_time": "2023-01-16T20:36:02.685262",
     "status": "completed"
    },
    "tags": []
   },
   "outputs": [
    {
     "data": {
      "text/html": [
       "<div>\n",
       "<style scoped>\n",
       "    .dataframe tbody tr th:only-of-type {\n",
       "        vertical-align: middle;\n",
       "    }\n",
       "\n",
       "    .dataframe tbody tr th {\n",
       "        vertical-align: top;\n",
       "    }\n",
       "\n",
       "    .dataframe thead th {\n",
       "        text-align: right;\n",
       "    }\n",
       "</style>\n",
       "<table border=\"1\" class=\"dataframe\">\n",
       "  <thead>\n",
       "    <tr style=\"text-align: right;\">\n",
       "      <th></th>\n",
       "      <th>City</th>\n",
       "      <th>Date</th>\n",
       "      <th>Customer type</th>\n",
       "      <th>Product line</th>\n",
       "      <th>month</th>\n",
       "    </tr>\n",
       "  </thead>\n",
       "  <tbody>\n",
       "    <tr>\n",
       "      <th>996</th>\n",
       "      <td>Mandalay</td>\n",
       "      <td>2019-03-02</td>\n",
       "      <td>Normal</td>\n",
       "      <td>Home and lifestyle</td>\n",
       "      <td>March</td>\n",
       "    </tr>\n",
       "  </tbody>\n",
       "</table>\n",
       "</div>"
      ],
      "text/plain": [
       "         City       Date Customer type        Product line  month\n",
       "996  Mandalay 2019-03-02        Normal  Home and lifestyle  March"
      ]
     },
     "execution_count": 38,
     "metadata": {},
     "output_type": "execute_result"
    }
   ],
   "source": [
    "## At which date and month highest gross income was recorded along with customer category and customer type and product category at city Mandalay\n",
    "df_Mandalay=df[df[\"City\"]==\"Mandalay\"]\n",
    "df_Mandalay[df_Mandalay[\"gross income\"]==df_Mandalay[\"gross income\"].max()][[\"City\",\"Date\",\"Customer type\",\"Product line\",\"month\"]]"
   ]
  },
  {
   "cell_type": "code",
   "execution_count": 39,
   "id": "5b55db91",
   "metadata": {
    "execution": {
     "iopub.execute_input": "2023-01-16T20:36:02.806967Z",
     "iopub.status.busy": "2023-01-16T20:36:02.806509Z",
     "iopub.status.idle": "2023-01-16T20:36:02.821498Z",
     "shell.execute_reply": "2023-01-16T20:36:02.820435Z"
    },
    "papermill": {
     "duration": 0.052412,
     "end_time": "2023-01-16T20:36:02.823962",
     "exception": false,
     "start_time": "2023-01-16T20:36:02.771550",
     "status": "completed"
    },
    "tags": []
   },
   "outputs": [
    {
     "data": {
      "text/html": [
       "<div>\n",
       "<style scoped>\n",
       "    .dataframe tbody tr th:only-of-type {\n",
       "        vertical-align: middle;\n",
       "    }\n",
       "\n",
       "    .dataframe tbody tr th {\n",
       "        vertical-align: top;\n",
       "    }\n",
       "\n",
       "    .dataframe thead th {\n",
       "        text-align: right;\n",
       "    }\n",
       "</style>\n",
       "<table border=\"1\" class=\"dataframe\">\n",
       "  <thead>\n",
       "    <tr style=\"text-align: right;\">\n",
       "      <th></th>\n",
       "      <th>City</th>\n",
       "      <th>gross income</th>\n",
       "      <th>Date</th>\n",
       "      <th>Customer type</th>\n",
       "      <th>Product line</th>\n",
       "      <th>month</th>\n",
       "    </tr>\n",
       "  </thead>\n",
       "  <tbody>\n",
       "    <tr>\n",
       "      <th>629</th>\n",
       "      <td>Yangon</td>\n",
       "      <td>0.6045</td>\n",
       "      <td>2019-01-26</td>\n",
       "      <td>Normal</td>\n",
       "      <td>Fashion accessories</td>\n",
       "      <td>January</td>\n",
       "    </tr>\n",
       "  </tbody>\n",
       "</table>\n",
       "</div>"
      ],
      "text/plain": [
       "       City  gross income       Date Customer type         Product line  \\\n",
       "629  Yangon        0.6045 2019-01-26        Normal  Fashion accessories   \n",
       "\n",
       "       month  \n",
       "629  January  "
      ]
     },
     "execution_count": 39,
     "metadata": {},
     "output_type": "execute_result"
    }
   ],
   "source": [
    "## At which date and month lowest gross income was recorded along with customer category and customer type and product category at city Yangon\n",
    "df_Yangon[df_Yangon[\"gross income\"]==df_Yangon[\"gross income\"].min()][[\"City\",\"gross income\",\"Date\",\"Customer type\",\"Product line\",\"month\"]]"
   ]
  },
  {
   "cell_type": "code",
   "execution_count": 40,
   "id": "5662c7f1",
   "metadata": {
    "execution": {
     "iopub.execute_input": "2023-01-16T20:36:02.894828Z",
     "iopub.status.busy": "2023-01-16T20:36:02.894171Z",
     "iopub.status.idle": "2023-01-16T20:36:02.909489Z",
     "shell.execute_reply": "2023-01-16T20:36:02.908406Z"
    },
    "papermill": {
     "duration": 0.052529,
     "end_time": "2023-01-16T20:36:02.911680",
     "exception": false,
     "start_time": "2023-01-16T20:36:02.859151",
     "status": "completed"
    },
    "tags": []
   },
   "outputs": [
    {
     "data": {
      "text/html": [
       "<div>\n",
       "<style scoped>\n",
       "    .dataframe tbody tr th:only-of-type {\n",
       "        vertical-align: middle;\n",
       "    }\n",
       "\n",
       "    .dataframe tbody tr th {\n",
       "        vertical-align: top;\n",
       "    }\n",
       "\n",
       "    .dataframe thead th {\n",
       "        text-align: right;\n",
       "    }\n",
       "</style>\n",
       "<table border=\"1\" class=\"dataframe\">\n",
       "  <thead>\n",
       "    <tr style=\"text-align: right;\">\n",
       "      <th></th>\n",
       "      <th>City</th>\n",
       "      <th>Date</th>\n",
       "      <th>Customer type</th>\n",
       "      <th>Product line</th>\n",
       "      <th>month</th>\n",
       "    </tr>\n",
       "  </thead>\n",
       "  <tbody>\n",
       "    <tr>\n",
       "      <th>822</th>\n",
       "      <td>Naypyitaw</td>\n",
       "      <td>2019-02-07</td>\n",
       "      <td>Member</td>\n",
       "      <td>Sports and travel</td>\n",
       "      <td>February</td>\n",
       "    </tr>\n",
       "  </tbody>\n",
       "</table>\n",
       "</div>"
      ],
      "text/plain": [
       "          City       Date Customer type       Product line     month\n",
       "822  Naypyitaw 2019-02-07        Member  Sports and travel  February"
      ]
     },
     "execution_count": 40,
     "metadata": {},
     "output_type": "execute_result"
    }
   ],
   "source": [
    "## At which date and month Lowest gross income was recorded along with customer category and customer type and product category at city Naypyitaw\n",
    "df_Naypyitaw=df[df[\"City\"]==\"Naypyitaw\"]\n",
    "df_Naypyitaw[df_Naypyitaw[\"gross income\"]==df_Naypyitaw[\"gross income\"].min()][[\"City\",\"Date\",\"Customer type\",\"Product line\",\"month\"]]"
   ]
  },
  {
   "cell_type": "code",
   "execution_count": 41,
   "id": "c685dd42",
   "metadata": {
    "execution": {
     "iopub.execute_input": "2023-01-16T20:36:02.980434Z",
     "iopub.status.busy": "2023-01-16T20:36:02.979749Z",
     "iopub.status.idle": "2023-01-16T20:36:02.995153Z",
     "shell.execute_reply": "2023-01-16T20:36:02.994130Z"
    },
    "papermill": {
     "duration": 0.052242,
     "end_time": "2023-01-16T20:36:02.997243",
     "exception": false,
     "start_time": "2023-01-16T20:36:02.945001",
     "status": "completed"
    },
    "tags": []
   },
   "outputs": [
    {
     "data": {
      "text/html": [
       "<div>\n",
       "<style scoped>\n",
       "    .dataframe tbody tr th:only-of-type {\n",
       "        vertical-align: middle;\n",
       "    }\n",
       "\n",
       "    .dataframe tbody tr th {\n",
       "        vertical-align: top;\n",
       "    }\n",
       "\n",
       "    .dataframe thead th {\n",
       "        text-align: right;\n",
       "    }\n",
       "</style>\n",
       "<table border=\"1\" class=\"dataframe\">\n",
       "  <thead>\n",
       "    <tr style=\"text-align: right;\">\n",
       "      <th></th>\n",
       "      <th>City</th>\n",
       "      <th>Date</th>\n",
       "      <th>Customer type</th>\n",
       "      <th>Product line</th>\n",
       "      <th>month</th>\n",
       "    </tr>\n",
       "  </thead>\n",
       "  <tbody>\n",
       "    <tr>\n",
       "      <th>808</th>\n",
       "      <td>Mandalay</td>\n",
       "      <td>2019-01-14</td>\n",
       "      <td>Normal</td>\n",
       "      <td>Health and beauty</td>\n",
       "      <td>January</td>\n",
       "    </tr>\n",
       "  </tbody>\n",
       "</table>\n",
       "</div>"
      ],
      "text/plain": [
       "         City       Date Customer type       Product line    month\n",
       "808  Mandalay 2019-01-14        Normal  Health and beauty  January"
      ]
     },
     "execution_count": 41,
     "metadata": {},
     "output_type": "execute_result"
    }
   ],
   "source": [
    "## At which date and month Lowest gross income was recorded along with customer category and customer type and product category at city Mandalay\n",
    "df_Mandalay=df[df[\"City\"]==\"Mandalay\"]\n",
    "df_Mandalay[df_Mandalay[\"gross income\"]==df_Mandalay[\"gross income\"].min()][[\"City\",\"Date\",\"Customer type\",\"Product line\",\"month\"]]"
   ]
  },
  {
   "cell_type": "code",
   "execution_count": 42,
   "id": "45238717",
   "metadata": {
    "execution": {
     "iopub.execute_input": "2023-01-16T20:36:03.066359Z",
     "iopub.status.busy": "2023-01-16T20:36:03.065615Z",
     "iopub.status.idle": "2023-01-16T20:36:03.076786Z",
     "shell.execute_reply": "2023-01-16T20:36:03.075721Z"
    },
    "papermill": {
     "duration": 0.048353,
     "end_time": "2023-01-16T20:36:03.079012",
     "exception": false,
     "start_time": "2023-01-16T20:36:03.030659",
     "status": "completed"
    },
    "tags": []
   },
   "outputs": [
    {
     "data": {
      "text/plain": [
       "City       month   \n",
       "Naypyitaw  January     1925.4610\n",
       "Yangon     January     1841.9585\n",
       "           March       1793.2915\n",
       "Naypyitaw  March       1771.3830\n",
       "Mandalay   January     1770.2885\n",
       "           March       1647.4925\n",
       "           February    1639.2510\n",
       "Naypyitaw  February    1568.3325\n",
       "Yangon     February    1421.9105\n",
       "Name: gross income, dtype: float64"
      ]
     },
     "execution_count": 42,
     "metadata": {},
     "output_type": "execute_result"
    }
   ],
   "source": [
    "## what is the total gross income in each month of every city\n",
    "df.groupby([\"City\",\"month\"])[\"gross income\"].sum().sort_values(ascending=False)\n"
   ]
  },
  {
   "cell_type": "code",
   "execution_count": 43,
   "id": "f8331f62",
   "metadata": {
    "execution": {
     "iopub.execute_input": "2023-01-16T20:36:03.148743Z",
     "iopub.status.busy": "2023-01-16T20:36:03.148091Z",
     "iopub.status.idle": "2023-01-16T20:36:03.660793Z",
     "shell.execute_reply": "2023-01-16T20:36:03.659998Z"
    },
    "papermill": {
     "duration": 0.550115,
     "end_time": "2023-01-16T20:36:03.662955",
     "exception": false,
     "start_time": "2023-01-16T20:36:03.112840",
     "status": "completed"
    },
    "tags": []
   },
   "outputs": [
    {
     "data": {
      "text/plain": [
       "<AxesSubplot:xlabel='gross income', ylabel='City'>"
      ]
     },
     "execution_count": 43,
     "metadata": {},
     "output_type": "execute_result"
    },
    {
     "data": {
      "image/png": "[encoded data removed]",
      "text/plain": [
       "<Figure size 432x288 with 1 Axes>"
      ]
     },
     "metadata": {
      "needs_background": "light"
     },
     "output_type": "display_data"
    }
   ],
   "source": [
    "sns.barplot(x=\"gross income\",y=\"City\",hue=\"month\",data=df,estimator=sum)"
   ]
  },
  {
   "cell_type": "code",
   "execution_count": 44,
   "id": "6a7cf2bb",
   "metadata": {
    "execution": {
     "iopub.execute_input": "2023-01-16T20:36:03.732929Z",
     "iopub.status.busy": "2023-01-16T20:36:03.732265Z",
     "iopub.status.idle": "2023-01-16T20:36:03.741874Z",
     "shell.execute_reply": "2023-01-16T20:36:03.740321Z"
    },
    "papermill": {
     "duration": 0.0478,
     "end_time": "2023-01-16T20:36:03.744444",
     "exception": false,
     "start_time": "2023-01-16T20:36:03.696644",
     "status": "completed"
    },
    "tags": []
   },
   "outputs": [
    {
     "name": "stdout",
     "output_type": "stream",
     "text": [
      "weekdays sale :  10589.907000000001\n",
      "weekends sale :  4789.4619999999995\n"
     ]
    }
   ],
   "source": [
    "## what is the weekday and weekend total gross income\n",
    "week_df=df[df[\"weekday\"]<5]\n",
    "weekend_df=df[df[\"weekday\"]>=5]\n",
    "print(\"weekdays sale : \",week_df[\"gross income\"].sum())\n",
    "print(\"weekends sale : \",weekend_df[\"gross income\"].sum())\n"
   ]
  },
  {
   "cell_type": "markdown",
   "id": "3132ddb9",
   "metadata": {
    "papermill": {
     "duration": 0.033531,
     "end_time": "2023-01-16T20:36:03.812089",
     "exception": false,
     "start_time": "2023-01-16T20:36:03.778558",
     "status": "completed"
    },
    "tags": []
   },
   "source": [
    "### Weekdays has more Gross income than weekends"
   ]
  },
  {
   "cell_type": "code",
   "execution_count": 45,
   "id": "6c2d3c2b",
   "metadata": {
    "execution": {
     "iopub.execute_input": "2023-01-16T20:36:03.887058Z",
     "iopub.status.busy": "2023-01-16T20:36:03.886158Z",
     "iopub.status.idle": "2023-01-16T20:36:03.895112Z",
     "shell.execute_reply": "2023-01-16T20:36:03.894114Z"
    },
    "papermill": {
     "duration": 0.050665,
     "end_time": "2023-01-16T20:36:03.897233",
     "exception": false,
     "start_time": "2023-01-16T20:36:03.846568",
     "status": "completed"
    },
    "tags": []
   },
   "outputs": [
    {
     "data": {
      "text/plain": [
       "City\n",
       "Naypyitaw    3593.428\n",
       "Mandalay     3547.520\n",
       "Yangon       3448.959\n",
       "Name: gross income, dtype: float64"
      ]
     },
     "execution_count": 45,
     "metadata": {},
     "output_type": "execute_result"
    }
   ],
   "source": [
    "### find the weekday and weekend total gross income of each city\n",
    "week_df.groupby(\"City\")[\"gross income\"].sum().sort_values(ascending=False)"
   ]
  },
  {
   "cell_type": "code",
   "execution_count": 46,
   "id": "5742d226",
   "metadata": {
    "execution": {
     "iopub.execute_input": "2023-01-16T20:36:03.968929Z",
     "iopub.status.busy": "2023-01-16T20:36:03.968476Z",
     "iopub.status.idle": "2023-01-16T20:36:03.978814Z",
     "shell.execute_reply": "2023-01-16T20:36:03.977647Z"
    },
    "papermill": {
     "duration": 0.04942,
     "end_time": "2023-01-16T20:36:03.981174",
     "exception": false,
     "start_time": "2023-01-16T20:36:03.931754",
     "status": "completed"
    },
    "tags": []
   },
   "outputs": [
    {
     "data": {
      "text/plain": [
       "City\n",
       "Naypyitaw    1671.7485\n",
       "Yangon       1608.2015\n",
       "Mandalay     1509.5120\n",
       "Name: gross income, dtype: float64"
      ]
     },
     "execution_count": 46,
     "metadata": {},
     "output_type": "execute_result"
    }
   ],
   "source": [
    "weekend_df.groupby(\"City\")[\"gross income\"].sum().sort_values(ascending=False)"
   ]
  },
  {
   "cell_type": "code",
   "execution_count": 47,
   "id": "ccd0d021",
   "metadata": {
    "execution": {
     "iopub.execute_input": "2023-01-16T20:36:04.052902Z",
     "iopub.status.busy": "2023-01-16T20:36:04.052480Z",
     "iopub.status.idle": "2023-01-16T20:36:04.377412Z",
     "shell.execute_reply": "2023-01-16T20:36:04.375907Z"
    },
    "papermill": {
     "duration": 0.363939,
     "end_time": "2023-01-16T20:36:04.380136",
     "exception": false,
     "start_time": "2023-01-16T20:36:04.016197",
     "status": "completed"
    },
    "tags": []
   },
   "outputs": [
    {
     "data": {
      "text/plain": [
       "Text(0, 0.5, 'sale')"
      ]
     },
     "execution_count": 47,
     "metadata": {},
     "output_type": "execute_result"
    },
    {
     "data": {
      "image/png": "[encoded data removed]",
      "text/plain": [
       "<Figure size 720x360 with 2 Axes>"
      ]
     },
     "metadata": {
      "needs_background": "light"
     },
     "output_type": "display_data"
    }
   ],
   "source": [
    "plt.figure(figsize=(10,5))\n",
    "plt.subplot(1,2,1)\n",
    "plt.bar(week_df.groupby([\"City\"])[\"gross income\"].sum().index,week_df.groupby([\"City\"])[\"gross income\"].sum().values)\n",
    "plt.title(\"weekday sale of each branch\")\n",
    "plt.xlabel(\"City\")\n",
    "plt.ylabel(\"sale\")\n",
    "plt.subplot(1,2,2)\n",
    "plt.bar(weekend_df.groupby([\"City\"])[\"gross income\"].sum().index,weekend_df.groupby([\"City\"])[\"gross income\"].sum().values)\n",
    "plt.title(\"weekendday sale of each branch\")\n",
    "plt.xlabel(\"City\")\n",
    "plt.ylabel(\"sale\")"
   ]
  },
  {
   "cell_type": "code",
   "execution_count": 48,
   "id": "bf9352a3",
   "metadata": {
    "execution": {
     "iopub.execute_input": "2023-01-16T20:36:04.452224Z",
     "iopub.status.busy": "2023-01-16T20:36:04.451787Z",
     "iopub.status.idle": "2023-01-16T20:36:04.465815Z",
     "shell.execute_reply": "2023-01-16T20:36:04.464222Z"
    },
    "papermill": {
     "duration": 0.053717,
     "end_time": "2023-01-16T20:36:04.469126",
     "exception": false,
     "start_time": "2023-01-16T20:36:04.415409",
     "status": "completed"
    },
    "tags": []
   },
   "outputs": [
    {
     "name": "stdout",
     "output_type": "stream",
     "text": [
      "weekdays sale :  month\n",
      "January     3992.449\n",
      "March       3343.544\n",
      "February    3253.914\n",
      "Name: gross income, dtype: float64\n",
      "weekends sale :  month\n",
      "March       1868.623\n",
      "January     1545.259\n",
      "February    1375.580\n",
      "Name: gross income, dtype: float64\n"
     ]
    }
   ],
   "source": [
    "## find the weekday and weekend sale of each month of each branch \n",
    "week_t=df[df[\"weekday\"]<5]\n",
    "weekend_t=df[df[\"weekday\"]>=5]\n",
    "print(\"weekdays sale : \",week_t.groupby(\"month\")[\"gross income\"].sum().sort_values(ascending=False))\n",
    "print(\"weekends sale : \",weekend_t.groupby(\"month\")[\"gross income\"].sum().sort_values(ascending=False))"
   ]
  },
  {
   "cell_type": "code",
   "execution_count": 49,
   "id": "5e1f45bc",
   "metadata": {
    "execution": {
     "iopub.execute_input": "2023-01-16T20:36:04.542617Z",
     "iopub.status.busy": "2023-01-16T20:36:04.541475Z",
     "iopub.status.idle": "2023-01-16T20:36:04.551878Z",
     "shell.execute_reply": "2023-01-16T20:36:04.550792Z"
    },
    "papermill": {
     "duration": 0.049318,
     "end_time": "2023-01-16T20:36:04.554194",
     "exception": false,
     "start_time": "2023-01-16T20:36:04.504876",
     "status": "completed"
    },
    "tags": []
   },
   "outputs": [
    {
     "data": {
      "text/plain": [
       "day\n",
       "Saturday     2672.4195\n",
       "Tuesday      2451.5355\n",
       "Thursday     2159.4880\n",
       "Sunday       2117.0425\n",
       "Friday       2091.7305\n",
       "Wednesday    2082.4350\n",
       "Monday       1804.7180\n",
       "Name: gross income, dtype: float64"
      ]
     },
     "execution_count": 49,
     "metadata": {},
     "output_type": "execute_result"
    }
   ],
   "source": [
    "## which day gross income was more\n",
    "df.groupby(\"day\")[\"gross income\"].sum().sort_values(ascending=False)"
   ]
  },
  {
   "cell_type": "code",
   "execution_count": 50,
   "id": "0a7c9a77",
   "metadata": {
    "execution": {
     "iopub.execute_input": "2023-01-16T20:36:04.627671Z",
     "iopub.status.busy": "2023-01-16T20:36:04.627246Z",
     "iopub.status.idle": "2023-01-16T20:36:05.205876Z",
     "shell.execute_reply": "2023-01-16T20:36:05.204528Z"
    },
    "papermill": {
     "duration": 0.618554,
     "end_time": "2023-01-16T20:36:05.208326",
     "exception": false,
     "start_time": "2023-01-16T20:36:04.589772",
     "status": "completed"
    },
    "tags": []
   },
   "outputs": [
    {
     "data": {
      "text/plain": [
       "<AxesSubplot:xlabel='day', ylabel='gross income'>"
      ]
     },
     "execution_count": 50,
     "metadata": {},
     "output_type": "execute_result"
    },
    {
     "data": {
      "image/png": "[encoded data removed]",
      "text/plain": [
       "<Figure size 720x360 with 1 Axes>"
      ]
     },
     "metadata": {
      "needs_background": "light"
     },
     "output_type": "display_data"
    }
   ],
   "source": [
    "plt.figure(figsize=(10,5))\n",
    "sns.barplot(x=\"day\",y=\"gross income\",estimator=sum,data=df)\n"
   ]
  },
  {
   "cell_type": "markdown",
   "id": "dc56d753",
   "metadata": {
    "papermill": {
     "duration": 0.035328,
     "end_time": "2023-01-16T20:36:05.279104",
     "exception": false,
     "start_time": "2023-01-16T20:36:05.243776",
     "status": "completed"
    },
    "tags": []
   },
   "source": [
    "### Saturday was the highest gross income day"
   ]
  },
  {
   "cell_type": "code",
   "execution_count": 51,
   "id": "32637498",
   "metadata": {
    "execution": {
     "iopub.execute_input": "2023-01-16T20:36:05.353074Z",
     "iopub.status.busy": "2023-01-16T20:36:05.352588Z",
     "iopub.status.idle": "2023-01-16T20:36:05.364597Z",
     "shell.execute_reply": "2023-01-16T20:36:05.363482Z"
    },
    "papermill": {
     "duration": 0.051895,
     "end_time": "2023-01-16T20:36:05.366979",
     "exception": false,
     "start_time": "2023-01-16T20:36:05.315084",
     "status": "completed"
    },
    "tags": []
   },
   "outputs": [
    {
     "data": {
      "text/plain": [
       "City       day      \n",
       "Mandalay   Saturday     1013.5440\n",
       "           Tuesday       898.0590\n",
       "Naypyitaw  Saturday      860.5225\n",
       "           Wednesday     845.5150\n",
       "           Tuesday       841.3235\n",
       "           Sunday        811.2260\n",
       "Yangon     Sunday        809.8485\n",
       "           Saturday      798.3530\n",
       "Mandalay   Thursday      751.3630\n",
       "Yangon     Thursday      734.3940\n",
       "Naypyitaw  Friday        712.6055\n",
       "Yangon     Tuesday       712.1530\n",
       "           Friday        692.5650\n",
       "Mandalay   Friday        686.5600\n",
       "Yangon     Monday        678.0505\n",
       "Naypyitaw  Thursday      673.7310\n",
       "Yangon     Wednesday     631.7965\n",
       "Mandalay   Monday        606.4145\n",
       "           Wednesday     605.1235\n",
       "Naypyitaw  Monday        520.2530\n",
       "Mandalay   Sunday        495.9680\n",
       "Name: gross income, dtype: float64"
      ]
     },
     "execution_count": 51,
     "metadata": {},
     "output_type": "execute_result"
    }
   ],
   "source": [
    "## which day of the city has more sale\n",
    "df.groupby([\"City\",\"day\"])[\"gross income\"].sum().sort_values(ascending=False)"
   ]
  },
  {
   "cell_type": "code",
   "execution_count": 52,
   "id": "7c6c0eb9",
   "metadata": {
    "execution": {
     "iopub.execute_input": "2023-01-16T20:36:05.442209Z",
     "iopub.status.busy": "2023-01-16T20:36:05.441731Z",
     "iopub.status.idle": "2023-01-16T20:36:06.266437Z",
     "shell.execute_reply": "2023-01-16T20:36:06.265221Z"
    },
    "papermill": {
     "duration": 0.865191,
     "end_time": "2023-01-16T20:36:06.269023",
     "exception": false,
     "start_time": "2023-01-16T20:36:05.403832",
     "status": "completed"
    },
    "tags": []
   },
   "outputs": [
    {
     "data": {
      "text/plain": [
       "<AxesSubplot:xlabel='day', ylabel='gross income'>"
      ]
     },
     "execution_count": 52,
     "metadata": {},
     "output_type": "execute_result"
    },
    {
     "data": {
      "image/png": "[encoded data removed]",
      "text/plain": [
       "<Figure size 1080x576 with 1 Axes>"
      ]
     },
     "metadata": {
      "needs_background": "light"
     },
     "output_type": "display_data"
    }
   ],
   "source": [
    "plt.figure(figsize=(15,8))\n",
    "sns.barplot(x=\"day\",y=\"gross income\",hue=\"City\",estimator=sum,data=df)\n"
   ]
  },
  {
   "cell_type": "code",
   "execution_count": 53,
   "id": "a1227b1e",
   "metadata": {
    "execution": {
     "iopub.execute_input": "2023-01-16T20:36:06.343580Z",
     "iopub.status.busy": "2023-01-16T20:36:06.343211Z",
     "iopub.status.idle": "2023-01-16T20:36:06.854936Z",
     "shell.execute_reply": "2023-01-16T20:36:06.853839Z"
    },
    "papermill": {
     "duration": 0.551745,
     "end_time": "2023-01-16T20:36:06.857162",
     "exception": false,
     "start_time": "2023-01-16T20:36:06.305417",
     "status": "completed"
    },
    "tags": []
   },
   "outputs": [
    {
     "data": {
      "image/png": "[encoded data removed]",
      "text/plain": [
       "<Figure size 1080x216 with 3 Axes>"
      ]
     },
     "metadata": {
      "needs_background": "light"
     },
     "output_type": "display_data"
    }
   ],
   "source": [
    "## find out the customer visitng trend of at Mandalay city\n",
    "plt.figure(figsize = (15,3))\n",
    "a=df[(df[\"City\"] ==\"Mandalay\")]\n",
    "a_jan=a[a[\"month\"]==\"January\"]\n",
    "plt.subplot(1,3,1)\n",
    "plt.hist(a_jan[\"Date\"],edgecolor=\"red\",bins=7)\n",
    "plt.xticks(rotation = 90)\n",
    "plt.title(\"January\")\n",
    "a_feb=a[a[\"month\"]==\"February\"]\n",
    "plt.subplot(1,3,2)\n",
    "plt.hist(a_feb[\"Date\"],edgecolor=\"red\",bins=7)\n",
    "plt.xticks(rotation = 90)\n",
    "plt.title(\"February\")\n",
    "a_march=a[a[\"month\"]==\"March\"]\n",
    "plt.subplot(1,3,3)\n",
    "plt.hist(a_march[\"Date\"],edgecolor=\"red\",bins=7)\n",
    "plt.xticks(rotation = 90)\n",
    "plt.title(\"march\")\n",
    "plt.show()"
   ]
  },
  {
   "cell_type": "code",
   "execution_count": 54,
   "id": "1431bad3",
   "metadata": {
    "execution": {
     "iopub.execute_input": "2023-01-16T20:36:06.932877Z",
     "iopub.status.busy": "2023-01-16T20:36:06.932038Z",
     "iopub.status.idle": "2023-01-16T20:36:07.451672Z",
     "shell.execute_reply": "2023-01-16T20:36:07.450556Z"
    },
    "papermill": {
     "duration": 0.560126,
     "end_time": "2023-01-16T20:36:07.453882",
     "exception": false,
     "start_time": "2023-01-16T20:36:06.893756",
     "status": "completed"
    },
    "tags": []
   },
   "outputs": [
    {
     "data": {
      "image/png": "[encoded data removed]",
      "text/plain": [
       "<Figure size 1080x216 with 3 Axes>"
      ]
     },
     "metadata": {
      "needs_background": "light"
     },
     "output_type": "display_data"
    }
   ],
   "source": [
    "## find out the customer visitng trend of at Yangon city\n",
    "plt.figure(figsize = (15,3))\n",
    "b=df[(df[\"City\"] ==\"Yangon\")]\n",
    "b_jan=b[b[\"month\"]==\"January\"]\n",
    "plt.subplot(1,3,1)\n",
    "plt.hist(b_jan[\"Date\"],edgecolor=\"red\",bins=7)\n",
    "plt.xticks(rotation = 90)\n",
    "plt.title(\"January\")\n",
    "b_feb=b[b[\"month\"]==\"February\"]\n",
    "plt.subplot(1,3,2)\n",
    "plt.hist(b_feb[\"Date\"],edgecolor=\"red\",bins=7)\n",
    "plt.xticks(rotation = 90)\n",
    "plt.title(\"February\")\n",
    "b_march=b[b[\"month\"]==\"March\"]\n",
    "plt.subplot(1,3,3)\n",
    "plt.hist(b_march[\"Date\"],edgecolor=\"red\",bins=7)\n",
    "plt.xticks(rotation = 90)\n",
    "plt.title(\"march\")\n",
    "plt.show()"
   ]
  },
  {
   "cell_type": "code",
   "execution_count": 55,
   "id": "23abe736",
   "metadata": {
    "execution": {
     "iopub.execute_input": "2023-01-16T20:36:07.529847Z",
     "iopub.status.busy": "2023-01-16T20:36:07.529044Z",
     "iopub.status.idle": "2023-01-16T20:36:08.037665Z",
     "shell.execute_reply": "2023-01-16T20:36:08.036582Z"
    },
    "papermill": {
     "duration": 0.54883,
     "end_time": "2023-01-16T20:36:08.039961",
     "exception": false,
     "start_time": "2023-01-16T20:36:07.491131",
     "status": "completed"
    },
    "tags": []
   },
   "outputs": [
    {
     "data": {
      "image/png": "[encoded data removed]",
      "text/plain": [
       "<Figure size 1080x216 with 3 Axes>"
      ]
     },
     "metadata": {
      "needs_background": "light"
     },
     "output_type": "display_data"
    }
   ],
   "source": [
    "## find out the customer visitng trend of at Naypyitaw city\n",
    "plt.figure(figsize = (15,3))\n",
    "c=df[(df[\"City\"] ==\"Naypyitaw\")]\n",
    "c_jan=c[c[\"month\"]==\"January\"]\n",
    "plt.subplot(1,3,1)\n",
    "plt.hist(c_jan[\"Date\"],edgecolor=\"red\",bins=7)\n",
    "plt.xticks(rotation = 90)\n",
    "plt.title(\"January\")\n",
    "c_feb=c[c[\"month\"]==\"February\"]\n",
    "plt.subplot(1,3,2)\n",
    "plt.hist(c_feb[\"Date\"],edgecolor=\"red\",bins=7)\n",
    "plt.xticks(rotation = 90)\n",
    "plt.title(\"February\")\n",
    "c_march=c[c[\"month\"]==\"March\"]\n",
    "plt.subplot(1,3,3)\n",
    "plt.hist(c_march[\"Date\"],edgecolor=\"red\",bins=7)\n",
    "plt.xticks(rotation = 90)\n",
    "plt.title(\"march\")\n",
    "plt.show()"
   ]
  },
  {
   "cell_type": "code",
   "execution_count": 56,
   "id": "351a3fa5",
   "metadata": {
    "execution": {
     "iopub.execute_input": "2023-01-16T20:36:08.116473Z",
     "iopub.status.busy": "2023-01-16T20:36:08.115640Z",
     "iopub.status.idle": "2023-01-16T20:36:08.128206Z",
     "shell.execute_reply": "2023-01-16T20:36:08.127232Z"
    },
    "papermill": {
     "duration": 0.053151,
     "end_time": "2023-01-16T20:36:08.130265",
     "exception": false,
     "start_time": "2023-01-16T20:36:08.077114",
     "status": "completed"
    },
    "tags": []
   },
   "outputs": [
    {
     "data": {
      "text/plain": [
       "City       month     Product line          \n",
       "Mandalay   February  Fashion accessories       24\n",
       "                     Electronic accessories    19\n",
       "                     Sports and travel         19\n",
       "                     Food and beverages        17\n",
       "                     Health and beauty         16\n",
       "                     Home and lifestyle        14\n",
       "           January   Sports and travel         23\n",
       "                     Fashion accessories       21\n",
       "                     Food and beverages        19\n",
       "                     Electronic accessories    18\n",
       "                     Health and beauty         16\n",
       "                     Home and lifestyle        14\n",
       "           March     Home and lifestyle        22\n",
       "                     Health and beauty         21\n",
       "                     Sports and travel         20\n",
       "                     Electronic accessories    18\n",
       "                     Fashion accessories       17\n",
       "                     Food and beverages        14\n",
       "Naypyitaw  February  Food and beverages        24\n",
       "                     Fashion accessories       20\n",
       "                     Health and beauty         18\n",
       "                     Electronic accessories    17\n",
       "                     Home and lifestyle        11\n",
       "                     Sports and travel         10\n",
       "           January   Fashion accessories       23\n",
       "                     Sports and travel         23\n",
       "                     Food and beverages        22\n",
       "                     Health and beauty         21\n",
       "                     Home and lifestyle        18\n",
       "                     Electronic accessories    15\n",
       "           March     Electronic accessories    23\n",
       "                     Fashion accessories       22\n",
       "                     Food and beverages        20\n",
       "                     Home and lifestyle        16\n",
       "                     Health and beauty         13\n",
       "                     Sports and travel         12\n",
       "Yangon     February  Food and beverages        21\n",
       "                     Electronic accessories    18\n",
       "                     Fashion accessories       16\n",
       "                     Sports and travel         14\n",
       "                     Home and lifestyle        13\n",
       "                     Health and beauty         12\n",
       "           January   Home and lifestyle        27\n",
       "                     Sports and travel         24\n",
       "                     Electronic accessories    21\n",
       "                     Fashion accessories       20\n",
       "                     Food and beverages        15\n",
       "                     Health and beauty         12\n",
       "           March     Home and lifestyle        25\n",
       "                     Health and beauty         23\n",
       "                     Food and beverages        22\n",
       "                     Electronic accessories    21\n",
       "                     Sports and travel         21\n",
       "                     Fashion accessories       15\n",
       "Name: Product line, dtype: int64"
      ]
     },
     "execution_count": 56,
     "metadata": {},
     "output_type": "execute_result"
    }
   ],
   "source": [
    "## find the city and month wise demand of product line \n",
    "df.groupby([\"City\",\"month\"])[\"Product line\"].value_counts()"
   ]
  },
  {
   "cell_type": "code",
   "execution_count": 57,
   "id": "cc0b7158",
   "metadata": {
    "execution": {
     "iopub.execute_input": "2023-01-16T20:36:08.207520Z",
     "iopub.status.busy": "2023-01-16T20:36:08.206749Z",
     "iopub.status.idle": "2023-01-16T20:36:08.449051Z",
     "shell.execute_reply": "2023-01-16T20:36:08.447876Z"
    },
    "papermill": {
     "duration": 0.283806,
     "end_time": "2023-01-16T20:36:08.451674",
     "exception": false,
     "start_time": "2023-01-16T20:36:08.167868",
     "status": "completed"
    },
    "tags": []
   },
   "outputs": [
    {
     "data": {
      "text/plain": [
       "<AxesSubplot:xlabel='hour', ylabel='count'>"
      ]
     },
     "execution_count": 57,
     "metadata": {},
     "output_type": "execute_result"
    },
    {
     "data": {
      "image/png": "[encoded data removed]",
      "text/plain": [
       "<Figure size 432x288 with 1 Axes>"
      ]
     },
     "metadata": {
      "needs_background": "light"
     },
     "output_type": "display_data"
    }
   ],
   "source": [
    "## find the peak hour of the company \n",
    "df[\"hour\"]=df[\"Time\"].dt.hour\n",
    "sns.countplot(x=\"hour\",data=df)"
   ]
  },
  {
   "cell_type": "markdown",
   "id": "66b1dd80",
   "metadata": {
    "papermill": {
     "duration": 0.03809,
     "end_time": "2023-01-16T20:36:08.528164",
     "exception": false,
     "start_time": "2023-01-16T20:36:08.490074",
     "status": "completed"
    },
    "tags": []
   },
   "source": [
    "## 7 was the peak time"
   ]
  },
  {
   "cell_type": "code",
   "execution_count": 58,
   "id": "2c38b964",
   "metadata": {
    "execution": {
     "iopub.execute_input": "2023-01-16T20:36:08.607898Z",
     "iopub.status.busy": "2023-01-16T20:36:08.607203Z",
     "iopub.status.idle": "2023-01-16T20:36:08.986134Z",
     "shell.execute_reply": "2023-01-16T20:36:08.984788Z"
    },
    "papermill": {
     "duration": 0.422937,
     "end_time": "2023-01-16T20:36:08.989439",
     "exception": false,
     "start_time": "2023-01-16T20:36:08.566502",
     "status": "completed"
    },
    "tags": []
   },
   "outputs": [
    {
     "data": {
      "image/png": "[encoded data removed]",
      "text/plain": [
       "<Figure size 864x576 with 1 Axes>"
      ]
     },
     "metadata": {
      "needs_background": "light"
     },
     "output_type": "display_data"
    }
   ],
   "source": [
    "## find the hot seeling time of each item \n",
    "plt.figure(figsize=(12,8))\n",
    "sns.lineplot(x='hour',y='Quantity',data=df, hue='Product line',ci=None)\n",
    "plt.title('Product sales per hour', fontsize=20)\n",
    "plt.xlabel('Time of the day', fontsize=15)\n",
    "plt.ylabel('Quantity', fontsize=15);\n"
   ]
  },
  {
   "cell_type": "markdown",
   "id": "73d0bada",
   "metadata": {
    "papermill": {
     "duration": 0.040236,
     "end_time": "2023-01-16T20:36:09.071543",
     "exception": false,
     "start_time": "2023-01-16T20:36:09.031307",
     "status": "completed"
    },
    "tags": []
   },
   "source": [
    "### Time between 10 to 12 was on the peak  "
   ]
  },
  {
   "cell_type": "code",
   "execution_count": 59,
   "id": "fb408b5f",
   "metadata": {
    "execution": {
     "iopub.execute_input": "2023-01-16T20:36:09.156125Z",
     "iopub.status.busy": "2023-01-16T20:36:09.155246Z",
     "iopub.status.idle": "2023-01-16T20:36:09.165053Z",
     "shell.execute_reply": "2023-01-16T20:36:09.163965Z"
    },
    "papermill": {
     "duration": 0.053989,
     "end_time": "2023-01-16T20:36:09.167362",
     "exception": false,
     "start_time": "2023-01-16T20:36:09.113373",
     "status": "completed"
    },
    "tags": []
   },
   "outputs": [
    {
     "data": {
      "text/plain": [
       "max     10.0000\n",
       "min      4.0000\n",
       "mean     6.9727\n",
       "Name: Rating, dtype: float64"
      ]
     },
     "execution_count": 59,
     "metadata": {},
     "output_type": "execute_result"
    }
   ],
   "source": [
    "## how many rating are max, min and average\n",
    "df[\"Rating\"].agg([\"max\",\"min\",\"mean\"])"
   ]
  },
  {
   "cell_type": "code",
   "execution_count": 60,
   "id": "f939ed49",
   "metadata": {
    "execution": {
     "iopub.execute_input": "2023-01-16T20:36:09.251643Z",
     "iopub.status.busy": "2023-01-16T20:36:09.250818Z",
     "iopub.status.idle": "2023-01-16T20:36:09.260902Z",
     "shell.execute_reply": "2023-01-16T20:36:09.259221Z"
    },
    "papermill": {
     "duration": 0.054816,
     "end_time": "2023-01-16T20:36:09.263875",
     "exception": false,
     "start_time": "2023-01-16T20:36:09.209059",
     "status": "completed"
    },
    "tags": []
   },
   "outputs": [
    {
     "name": "stdout",
     "output_type": "stream",
     "text": [
      "5 Customers had given 10 rating\n",
      "0.5 % customers had given 10 rating\n"
     ]
    }
   ],
   "source": [
    "## how many 10 rating are given\n",
    "print(len(df[df[\"Rating\"]==10.0]), \"Customers had given 10 rating\")\n",
    "print((len(df[df[\"Rating\"]==10.0])*100)/df[\"Rating\"].count(),\"% customers had given 10 rating\")\n"
   ]
  },
  {
   "cell_type": "markdown",
   "id": "49e9f827",
   "metadata": {
    "papermill": {
     "duration": 0.039952,
     "end_time": "2023-01-16T20:36:09.345215",
     "exception": false,
     "start_time": "2023-01-16T20:36:09.305263",
     "status": "completed"
    },
    "tags": []
   },
   "source": [
    "### Only 0.5 % customers had given 10 star rating"
   ]
  },
  {
   "cell_type": "code",
   "execution_count": 61,
   "id": "2e19da63",
   "metadata": {
    "execution": {
     "iopub.execute_input": "2023-01-16T20:36:09.429914Z",
     "iopub.status.busy": "2023-01-16T20:36:09.428885Z",
     "iopub.status.idle": "2023-01-16T20:36:09.436932Z",
     "shell.execute_reply": "2023-01-16T20:36:09.435850Z"
    },
    "papermill": {
     "duration": 0.052043,
     "end_time": "2023-01-16T20:36:09.439402",
     "exception": false,
     "start_time": "2023-01-16T20:36:09.387359",
     "status": "completed"
    },
    "tags": []
   },
   "outputs": [
    {
     "name": "stdout",
     "output_type": "stream",
     "text": [
      "11 Customers had given 4 rating\n",
      "1.1 % Customers had given 4 rating\n"
     ]
    }
   ],
   "source": [
    "print(len(df[df[\"Rating\"]==4]),\"Customers had given 4 rating\")\n",
    "print(len(df[df[\"Rating\"]==4])*100/df[\"Rating\"].count(),\"% Customers had given 4 rating\")"
   ]
  },
  {
   "cell_type": "markdown",
   "id": "1417d0fd",
   "metadata": {
    "papermill": {
     "duration": 0.04012,
     "end_time": "2023-01-16T20:36:09.520320",
     "exception": false,
     "start_time": "2023-01-16T20:36:09.480200",
     "status": "completed"
    },
    "tags": []
   },
   "source": [
    "### 1.1 % Customers had given 4 rating\n"
   ]
  },
  {
   "cell_type": "code",
   "execution_count": 62,
   "id": "ff51d849",
   "metadata": {
    "execution": {
     "iopub.execute_input": "2023-01-16T20:36:09.603363Z",
     "iopub.status.busy": "2023-01-16T20:36:09.602495Z",
     "iopub.status.idle": "2023-01-16T20:36:09.611258Z",
     "shell.execute_reply": "2023-01-16T20:36:09.610053Z"
    },
    "papermill": {
     "duration": 0.053216,
     "end_time": "2023-01-16T20:36:09.613815",
     "exception": false,
     "start_time": "2023-01-16T20:36:09.560599",
     "status": "completed"
    },
    "tags": []
   },
   "outputs": [
    {
     "name": "stdout",
     "output_type": "stream",
     "text": [
      "659 Customers had given below 7 rating\n",
      "65.9 % Customers had given below 7 rating\n"
     ]
    }
   ],
   "source": [
    "print(len(df[df[\"Rating\"]>6]),\"Customers had given below 7 rating\")\n",
    "print(len(df[df[\"Rating\"]>6])*100/df[\"Rating\"].count(),\"% Customers had given below 7 rating\")"
   ]
  },
  {
   "cell_type": "markdown",
   "id": "103c4a0e",
   "metadata": {
    "papermill": {
     "duration": 0.039774,
     "end_time": "2023-01-16T20:36:09.695818",
     "exception": false,
     "start_time": "2023-01-16T20:36:09.656044",
     "status": "completed"
    },
    "tags": []
   },
   "source": [
    "### 65.9 % Customers had given below 7 rating\n"
   ]
  },
  {
   "cell_type": "code",
   "execution_count": 63,
   "id": "22c8c365",
   "metadata": {
    "execution": {
     "iopub.execute_input": "2023-01-16T20:36:09.778158Z",
     "iopub.status.busy": "2023-01-16T20:36:09.777440Z",
     "iopub.status.idle": "2023-01-16T20:36:09.802216Z",
     "shell.execute_reply": "2023-01-16T20:36:09.801119Z"
    },
    "papermill": {
     "duration": 0.068631,
     "end_time": "2023-01-16T20:36:09.804579",
     "exception": false,
     "start_time": "2023-01-16T20:36:09.735948",
     "status": "completed"
    },
    "tags": []
   },
   "outputs": [
    {
     "data": {
      "text/html": [
       "<div>\n",
       "<style scoped>\n",
       "    .dataframe tbody tr th:only-of-type {\n",
       "        vertical-align: middle;\n",
       "    }\n",
       "\n",
       "    .dataframe tbody tr th {\n",
       "        vertical-align: top;\n",
       "    }\n",
       "\n",
       "    .dataframe thead th {\n",
       "        text-align: right;\n",
       "    }\n",
       "</style>\n",
       "<table border=\"1\" class=\"dataframe\">\n",
       "  <thead>\n",
       "    <tr style=\"text-align: right;\">\n",
       "      <th></th>\n",
       "      <th>City</th>\n",
       "      <th>Customer type</th>\n",
       "      <th>Gender</th>\n",
       "      <th>Product line</th>\n",
       "      <th>Unit price</th>\n",
       "      <th>Quantity</th>\n",
       "      <th>Tax 5%</th>\n",
       "      <th>Total</th>\n",
       "      <th>Date</th>\n",
       "      <th>Time</th>\n",
       "      <th>Payment</th>\n",
       "      <th>cogs</th>\n",
       "      <th>gross margin percentage</th>\n",
       "      <th>gross income</th>\n",
       "      <th>Rating</th>\n",
       "      <th>month</th>\n",
       "      <th>day</th>\n",
       "      <th>weekday</th>\n",
       "      <th>hour</th>\n",
       "    </tr>\n",
       "  </thead>\n",
       "  <tbody>\n",
       "    <tr>\n",
       "      <th>640</th>\n",
       "      <td>Mandalay</td>\n",
       "      <td>Member</td>\n",
       "      <td>Female</td>\n",
       "      <td>Food and beverages</td>\n",
       "      <td>98.79</td>\n",
       "      <td>3</td>\n",
       "      <td>14.8185</td>\n",
       "      <td>311.1885</td>\n",
       "      <td>2019-02-23</td>\n",
       "      <td>2023-01-16 20:00:00</td>\n",
       "      <td>Ewallet</td>\n",
       "      <td>296.37</td>\n",
       "      <td>4.761905</td>\n",
       "      <td>14.8185</td>\n",
       "      <td>6.4</td>\n",
       "      <td>February</td>\n",
       "      <td>Saturday</td>\n",
       "      <td>5</td>\n",
       "      <td>20</td>\n",
       "    </tr>\n",
       "    <tr>\n",
       "      <th>881</th>\n",
       "      <td>Naypyitaw</td>\n",
       "      <td>Member</td>\n",
       "      <td>Female</td>\n",
       "      <td>Fashion accessories</td>\n",
       "      <td>10.18</td>\n",
       "      <td>8</td>\n",
       "      <td>4.0720</td>\n",
       "      <td>85.5120</td>\n",
       "      <td>2019-03-30</td>\n",
       "      <td>2023-01-16 12:51:00</td>\n",
       "      <td>Credit card</td>\n",
       "      <td>81.44</td>\n",
       "      <td>4.761905</td>\n",
       "      <td>4.0720</td>\n",
       "      <td>9.5</td>\n",
       "      <td>March</td>\n",
       "      <td>Saturday</td>\n",
       "      <td>5</td>\n",
       "      <td>12</td>\n",
       "    </tr>\n",
       "    <tr>\n",
       "      <th>748</th>\n",
       "      <td>Mandalay</td>\n",
       "      <td>Member</td>\n",
       "      <td>Female</td>\n",
       "      <td>Home and lifestyle</td>\n",
       "      <td>12.29</td>\n",
       "      <td>9</td>\n",
       "      <td>5.5305</td>\n",
       "      <td>116.1405</td>\n",
       "      <td>2019-03-26</td>\n",
       "      <td>2023-01-16 19:28:00</td>\n",
       "      <td>Credit card</td>\n",
       "      <td>110.61</td>\n",
       "      <td>4.761905</td>\n",
       "      <td>5.5305</td>\n",
       "      <td>8.0</td>\n",
       "      <td>March</td>\n",
       "      <td>Tuesday</td>\n",
       "      <td>1</td>\n",
       "      <td>19</td>\n",
       "    </tr>\n",
       "    <tr>\n",
       "      <th>762</th>\n",
       "      <td>Yangon</td>\n",
       "      <td>Member</td>\n",
       "      <td>Female</td>\n",
       "      <td>Fashion accessories</td>\n",
       "      <td>63.88</td>\n",
       "      <td>8</td>\n",
       "      <td>25.5520</td>\n",
       "      <td>536.5920</td>\n",
       "      <td>2019-01-20</td>\n",
       "      <td>2023-01-16 17:48:00</td>\n",
       "      <td>Ewallet</td>\n",
       "      <td>511.04</td>\n",
       "      <td>4.761905</td>\n",
       "      <td>25.5520</td>\n",
       "      <td>9.9</td>\n",
       "      <td>January</td>\n",
       "      <td>Sunday</td>\n",
       "      <td>6</td>\n",
       "      <td>17</td>\n",
       "    </tr>\n",
       "    <tr>\n",
       "      <th>928</th>\n",
       "      <td>Mandalay</td>\n",
       "      <td>Normal</td>\n",
       "      <td>Female</td>\n",
       "      <td>Electronic accessories</td>\n",
       "      <td>88.25</td>\n",
       "      <td>9</td>\n",
       "      <td>39.7125</td>\n",
       "      <td>833.9625</td>\n",
       "      <td>2019-02-15</td>\n",
       "      <td>2023-01-16 20:51:00</td>\n",
       "      <td>Credit card</td>\n",
       "      <td>794.25</td>\n",
       "      <td>4.761905</td>\n",
       "      <td>39.7125</td>\n",
       "      <td>7.6</td>\n",
       "      <td>February</td>\n",
       "      <td>Friday</td>\n",
       "      <td>4</td>\n",
       "      <td>20</td>\n",
       "    </tr>\n",
       "  </tbody>\n",
       "</table>\n",
       "</div>"
      ],
      "text/plain": [
       "          City Customer type  Gender            Product line  Unit price  \\\n",
       "640   Mandalay        Member  Female      Food and beverages       98.79   \n",
       "881  Naypyitaw        Member  Female     Fashion accessories       10.18   \n",
       "748   Mandalay        Member  Female      Home and lifestyle       12.29   \n",
       "762     Yangon        Member  Female     Fashion accessories       63.88   \n",
       "928   Mandalay        Normal  Female  Electronic accessories       88.25   \n",
       "\n",
       "     Quantity   Tax 5%     Total       Date                Time      Payment  \\\n",
       "640         3  14.8185  311.1885 2019-02-23 2023-01-16 20:00:00      Ewallet   \n",
       "881         8   4.0720   85.5120 2019-03-30 2023-01-16 12:51:00  Credit card   \n",
       "748         9   5.5305  116.1405 2019-03-26 2023-01-16 19:28:00  Credit card   \n",
       "762         8  25.5520  536.5920 2019-01-20 2023-01-16 17:48:00      Ewallet   \n",
       "928         9  39.7125  833.9625 2019-02-15 2023-01-16 20:51:00  Credit card   \n",
       "\n",
       "       cogs  gross margin percentage  gross income  Rating     month  \\\n",
       "640  296.37                 4.761905       14.8185     6.4  February   \n",
       "881   81.44                 4.761905        4.0720     9.5     March   \n",
       "748  110.61                 4.761905        5.5305     8.0     March   \n",
       "762  511.04                 4.761905       25.5520     9.9   January   \n",
       "928  794.25                 4.761905       39.7125     7.6  February   \n",
       "\n",
       "          day  weekday  hour  \n",
       "640  Saturday        5    20  \n",
       "881  Saturday        5    12  \n",
       "748   Tuesday        1    19  \n",
       "762    Sunday        6    17  \n",
       "928    Friday        4    20  "
      ]
     },
     "execution_count": 63,
     "metadata": {},
     "output_type": "execute_result"
    }
   ],
   "source": [
    "df.sample(5)"
   ]
  },
  {
   "cell_type": "code",
   "execution_count": 64,
   "id": "cb7ece21",
   "metadata": {
    "execution": {
     "iopub.execute_input": "2023-01-16T20:36:09.887253Z",
     "iopub.status.busy": "2023-01-16T20:36:09.886862Z",
     "iopub.status.idle": "2023-01-16T20:36:10.685194Z",
     "shell.execute_reply": "2023-01-16T20:36:10.683899Z"
    },
    "papermill": {
     "duration": 0.84262,
     "end_time": "2023-01-16T20:36:10.687658",
     "exception": false,
     "start_time": "2023-01-16T20:36:09.845038",
     "status": "completed"
    },
    "tags": []
   },
   "outputs": [
    {
     "data": {
      "text/plain": [
       "<AxesSubplot:xlabel='month', ylabel='gross income'>"
      ]
     },
     "execution_count": 64,
     "metadata": {},
     "output_type": "execute_result"
    },
    {
     "data": {
      "image/png": "[encoded data removed]",
      "text/plain": [
       "<Figure size 1296x720 with 1 Axes>"
      ]
     },
     "metadata": {
      "needs_background": "light"
     },
     "output_type": "display_data"
    }
   ],
   "source": [
    "## find the monthly sale of each product \n",
    "plt.figure(figsize=(18,10))\n",
    "sns.barplot(x=\"month\",y=\"gross income\",hue=\"Product line\",data=df,estimator=sum)\n",
    "\n"
   ]
  },
  {
   "cell_type": "code",
   "execution_count": 65,
   "id": "68db2441",
   "metadata": {
    "execution": {
     "iopub.execute_input": "2023-01-16T20:36:10.773086Z",
     "iopub.status.busy": "2023-01-16T20:36:10.772420Z",
     "iopub.status.idle": "2023-01-16T20:36:10.783526Z",
     "shell.execute_reply": "2023-01-16T20:36:10.782594Z"
    },
    "papermill": {
     "duration": 0.055782,
     "end_time": "2023-01-16T20:36:10.785510",
     "exception": false,
     "start_time": "2023-01-16T20:36:10.729728",
     "status": "completed"
    },
    "tags": []
   },
   "outputs": [
    {
     "data": {
      "text/plain": [
       "City       Product line          \n",
       "Mandalay   Electronic accessories     811.9735\n",
       "           Fashion accessories        781.5865\n",
       "           Food and beverages         724.5185\n",
       "           Health and beauty          951.4600\n",
       "           Home and lifestyle         835.6745\n",
       "           Sports and travel          951.8190\n",
       "Naypyitaw  Electronic accessories     903.2845\n",
       "           Fashion accessories       1026.6700\n",
       "           Food and beverages        1131.7550\n",
       "           Health and beauty          791.2060\n",
       "           Home and lifestyle         661.6930\n",
       "           Sports and travel          750.5680\n",
       "Yangon     Electronic accessories     872.2435\n",
       "           Fashion accessories        777.7385\n",
       "           Food and beverages         817.2905\n",
       "           Health and beauty          599.8930\n",
       "           Home and lifestyle        1067.4855\n",
       "           Sports and travel          922.5095\n",
       "Name: gross income, dtype: float64"
      ]
     },
     "execution_count": 65,
     "metadata": {},
     "output_type": "execute_result"
    }
   ],
   "source": [
    "## find the product wise sale trend of each city \n",
    "df.groupby([\"City\",\"Product line\"])[\"gross income\"].sum()"
   ]
  },
  {
   "cell_type": "code",
   "execution_count": 66,
   "id": "69f9dba9",
   "metadata": {
    "execution": {
     "iopub.execute_input": "2023-01-16T20:36:10.869139Z",
     "iopub.status.busy": "2023-01-16T20:36:10.868706Z",
     "iopub.status.idle": "2023-01-16T20:36:11.666346Z",
     "shell.execute_reply": "2023-01-16T20:36:11.665248Z"
    },
    "papermill": {
     "duration": 0.842284,
     "end_time": "2023-01-16T20:36:11.668787",
     "exception": false,
     "start_time": "2023-01-16T20:36:10.826503",
     "status": "completed"
    },
    "tags": []
   },
   "outputs": [
    {
     "data": {
      "text/plain": [
       "<AxesSubplot:xlabel='City', ylabel='gross income'>"
      ]
     },
     "execution_count": 66,
     "metadata": {},
     "output_type": "execute_result"
    },
    {
     "data": {
      "image/png": "[encoded data removed]",
      "text/plain": [
       "<Figure size 1296x720 with 1 Axes>"
      ]
     },
     "metadata": {
      "needs_background": "light"
     },
     "output_type": "display_data"
    }
   ],
   "source": [
    "plt.figure(figsize=(18,10))\n",
    "sns.barplot(x=\"City\",y=\"gross income\",hue=\"Product line\",data=df,estimator=sum)\n"
   ]
  },
  {
   "cell_type": "code",
   "execution_count": 67,
   "id": "89ddae11",
   "metadata": {
    "execution": {
     "iopub.execute_input": "2023-01-16T20:36:11.753688Z",
     "iopub.status.busy": "2023-01-16T20:36:11.753278Z",
     "iopub.status.idle": "2023-01-16T20:36:11.872519Z",
     "shell.execute_reply": "2023-01-16T20:36:11.871363Z"
    },
    "papermill": {
     "duration": 0.166148,
     "end_time": "2023-01-16T20:36:11.876719",
     "exception": false,
     "start_time": "2023-01-16T20:36:11.710571",
     "status": "completed"
    },
    "tags": []
   },
   "outputs": [
    {
     "data": {
      "text/plain": [
       "<AxesSubplot:xlabel='Gender', ylabel='count'>"
      ]
     },
     "execution_count": 67,
     "metadata": {},
     "output_type": "execute_result"
    },
    {
     "data": {
      "image/png": "[encoded data removed]",
      "text/plain": [
       "<Figure size 432x288 with 1 Axes>"
      ]
     },
     "metadata": {
      "needs_background": "light"
     },
     "output_type": "display_data"
    }
   ],
   "source": [
    "## who contributed more male ya female\n",
    "sns.countplot(x=\"Gender\",data=df)"
   ]
  },
  {
   "cell_type": "markdown",
   "id": "d0b21b21",
   "metadata": {
    "papermill": {
     "duration": 0.041641,
     "end_time": "2023-01-16T20:36:11.984033",
     "exception": false,
     "start_time": "2023-01-16T20:36:11.942392",
     "status": "completed"
    },
    "tags": []
   },
   "source": [
    "### Female contributed more"
   ]
  },
  {
   "cell_type": "code",
   "execution_count": 68,
   "id": "b536c214",
   "metadata": {
    "execution": {
     "iopub.execute_input": "2023-01-16T20:36:12.070932Z",
     "iopub.status.busy": "2023-01-16T20:36:12.069663Z",
     "iopub.status.idle": "2023-01-16T20:36:12.079824Z",
     "shell.execute_reply": "2023-01-16T20:36:12.079053Z"
    },
    "papermill": {
     "duration": 0.055369,
     "end_time": "2023-01-16T20:36:12.081838",
     "exception": false,
     "start_time": "2023-01-16T20:36:12.026469",
     "status": "completed"
    },
    "tags": []
   },
   "outputs": [
    {
     "data": {
      "text/plain": [
       "Gender  Product line          \n",
       "Female  Electronic accessories    1290.5725\n",
       "        Fashion accessories       1449.4000\n",
       "        Food and beverages        1579.5675\n",
       "        Health and beauty          883.8565\n",
       "        Home and lifestyle        1430.3275\n",
       "        Sports and travel         1360.7010\n",
       "Male    Electronic accessories    1296.9290\n",
       "        Fashion accessories       1136.5950\n",
       "        Food and beverages        1093.9965\n",
       "        Health and beauty         1458.7025\n",
       "        Home and lifestyle        1134.5255\n",
       "        Sports and travel         1264.1955\n",
       "Name: gross income, dtype: float64"
      ]
     },
     "execution_count": 68,
     "metadata": {},
     "output_type": "execute_result"
    }
   ],
   "source": [
    "## find the total gross income of each product by gender \n",
    "df.groupby([\"Gender\",\"Product line\"])[\"gross income\"].sum()"
   ]
  },
  {
   "cell_type": "code",
   "execution_count": 69,
   "id": "13f2af37",
   "metadata": {
    "execution": {
     "iopub.execute_input": "2023-01-16T20:36:12.233582Z",
     "iopub.status.busy": "2023-01-16T20:36:12.232894Z",
     "iopub.status.idle": "2023-01-16T20:36:12.840257Z",
     "shell.execute_reply": "2023-01-16T20:36:12.839154Z"
    },
    "papermill": {
     "duration": 0.653293,
     "end_time": "2023-01-16T20:36:12.842709",
     "exception": false,
     "start_time": "2023-01-16T20:36:12.189416",
     "status": "completed"
    },
    "tags": []
   },
   "outputs": [
    {
     "data": {
      "text/plain": [
       "<AxesSubplot:xlabel='gross income', ylabel='Gender'>"
      ]
     },
     "execution_count": 69,
     "metadata": {},
     "output_type": "execute_result"
    },
    {
     "data": {
      "image/png": "[encoded data removed]",
      "text/plain": [
       "<Figure size 1080x576 with 1 Axes>"
      ]
     },
     "metadata": {
      "needs_background": "light"
     },
     "output_type": "display_data"
    }
   ],
   "source": [
    "plt.figure(figsize=(15,8))\n",
    "sns.barplot(x=\"gross income\",y=\"Gender\",hue=\"Product line\",data=df,estimator=sum)"
   ]
  },
  {
   "cell_type": "code",
   "execution_count": 70,
   "id": "47e159ee",
   "metadata": {
    "execution": {
     "iopub.execute_input": "2023-01-16T20:36:12.934849Z",
     "iopub.status.busy": "2023-01-16T20:36:12.934416Z",
     "iopub.status.idle": "2023-01-16T20:36:12.945265Z",
     "shell.execute_reply": "2023-01-16T20:36:12.944210Z"
    },
    "papermill": {
     "duration": 0.05944,
     "end_time": "2023-01-16T20:36:12.947497",
     "exception": false,
     "start_time": "2023-01-16T20:36:12.888057",
     "status": "completed"
    },
    "tags": []
   },
   "outputs": [
    {
     "data": {
      "text/plain": [
       "City       Customer type\n",
       "Mandalay   Normal           167\n",
       "           Member           165\n",
       "Naypyitaw  Member           169\n",
       "           Normal           159\n",
       "Yangon     Normal           173\n",
       "           Member           167\n",
       "Name: Customer type, dtype: int64"
      ]
     },
     "execution_count": 70,
     "metadata": {},
     "output_type": "execute_result"
    }
   ],
   "source": [
    "## which city has highest customers\n",
    "df.groupby(\"City\")[\"Customer type\"].value_counts()"
   ]
  },
  {
   "cell_type": "code",
   "execution_count": 71,
   "id": "3a44876f",
   "metadata": {
    "execution": {
     "iopub.execute_input": "2023-01-16T20:36:13.038762Z",
     "iopub.status.busy": "2023-01-16T20:36:13.038009Z",
     "iopub.status.idle": "2023-01-16T20:36:13.275467Z",
     "shell.execute_reply": "2023-01-16T20:36:13.274368Z"
    },
    "papermill": {
     "duration": 0.28582,
     "end_time": "2023-01-16T20:36:13.278047",
     "exception": false,
     "start_time": "2023-01-16T20:36:12.992227",
     "status": "completed"
    },
    "tags": []
   },
   "outputs": [
    {
     "data": {
      "text/plain": [
       "<AxesSubplot:xlabel='City', ylabel='count'>"
      ]
     },
     "execution_count": 71,
     "metadata": {},
     "output_type": "execute_result"
    },
    {
     "data": {
      "image/png": "[encoded data removed]",
      "text/plain": [
       "<Figure size 432x288 with 1 Axes>"
      ]
     },
     "metadata": {
      "needs_background": "light"
     },
     "output_type": "display_data"
    }
   ],
   "source": [
    "sns.countplot(x=\"City\",hue=\"Customer type\",data=df)"
   ]
  },
  {
   "cell_type": "markdown",
   "id": "7916bb08",
   "metadata": {
    "papermill": {
     "duration": 0.044297,
     "end_time": "2023-01-16T20:36:13.367252",
     "exception": false,
     "start_time": "2023-01-16T20:36:13.322955",
     "status": "completed"
    },
    "tags": []
   },
   "source": [
    "### Yangon has the more customers "
   ]
  },
  {
   "cell_type": "code",
   "execution_count": 72,
   "id": "231f45fe",
   "metadata": {
    "execution": {
     "iopub.execute_input": "2023-01-16T20:36:13.457739Z",
     "iopub.status.busy": "2023-01-16T20:36:13.457036Z",
     "iopub.status.idle": "2023-01-16T20:36:13.466170Z",
     "shell.execute_reply": "2023-01-16T20:36:13.465446Z"
    },
    "papermill": {
     "duration": 0.056927,
     "end_time": "2023-01-16T20:36:13.468121",
     "exception": false,
     "start_time": "2023-01-16T20:36:13.411194",
     "status": "completed"
    },
    "tags": []
   },
   "outputs": [
    {
     "data": {
      "text/plain": [
       "Customer type  City     \n",
       "Member         Mandalay     2557.3660\n",
       "               Naypyitaw    2708.6325\n",
       "               Yangon       2554.1655\n",
       "Normal         Mandalay     2499.6660\n",
       "               Naypyitaw    2556.5440\n",
       "               Yangon       2502.9950\n",
       "Name: gross income, dtype: float64"
      ]
     },
     "execution_count": 72,
     "metadata": {},
     "output_type": "execute_result"
    }
   ],
   "source": [
    "## find the total  gross sale done by each customer type by each city \n",
    "df.groupby([\"Customer type\",\"City\"])[\"gross income\"].sum()"
   ]
  },
  {
   "cell_type": "code",
   "execution_count": 73,
   "id": "0e418efc",
   "metadata": {
    "execution": {
     "iopub.execute_input": "2023-01-16T20:36:13.558065Z",
     "iopub.status.busy": "2023-01-16T20:36:13.557642Z",
     "iopub.status.idle": "2023-01-16T20:36:14.011760Z",
     "shell.execute_reply": "2023-01-16T20:36:14.010564Z"
    },
    "papermill": {
     "duration": 0.502178,
     "end_time": "2023-01-16T20:36:14.014196",
     "exception": false,
     "start_time": "2023-01-16T20:36:13.512018",
     "status": "completed"
    },
    "tags": []
   },
   "outputs": [
    {
     "data": {
      "text/plain": [
       "<AxesSubplot:xlabel='City', ylabel='gross income'>"
      ]
     },
     "execution_count": 73,
     "metadata": {},
     "output_type": "execute_result"
    },
    {
     "data": {
      "image/png": "[encoded data removed]",
      "text/plain": [
       "<Figure size 432x288 with 1 Axes>"
      ]
     },
     "metadata": {
      "needs_background": "light"
     },
     "output_type": "display_data"
    }
   ],
   "source": [
    "sns.barplot(x=\"City\",y=\"gross income\",hue=\"Customer type\",estimator=sum,data=df)"
   ]
  },
  {
   "cell_type": "code",
   "execution_count": 74,
   "id": "dbff3a65",
   "metadata": {
    "execution": {
     "iopub.execute_input": "2023-01-16T20:36:14.106213Z",
     "iopub.status.busy": "2023-01-16T20:36:14.105736Z",
     "iopub.status.idle": "2023-01-16T20:36:14.117113Z",
     "shell.execute_reply": "2023-01-16T20:36:14.116149Z"
    },
    "papermill": {
     "duration": 0.059341,
     "end_time": "2023-01-16T20:36:14.119197",
     "exception": false,
     "start_time": "2023-01-16T20:36:14.059856",
     "status": "completed"
    },
    "tags": []
   },
   "outputs": [
    {
     "data": {
      "text/plain": [
       "City      Rating\n",
       "Mandalay  5.1       10\n",
       "          6.5       10\n",
       "          8.9       10\n",
       "          6.7        9\n",
       "          7.0        9\n",
       "                    ..\n",
       "Yangon    9.4        3\n",
       "          4.0        2\n",
       "          5.3        2\n",
       "          6.3        2\n",
       "          10.0       1\n",
       "Name: Rating, Length: 183, dtype: int64"
      ]
     },
     "execution_count": 74,
     "metadata": {},
     "output_type": "execute_result"
    }
   ],
   "source": [
    "## which City has highest rating \n",
    "df.groupby(\"City\")[\"Rating\"].value_counts()"
   ]
  },
  {
   "cell_type": "code",
   "execution_count": 75,
   "id": "4d0ecf58",
   "metadata": {
    "execution": {
     "iopub.execute_input": "2023-01-16T20:36:14.210337Z",
     "iopub.status.busy": "2023-01-16T20:36:14.209687Z",
     "iopub.status.idle": "2023-01-16T20:36:14.801567Z",
     "shell.execute_reply": "2023-01-16T20:36:14.800772Z"
    },
    "papermill": {
     "duration": 0.640435,
     "end_time": "2023-01-16T20:36:14.803906",
     "exception": false,
     "start_time": "2023-01-16T20:36:14.163471",
     "status": "completed"
    },
    "tags": []
   },
   "outputs": [
    {
     "data": {
      "image/png": "[encoded data removed]",
      "text/plain": [
       "<Figure size 432x288 with 1 Axes>"
      ]
     },
     "metadata": {
      "needs_background": "light"
     },
     "output_type": "display_data"
    }
   ],
   "source": [
    "sns.swarmplot(x=\"City\",y=\"Rating\",data=df);"
   ]
  },
  {
   "cell_type": "code",
   "execution_count": 76,
   "id": "4efa9de8",
   "metadata": {
    "execution": {
     "iopub.execute_input": "2023-01-16T20:36:14.900537Z",
     "iopub.status.busy": "2023-01-16T20:36:14.899768Z",
     "iopub.status.idle": "2023-01-16T20:36:14.914489Z",
     "shell.execute_reply": "2023-01-16T20:36:14.913430Z"
    },
    "papermill": {
     "duration": 0.064779,
     "end_time": "2023-01-16T20:36:14.916782",
     "exception": false,
     "start_time": "2023-01-16T20:36:14.852003",
     "status": "completed"
    },
    "tags": []
   },
   "outputs": [
    {
     "data": {
      "text/html": [
       "<div>\n",
       "<style scoped>\n",
       "    .dataframe tbody tr th:only-of-type {\n",
       "        vertical-align: middle;\n",
       "    }\n",
       "\n",
       "    .dataframe tbody tr th {\n",
       "        vertical-align: top;\n",
       "    }\n",
       "\n",
       "    .dataframe thead th {\n",
       "        text-align: right;\n",
       "    }\n",
       "</style>\n",
       "<table border=\"1\" class=\"dataframe\">\n",
       "  <thead>\n",
       "    <tr style=\"text-align: right;\">\n",
       "      <th></th>\n",
       "      <th>max</th>\n",
       "      <th>min</th>\n",
       "      <th>mean</th>\n",
       "    </tr>\n",
       "    <tr>\n",
       "      <th>Product line</th>\n",
       "      <th></th>\n",
       "      <th></th>\n",
       "      <th></th>\n",
       "    </tr>\n",
       "  </thead>\n",
       "  <tbody>\n",
       "    <tr>\n",
       "      <th>Electronic accessories</th>\n",
       "      <td>10.0</td>\n",
       "      <td>4.0</td>\n",
       "      <td>6.924706</td>\n",
       "    </tr>\n",
       "    <tr>\n",
       "      <th>Health and beauty</th>\n",
       "      <td>10.0</td>\n",
       "      <td>4.0</td>\n",
       "      <td>7.003289</td>\n",
       "    </tr>\n",
       "    <tr>\n",
       "      <th>Sports and travel</th>\n",
       "      <td>10.0</td>\n",
       "      <td>4.0</td>\n",
       "      <td>6.916265</td>\n",
       "    </tr>\n",
       "    <tr>\n",
       "      <th>Fashion accessories</th>\n",
       "      <td>9.9</td>\n",
       "      <td>4.0</td>\n",
       "      <td>7.029213</td>\n",
       "    </tr>\n",
       "    <tr>\n",
       "      <th>Food and beverages</th>\n",
       "      <td>9.9</td>\n",
       "      <td>4.0</td>\n",
       "      <td>7.113218</td>\n",
       "    </tr>\n",
       "    <tr>\n",
       "      <th>Home and lifestyle</th>\n",
       "      <td>9.9</td>\n",
       "      <td>4.1</td>\n",
       "      <td>6.837500</td>\n",
       "    </tr>\n",
       "  </tbody>\n",
       "</table>\n",
       "</div>"
      ],
      "text/plain": [
       "                         max  min      mean\n",
       "Product line                               \n",
       "Electronic accessories  10.0  4.0  6.924706\n",
       "Health and beauty       10.0  4.0  7.003289\n",
       "Sports and travel       10.0  4.0  6.916265\n",
       "Fashion accessories      9.9  4.0  7.029213\n",
       "Food and beverages       9.9  4.0  7.113218\n",
       "Home and lifestyle       9.9  4.1  6.837500"
      ]
     },
     "execution_count": 76,
     "metadata": {},
     "output_type": "execute_result"
    }
   ],
   "source": [
    "## find the product vise rating or which product most liked by customers\n",
    "df.groupby(\"Product line\")[\"Rating\"].agg([\"max\",\"min\",\"mean\"]).sort_values(by=\"max\",ascending=False)"
   ]
  },
  {
   "cell_type": "code",
   "execution_count": 77,
   "id": "0a7a51de",
   "metadata": {
    "execution": {
     "iopub.execute_input": "2023-01-16T20:36:15.012641Z",
     "iopub.status.busy": "2023-01-16T20:36:15.012224Z",
     "iopub.status.idle": "2023-01-16T20:36:15.032528Z",
     "shell.execute_reply": "2023-01-16T20:36:15.031462Z"
    },
    "papermill": {
     "duration": 0.071106,
     "end_time": "2023-01-16T20:36:15.034840",
     "exception": false,
     "start_time": "2023-01-16T20:36:14.963734",
     "status": "completed"
    },
    "tags": []
   },
   "outputs": [
    {
     "data": {
      "text/html": [
       "<div>\n",
       "<style scoped>\n",
       "    .dataframe tbody tr th:only-of-type {\n",
       "        vertical-align: middle;\n",
       "    }\n",
       "\n",
       "    .dataframe tbody tr th {\n",
       "        vertical-align: top;\n",
       "    }\n",
       "\n",
       "    .dataframe thead th {\n",
       "        text-align: right;\n",
       "    }\n",
       "</style>\n",
       "<table border=\"1\" class=\"dataframe\">\n",
       "  <thead>\n",
       "    <tr style=\"text-align: right;\">\n",
       "      <th></th>\n",
       "      <th></th>\n",
       "      <th>max</th>\n",
       "      <th>min</th>\n",
       "      <th>mean</th>\n",
       "    </tr>\n",
       "    <tr>\n",
       "      <th>Product line</th>\n",
       "      <th>City</th>\n",
       "      <th></th>\n",
       "      <th></th>\n",
       "      <th></th>\n",
       "    </tr>\n",
       "  </thead>\n",
       "  <tbody>\n",
       "    <tr>\n",
       "      <th>Electronic accessories</th>\n",
       "      <th>Mandalay</th>\n",
       "      <td>10.0</td>\n",
       "      <td>4.0</td>\n",
       "      <td>7.116364</td>\n",
       "    </tr>\n",
       "    <tr>\n",
       "      <th rowspan=\"2\" valign=\"top\">Sports and travel</th>\n",
       "      <th>Naypyitaw</th>\n",
       "      <td>10.0</td>\n",
       "      <td>4.0</td>\n",
       "      <td>7.028889</td>\n",
       "    </tr>\n",
       "    <tr>\n",
       "      <th>Mandalay</th>\n",
       "      <td>10.0</td>\n",
       "      <td>4.1</td>\n",
       "      <td>6.509677</td>\n",
       "    </tr>\n",
       "    <tr>\n",
       "      <th>Health and beauty</th>\n",
       "      <th>Yangon</th>\n",
       "      <td>10.0</td>\n",
       "      <td>4.2</td>\n",
       "      <td>6.900000</td>\n",
       "    </tr>\n",
       "    <tr>\n",
       "      <th>Food and beverages</th>\n",
       "      <th>Yangon</th>\n",
       "      <td>9.9</td>\n",
       "      <td>4.0</td>\n",
       "      <td>7.253448</td>\n",
       "    </tr>\n",
       "    <tr>\n",
       "      <th>Home and lifestyle</th>\n",
       "      <th>Yangon</th>\n",
       "      <td>9.9</td>\n",
       "      <td>4.1</td>\n",
       "      <td>6.930769</td>\n",
       "    </tr>\n",
       "    <tr>\n",
       "      <th rowspan=\"2\" valign=\"top\">Health and beauty</th>\n",
       "      <th>Naypyitaw</th>\n",
       "      <td>9.9</td>\n",
       "      <td>4.1</td>\n",
       "      <td>6.998077</td>\n",
       "    </tr>\n",
       "    <tr>\n",
       "      <th>Mandalay</th>\n",
       "      <td>9.9</td>\n",
       "      <td>4.0</td>\n",
       "      <td>7.100000</td>\n",
       "    </tr>\n",
       "    <tr>\n",
       "      <th rowspan=\"2\" valign=\"top\">Food and beverages</th>\n",
       "      <th>Naypyitaw</th>\n",
       "      <td>9.9</td>\n",
       "      <td>4.0</td>\n",
       "      <td>7.080303</td>\n",
       "    </tr>\n",
       "    <tr>\n",
       "      <th>Mandalay</th>\n",
       "      <td>9.9</td>\n",
       "      <td>4.0</td>\n",
       "      <td>6.994000</td>\n",
       "    </tr>\n",
       "    <tr>\n",
       "      <th rowspan=\"3\" valign=\"top\">Fashion accessories</th>\n",
       "      <th>Yangon</th>\n",
       "      <td>9.9</td>\n",
       "      <td>4.0</td>\n",
       "      <td>6.878431</td>\n",
       "    </tr>\n",
       "    <tr>\n",
       "      <th>Naypyitaw</th>\n",
       "      <td>9.9</td>\n",
       "      <td>4.0</td>\n",
       "      <td>7.440000</td>\n",
       "    </tr>\n",
       "    <tr>\n",
       "      <th>Mandalay</th>\n",
       "      <td>9.9</td>\n",
       "      <td>4.1</td>\n",
       "      <td>6.722581</td>\n",
       "    </tr>\n",
       "    <tr>\n",
       "      <th>Electronic accessories</th>\n",
       "      <th>Yangon</th>\n",
       "      <td>9.9</td>\n",
       "      <td>4.3</td>\n",
       "      <td>6.911667</td>\n",
       "    </tr>\n",
       "    <tr>\n",
       "      <th>Sports and travel</th>\n",
       "      <th>Yangon</th>\n",
       "      <td>9.9</td>\n",
       "      <td>4.1</td>\n",
       "      <td>7.257627</td>\n",
       "    </tr>\n",
       "    <tr>\n",
       "      <th>Electronic accessories</th>\n",
       "      <th>Naypyitaw</th>\n",
       "      <td>9.8</td>\n",
       "      <td>4.1</td>\n",
       "      <td>6.747273</td>\n",
       "    </tr>\n",
       "    <tr>\n",
       "      <th rowspan=\"2\" valign=\"top\">Home and lifestyle</th>\n",
       "      <th>Mandalay</th>\n",
       "      <td>9.8</td>\n",
       "      <td>4.1</td>\n",
       "      <td>6.516000</td>\n",
       "    </tr>\n",
       "    <tr>\n",
       "      <th>Naypyitaw</th>\n",
       "      <td>9.8</td>\n",
       "      <td>4.3</td>\n",
       "      <td>7.060000</td>\n",
       "    </tr>\n",
       "  </tbody>\n",
       "</table>\n",
       "</div>"
      ],
      "text/plain": [
       "                                   max  min      mean\n",
       "Product line           City                          \n",
       "Electronic accessories Mandalay   10.0  4.0  7.116364\n",
       "Sports and travel      Naypyitaw  10.0  4.0  7.028889\n",
       "                       Mandalay   10.0  4.1  6.509677\n",
       "Health and beauty      Yangon     10.0  4.2  6.900000\n",
       "Food and beverages     Yangon      9.9  4.0  7.253448\n",
       "Home and lifestyle     Yangon      9.9  4.1  6.930769\n",
       "Health and beauty      Naypyitaw   9.9  4.1  6.998077\n",
       "                       Mandalay    9.9  4.0  7.100000\n",
       "Food and beverages     Naypyitaw   9.9  4.0  7.080303\n",
       "                       Mandalay    9.9  4.0  6.994000\n",
       "Fashion accessories    Yangon      9.9  4.0  6.878431\n",
       "                       Naypyitaw   9.9  4.0  7.440000\n",
       "                       Mandalay    9.9  4.1  6.722581\n",
       "Electronic accessories Yangon      9.9  4.3  6.911667\n",
       "Sports and travel      Yangon      9.9  4.1  7.257627\n",
       "Electronic accessories Naypyitaw   9.8  4.1  6.747273\n",
       "Home and lifestyle     Mandalay    9.8  4.1  6.516000\n",
       "                       Naypyitaw   9.8  4.3  7.060000"
      ]
     },
     "execution_count": 77,
     "metadata": {},
     "output_type": "execute_result"
    }
   ],
   "source": [
    "## which product most liked by customers by city\n",
    "df.groupby([\"Product line\",\"City\"])[\"Rating\"].agg([\"max\",\"min\",\"mean\"]).sort_values(by=\"max\",ascending=False)"
   ]
  },
  {
   "cell_type": "code",
   "execution_count": 78,
   "id": "db232dcd",
   "metadata": {
    "execution": {
     "iopub.execute_input": "2023-01-16T20:36:15.131004Z",
     "iopub.status.busy": "2023-01-16T20:36:15.130232Z",
     "iopub.status.idle": "2023-01-16T20:36:15.996660Z",
     "shell.execute_reply": "2023-01-16T20:36:15.995826Z"
    },
    "papermill": {
     "duration": 0.916804,
     "end_time": "2023-01-16T20:36:15.999022",
     "exception": false,
     "start_time": "2023-01-16T20:36:15.082218",
     "status": "completed"
    },
    "tags": []
   },
   "outputs": [
    {
     "data": {
      "text/plain": [
       "<AxesSubplot:xlabel='City', ylabel='Rating'>"
      ]
     },
     "execution_count": 78,
     "metadata": {},
     "output_type": "execute_result"
    },
    {
     "data": {
      "image/png": "[encoded data removed]",
      "text/plain": [
       "<Figure size 432x288 with 1 Axes>"
      ]
     },
     "metadata": {
      "needs_background": "light"
     },
     "output_type": "display_data"
    }
   ],
   "source": [
    "sns.barplot(x=\"City\",y=\"Rating\",hue=\"Product line\",data=df,estimator=max)"
   ]
  },
  {
   "cell_type": "code",
   "execution_count": 79,
   "id": "6f3468fe",
   "metadata": {
    "execution": {
     "iopub.execute_input": "2023-01-16T20:36:16.096278Z",
     "iopub.status.busy": "2023-01-16T20:36:16.095856Z",
     "iopub.status.idle": "2023-01-16T20:36:16.104990Z",
     "shell.execute_reply": "2023-01-16T20:36:16.103869Z"
    },
    "papermill": {
     "duration": 0.059859,
     "end_time": "2023-01-16T20:36:16.107088",
     "exception": false,
     "start_time": "2023-01-16T20:36:16.047229",
     "status": "completed"
    },
    "tags": []
   },
   "outputs": [
    {
     "data": {
      "text/plain": [
       "Ewallet        345\n",
       "Cash           344\n",
       "Credit card    311\n",
       "Name: Payment, dtype: int64"
      ]
     },
     "execution_count": 79,
     "metadata": {},
     "output_type": "execute_result"
    }
   ],
   "source": [
    "## find the number of ewallet, credit cards and cash paying customers\n",
    "df[\"Payment\"].value_counts()\n"
   ]
  },
  {
   "cell_type": "code",
   "execution_count": 80,
   "id": "a07beef9",
   "metadata": {
    "execution": {
     "iopub.execute_input": "2023-01-16T20:36:16.205310Z",
     "iopub.status.busy": "2023-01-16T20:36:16.204867Z",
     "iopub.status.idle": "2023-01-16T20:36:16.405494Z",
     "shell.execute_reply": "2023-01-16T20:36:16.404338Z"
    },
    "papermill": {
     "duration": 0.253382,
     "end_time": "2023-01-16T20:36:16.407998",
     "exception": false,
     "start_time": "2023-01-16T20:36:16.154616",
     "status": "completed"
    },
    "tags": []
   },
   "outputs": [
    {
     "data": {
      "text/plain": [
       "<AxesSubplot:xlabel='Payment', ylabel='count'>"
      ]
     },
     "execution_count": 80,
     "metadata": {},
     "output_type": "execute_result"
    },
    {
     "data": {
      "image/png": "[encoded data removed]",
      "text/plain": [
       "<Figure size 432x288 with 1 Axes>"
      ]
     },
     "metadata": {
      "needs_background": "light"
     },
     "output_type": "display_data"
    }
   ],
   "source": [
    "sns.countplot(x=\"Payment\",data=df)"
   ]
  },
  {
   "cell_type": "code",
   "execution_count": 81,
   "id": "63d14ace",
   "metadata": {
    "execution": {
     "iopub.execute_input": "2023-01-16T20:36:16.508529Z",
     "iopub.status.busy": "2023-01-16T20:36:16.508102Z",
     "iopub.status.idle": "2023-01-16T20:36:16.518712Z",
     "shell.execute_reply": "2023-01-16T20:36:16.517852Z"
    },
    "papermill": {
     "duration": 0.063312,
     "end_time": "2023-01-16T20:36:16.520949",
     "exception": false,
     "start_time": "2023-01-16T20:36:16.457637",
     "status": "completed"
    },
    "tags": []
   },
   "outputs": [
    {
     "data": {
      "text/plain": [
       "Customer type  Payment    \n",
       "Member         Credit card    172\n",
       "               Cash           168\n",
       "               Ewallet        161\n",
       "Normal         Ewallet        184\n",
       "               Cash           176\n",
       "               Credit card    139\n",
       "Name: Payment, dtype: int64"
      ]
     },
     "execution_count": 81,
     "metadata": {},
     "output_type": "execute_result"
    }
   ],
   "source": [
    "## find the number of ewallet, credit cards and cash paying customers types\n",
    "df.groupby(\"Customer type\")[\"Payment\"].value_counts()"
   ]
  },
  {
   "cell_type": "code",
   "execution_count": 82,
   "id": "0e3c3261",
   "metadata": {
    "execution": {
     "iopub.execute_input": "2023-01-16T20:36:16.619969Z",
     "iopub.status.busy": "2023-01-16T20:36:16.618920Z",
     "iopub.status.idle": "2023-01-16T20:36:16.857840Z",
     "shell.execute_reply": "2023-01-16T20:36:16.856756Z"
    },
    "papermill": {
     "duration": 0.290808,
     "end_time": "2023-01-16T20:36:16.860464",
     "exception": false,
     "start_time": "2023-01-16T20:36:16.569656",
     "status": "completed"
    },
    "tags": []
   },
   "outputs": [
    {
     "data": {
      "text/plain": [
       "<AxesSubplot:xlabel='Customer type', ylabel='count'>"
      ]
     },
     "execution_count": 82,
     "metadata": {},
     "output_type": "execute_result"
    },
    {
     "data": {
      "image/png": "[encoded data removed]",
      "text/plain": [
       "<Figure size 432x288 with 1 Axes>"
      ]
     },
     "metadata": {
      "needs_background": "light"
     },
     "output_type": "display_data"
    }
   ],
   "source": [
    "sns.countplot(x=\"Customer type\",hue=\"Payment\",data=df)"
   ]
  },
  {
   "cell_type": "code",
   "execution_count": 83,
   "id": "a8fe399d",
   "metadata": {
    "execution": {
     "iopub.execute_input": "2023-01-16T20:36:16.958697Z",
     "iopub.status.busy": "2023-01-16T20:36:16.958270Z",
     "iopub.status.idle": "2023-01-16T20:36:16.968938Z",
     "shell.execute_reply": "2023-01-16T20:36:16.967919Z"
    },
    "papermill": {
     "duration": 0.061975,
     "end_time": "2023-01-16T20:36:16.971028",
     "exception": false,
     "start_time": "2023-01-16T20:36:16.909053",
     "status": "completed"
    },
    "tags": []
   },
   "outputs": [
    {
     "data": {
      "text/plain": [
       "City       Payment    \n",
       "Yangon     Ewallet        126\n",
       "Naypyitaw  Cash           124\n",
       "Mandalay   Ewallet        113\n",
       "           Cash           110\n",
       "Yangon     Cash           110\n",
       "Mandalay   Credit card    109\n",
       "Naypyitaw  Ewallet        106\n",
       "Yangon     Credit card    104\n",
       "Naypyitaw  Credit card     98\n",
       "Name: Payment, dtype: int64"
      ]
     },
     "execution_count": 83,
     "metadata": {},
     "output_type": "execute_result"
    }
   ],
   "source": [
    "## find the number of ewallet, credit cards and cash paying customers at each city \n",
    "df.groupby(\"City\")[\"Payment\"].value_counts().sort_values(ascending=False)"
   ]
  },
  {
   "cell_type": "code",
   "execution_count": 84,
   "id": "2f6b690d",
   "metadata": {
    "execution": {
     "iopub.execute_input": "2023-01-16T20:36:17.069440Z",
     "iopub.status.busy": "2023-01-16T20:36:17.068599Z",
     "iopub.status.idle": "2023-01-16T20:36:17.327564Z",
     "shell.execute_reply": "2023-01-16T20:36:17.326306Z"
    },
    "papermill": {
     "duration": 0.310196,
     "end_time": "2023-01-16T20:36:17.330057",
     "exception": false,
     "start_time": "2023-01-16T20:36:17.019861",
     "status": "completed"
    },
    "tags": []
   },
   "outputs": [
    {
     "data": {
      "text/plain": [
       "<AxesSubplot:xlabel='Payment', ylabel='count'>"
      ]
     },
     "execution_count": 84,
     "metadata": {},
     "output_type": "execute_result"
    },
    {
     "data": {
      "image/png": "[encoded data removed]",
      "text/plain": [
       "<Figure size 432x288 with 1 Axes>"
      ]
     },
     "metadata": {
      "needs_background": "light"
     },
     "output_type": "display_data"
    }
   ],
   "source": [
    "sns.countplot(x=\"Payment\",hue=\"City\",data=df)"
   ]
  },
  {
   "cell_type": "code",
   "execution_count": 85,
   "id": "aabd33cb",
   "metadata": {
    "execution": {
     "iopub.execute_input": "2023-01-16T20:36:17.430028Z",
     "iopub.status.busy": "2023-01-16T20:36:17.429603Z",
     "iopub.status.idle": "2023-01-16T20:36:17.437696Z",
     "shell.execute_reply": "2023-01-16T20:36:17.436957Z"
    },
    "papermill": {
     "duration": 0.060413,
     "end_time": "2023-01-16T20:36:17.439877",
     "exception": false,
     "start_time": "2023-01-16T20:36:17.379464",
     "status": "completed"
    },
    "tags": []
   },
   "outputs": [
    {
     "data": {
      "text/plain": [
       "Customer type\n",
       "Member    7820.164\n",
       "Normal    7559.205\n",
       "Name: gross income, dtype: float64"
      ]
     },
     "execution_count": 85,
     "metadata": {},
     "output_type": "execute_result"
    }
   ],
   "source": [
    "## which type of payers leads to more sale\n",
    "df.groupby(\"Customer type\")[\"gross income\"].sum()"
   ]
  },
  {
   "cell_type": "code",
   "execution_count": 86,
   "id": "9f2a28a3",
   "metadata": {
    "execution": {
     "iopub.execute_input": "2023-01-16T20:36:17.539884Z",
     "iopub.status.busy": "2023-01-16T20:36:17.539183Z",
     "iopub.status.idle": "2023-01-16T20:36:17.865524Z",
     "shell.execute_reply": "2023-01-16T20:36:17.864347Z"
    },
    "papermill": {
     "duration": 0.379643,
     "end_time": "2023-01-16T20:36:17.868179",
     "exception": false,
     "start_time": "2023-01-16T20:36:17.488536",
     "status": "completed"
    },
    "tags": []
   },
   "outputs": [
    {
     "data": {
      "text/plain": [
       "<AxesSubplot:xlabel='Customer type', ylabel='gross income'>"
      ]
     },
     "execution_count": 86,
     "metadata": {},
     "output_type": "execute_result"
    },
    {
     "data": {
      "image/png": "[encoded data removed]",
      "text/plain": [
       "<Figure size 432x288 with 1 Axes>"
      ]
     },
     "metadata": {
      "needs_background": "light"
     },
     "output_type": "display_data"
    }
   ],
   "source": [
    "sns.barplot(x=\"Customer type\",y=\"gross income\",data=df,estimator=sum)"
   ]
  },
  {
   "cell_type": "markdown",
   "id": "69461b4c",
   "metadata": {
    "papermill": {
     "duration": 0.048168,
     "end_time": "2023-01-16T20:36:17.965645",
     "exception": false,
     "start_time": "2023-01-16T20:36:17.917477",
     "status": "completed"
    },
    "tags": []
   },
   "source": [
    "# Insights\n",
    "\n",
    "* Data refer to the month of january february and march\n",
    "* While the most shopping was done in January,Gross income was highest in this month\n",
    "* There are almost 50% Members and 50% normal buyers\n",
    "* Fashion accessories are most populated \n",
    "* Yangon has the most customers but Naypyitaw is the city that makes the most Gross income\n",
    "* Mandalay and Yangon has almost the same Gross income.\n",
    "* Shopping done by women were more than men .\n",
    "* Food and beverages are most bought by the Members whereas Electronic accessories were most bought by the Normal\n",
    "* Food and beverages product line has the maximum gross income \n",
    "* E-wallet were the preferred payment method where as there was only slightly difference between E-walled and cash payment.\n",
    "* While members usually pay by credit card, normal customers shop with e-wallets.\n",
    "* Men generally buy more health and beauty products\n",
    "* Women generally Fashion accessories \n",
    "* Saturday was the highest gross income day\n",
    "* Weekdays has more Gross income than weekends\n",
    "* Weekdays of Naypyitaw city has more gross income than other 3 states\n",
    "* 7:00 pm was the peak time for the company\n",
    "* 65.9 % Customers had given below 7 star rating Which will impact the business\n",
    "* Only 0.5 % customers had given 10 star rating which is way too less"
   ]
  },
  {
   "cell_type": "code",
   "execution_count": null,
   "id": "8bb25fd6",
   "metadata": {
    "papermill": {
     "duration": 0.048233,
     "end_time": "2023-01-16T20:36:18.062607",
     "exception": false,
     "start_time": "2023-01-16T20:36:18.014374",
     "status": "completed"
    },
    "tags": []
   },
   "outputs": [],
   "source": []
  }
 ],
 "metadata": {
  "kernelspec": {
   "display_name": "Python 3",
   "language": "python",
   "name": "python3"
  },
  "language_info": {
   "codemirror_mode": {
    "name": "ipython",
    "version": 3
   },
   "file_extension": ".py",
   "mimetype": "text/x-python",
   "name": "python",
   "nbconvert_exporter": "python",
   "pygments_lexer": "ipython3",
   "version": "3.7.12"
  },
  "papermill": {
   "default_parameters": {},
   "duration": 33.459359,
   "end_time": "2023-01-16T20:36:18.933626",
   "environment_variables": {},
   "exception": null,
   "input_path": "__notebook__.ipynb",
   "output_path": "__notebook__.ipynb",
   "parameters": {},
   "start_time": "2023-01-16T20:35:45.474267",
   "version": "2.3.4"
  }
 },
 "nbformat": 4,
 "nbformat_minor": 5
}
